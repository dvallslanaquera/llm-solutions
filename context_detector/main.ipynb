{
 "cells": [
  {
   "cell_type": "markdown",
   "metadata": {},
   "source": [
    "Original code: \n",
    "https://towardsdatascience.com/multi-class-text-classification-with-deep-learning-using-bert-b59ca2f5c613"
   ]
  },
  {
   "cell_type": "code",
   "execution_count": 1,
   "metadata": {},
   "outputs": [],
   "source": [
    "# !pip uninstall torch torchvision torchaudio\n",
    "# !pip install torch torchvision torchaudio --index-url https://download.pytorch.org/whl/cu118\n",
    "# !pip install matplotlib"
   ]
  },
  {
   "cell_type": "code",
   "execution_count": 4,
   "metadata": {},
   "outputs": [
    {
     "name": "stderr",
     "output_type": "stream",
     "text": [
      "c:\\Users\\hp\\Desktop\\context_detector\\env\\lib\\site-packages\\torch\\cuda\\memory.py:330: FutureWarning: torch.cuda.reset_max_memory_allocated now calls torch.cuda.reset_peak_memory_stats, which resets /all/ peak memory stats.\n",
      "  warnings.warn(\n",
      "c:\\Users\\hp\\Desktop\\context_detector\\env\\lib\\site-packages\\torch\\cuda\\memory.py:356: FutureWarning: torch.cuda.reset_max_memory_cached now calls torch.cuda.reset_peak_memory_stats, which resets /all/ peak memory stats.\n",
      "  warnings.warn(\n"
     ]
    }
   ],
   "source": [
    "import gc\n",
    "import torch\n",
    "\n",
    "# Clear CUDA cache function\n",
    "def clear_cuda_cache():\n",
    "    torch.cuda.empty_cache()\n",
    "    torch.cuda.reset_max_memory_allocated()\n",
    "    torch.cuda.reset_max_memory_cached()\n",
    "    gc.collect()\n",
    "\n",
    "clear_cuda_cache()"
   ]
  },
  {
   "cell_type": "code",
   "execution_count": 5,
   "metadata": {},
   "outputs": [
    {
     "name": "stderr",
     "output_type": "stream",
     "text": [
      "c:\\Users\\hp\\Desktop\\context_detector\\env\\lib\\site-packages\\tqdm\\auto.py:21: TqdmWarning: IProgress not found. Please update jupyter and ipywidgets. See https://ipywidgets.readthedocs.io/en/stable/user_install.html\n",
      "  from .autonotebook import tqdm as notebook_tqdm\n"
     ]
    }
   ],
   "source": [
    "import os\n",
    "import pandas as pd \n",
    "import random\n",
    "import numpy as np\n",
    "import matplotlib.pyplot as plt\n",
    "from tqdm import tqdm\n",
    "\n",
    "import torch\n",
    "from torch.utils.data import TensorDataset, DataLoader, RandomSampler, SequentialSampler\n",
    "from transformers import DistilBertTokenizer, DistilBertForSequenceClassification, AdamW, get_linear_schedule_with_warmup\n",
    "from sklearn.metrics import f1_score, accuracy_score\n",
    "from sklearn.model_selection import train_test_split\n",
    "import nlpaug.augmenter.word as naw\n",
    "\n",
    "# Check torch and CUDA versions\n",
    "print(torch.__version__)  # Should display the version of PyTorch with CUDA support\n",
    "print(torch.version.cuda)  # Should display the CUDA version\n",
    "print(torch.backends.cudnn.version())  # Should display the cuDNN version\n",
    "print(torch.cuda.is_available())  # Should return True if CUDA is available\n",
    "\n",
    "\n",
    "# Set global variables and tokenizer parameters\n",
    "SUBSAMPLE = False\n",
    "SEED = 42\n",
    "LR = 1e-5\n",
    "PLOT_EDA = False\n",
    "batch_size = 16\n",
    "epochs = 5\n",
    "\n",
    "tokenizer_params = {\n",
    "    'add_special_tokens': True,     # adds [CLS] and [SEP] tags\n",
    "    'return_attention_mask': True,  # useful for distinguishing between actual data and padding\n",
    "    'pad_to_max_length': True,      # to ensure all sequences have the same length\n",
    "    'truncation': True,\n",
    "    'max_length': 128,  #256             # set the maximum length for sequences\n",
    "    'return_tensors': 'pt'          # use 'pt' when using PyTorch, 'tf' for TensorFlow\n",
    "}\n",
    "\n",
    "# Load data \n",
    "print(\"Loading raw data...\")\n",
    "data = pd.read_csv('consumer_complaints.csv')\n",
    "data = data[['product', 'consumer_complaint_narrative']]\n",
    "\n",
    "### PREPROCESSING\n",
    "# Drop rows with all columns missing and underrepresented categories\n",
    "data = data.dropna()\n",
    "categories_to_drop = ['Consumer Loan', \n",
    "                    'Bank account or service',\n",
    "                    'Student loan', \n",
    "                    'Prepaid card',\n",
    "                    'Payday loan', \n",
    "                    'Money transfers', \n",
    "                    'Other financial service']\n",
    "data = data[~data['product'].isin(categories_to_drop)]\n",
    "\n",
    "# Sub-sample to speed up the training process \n",
    "if SUBSAMPLE: \n",
    "    data = data.sample(frac=0.25, random_state=SEED)\n",
    "\n",
    "if PLOT_EDA: \n",
    "    # EDA plots\n",
    "    # 1. Create a histogram with the word count for the column 'consumer_complaint_narrative'\n",
    "    data['narrative_word_count'] = data['consumer_complaint_narrative'].apply(lambda x: len(str(x).split()))\n",
    "\n",
    "    plt.figure(figsize=(10, 6))\n",
    "    plt.hist(data['narrative_word_count'], bins=30, edgecolor='k', alpha=0.7)\n",
    "    plt.title('Histogram of Word Count in Consumer Complaint Narratives')\n",
    "    plt.xlabel('Word Count')\n",
    "    plt.ylabel('Frequency')\n",
    "    plt.grid(axis='y', alpha=0.75)\n",
    "    plt.show()\n",
    "\n",
    "    # 2. Create a barplot counting each unique value in the column 'issue'\n",
    "    issue_counts = data['product'].value_counts()\n",
    "\n",
    "    plt.figure(figsize=(12, 8))\n",
    "    issue_counts.plot(kind='bar', color='skyblue', edgecolor='k', alpha=0.7)\n",
    "    plt.title('Barplot of Issues in Consumer Complaints')\n",
    "    plt.xlabel('Product')\n",
    "    plt.ylabel('Count')\n",
    "    plt.xticks(rotation=90)\n",
    "    plt.grid(axis='y', alpha=0.75)\n",
    "    plt.show()\n",
    "\n",
    "\n",
    "# Encoding labels\n",
    "labels_ = data['product'].unique()\n",
    "label_dict = {}\n",
    "for idx, labels_ in enumerate(labels_):\n",
    "    label_dict[labels_] = idx\n",
    "\n",
    "# Encode product labels\n",
    "data['label'] = data['product'].replace(label_dict)\n",
    "\n",
    "# Train-test split\n",
    "X_train, X_val, y_train, y_val = train_test_split(\n",
    "    data.index.values,\n",
    "    data['label'].values,\n",
    "    test_size = 0.2,\n",
    "    random_state=SEED,\n",
    "    stratify = data['label'])\n",
    "\n",
    "# Define data type in the original dataset\n",
    "data['data_type'] = ['not_set'] * data.shape[0]\n",
    "data.loc[X_train, 'data_type'] = 'train'\n",
    "data.loc[X_val, 'data_type'] = 'val'\n",
    "\n",
    "print('Loading tokenizer')\n",
    "# Load tokenizer\n",
    "tokenizer = DistilBertTokenizer.from_pretrained('bert-base-uncased',   # model name\n",
    "                                          do_lower_case=True)    # convert to lowercase\n",
    "\n",
    "print('format')\n",
    "print(data[data.data_type=='train']['consumer_complaint_narrative'].values)\n",
    "\n",
    "encoded_data_train = tokenizer.batch_encode_plus(\n",
    "    data[data.data_type=='train']['consumer_complaint_narrative'].values,\n",
    "    **tokenizer_params\n",
    ")\n",
    "\n",
    "encoded_data_val = tokenizer.batch_encode_plus(\n",
    "    data[data.data_type=='val']['consumer_complaint_narrative'].values,\n",
    "    **tokenizer_params\n",
    ")\n",
    "\n",
    "print('Extracting tokens...')\n",
    "# Extract token input IDs and attention masks\n",
    "input_ids_train = encoded_data_train['input_ids']\n",
    "attention_masks_train = encoded_data_train['attention_mask']\n",
    "\n",
    "# Convert labels into tensors\n",
    "labels_train = torch.tensor(data[data.data_type=='train']['label'].values)\n",
    "\n",
    "# Repeat process for validation data\n",
    "input_ids_val = encoded_data_val['input_ids']\n",
    "attention_masks_val = encoded_data_val['attention_mask']\n",
    "labels_val = torch.tensor(data[data.data_type=='val']['label'].values)\n",
    "\n",
    "# Create tensor \n",
    "dataset_train = TensorDataset(input_ids_train, attention_masks_train, labels_train)\n",
    "dataset_val = TensorDataset(input_ids_val, attention_masks_val, labels_val)\n",
    "\n",
    "print(\"Load model...\")\n",
    "# lOAD PRE-TRAINED MODEL \n",
    "model = DistilBertForSequenceClassification.from_pretrained(\"distilbert-base-uncased\",\n",
    "                                                      num_labels=len(label_dict),\n",
    "                                                      output_attentions=False,\n",
    "                                                      output_hidden_states=False)\n",
    "\n",
    "\n",
    "dataloader_train = DataLoader(dataset_train,\n",
    "                              sampler=RandomSampler(dataset_train),\n",
    "                              batch_size=batch_size)\n",
    "\n",
    "dataloader_validation = DataLoader(dataset_val,\n",
    "                                   sampler=SequentialSampler(dataset_val),\n",
    "                                   batch_size=batch_size)\n",
    "\n",
    "# AdamW for Adam optimization with Weight decay\n",
    "optimizer = AdamW(model.parameters(),\n",
    "                  lr=LR,   \n",
    "                  eps=1e-8)\n",
    "\n",
    "scheduler = get_linear_schedule_with_warmup(optimizer,\n",
    "                                            num_warmup_steps=100,\n",
    "                                            num_training_steps=len(dataloader_train)*epochs)\n"
   ]
  },
  {
   "cell_type": "code",
   "execution_count": null,
   "metadata": {},
   "outputs": [],
   "source": [
    "# Define accuracy functions\n",
    "def f1_score_func(preds, labels):\n",
    "    preds_flat = np.argmax(preds, axis=1).flatten()\n",
    "    labels_flat = labels.flatten()\n",
    "    return f1_score(labels_flat, preds_flat, average='weighted')\n",
    "\n",
    "def accuracy_per_class(preds, labels):\n",
    "    label_dict_inverse = {v: k for k, v in label_dict.items()}\n",
    "\n",
    "    preds_flat = np.argmax(preds, axis=1).flatten()\n",
    "    labels_flat = labels.flatten()\n",
    "\n",
    "    for label in np.unique(labels_flat):\n",
    "        y_preds = preds_flat[labels_flat==label]\n",
    "        y_true = labels_flat[labels_flat==label]\n",
    "        print(f'Class: {label_dict_inverse[label]}')\n",
    "        print(f'Accuracy: {len(y_preds[y_preds==label])}/{len(y_true)}\\n')\n",
    "\n",
    "def accuracy_func(preds, labels):\n",
    "    preds_flat = np.argmax(preds, axis=1).flatten()\n",
    "    labels_flat = labels.flatten()\n",
    "    return accuracy_score(labels_flat, preds_flat)"
   ]
  },
  {
   "cell_type": "code",
   "execution_count": null,
   "metadata": {},
   "outputs": [
    {
     "name": "stdout",
     "output_type": "stream",
     "text": [
      "F1 Score: 0.12497114647304253\n",
      "Class: Debt collection\n",
      "Accuracy: 0/889\n",
      "\n",
      "Class: Mortgage\n",
      "Accuracy: 735/736\n",
      "\n",
      "Class: Credit card\n",
      "Accuracy: 3/402\n",
      "\n",
      "Class: Credit reporting\n",
      "Accuracy: 2/620\n",
      "\n",
      "Initial Accuracy (Before Fine-tuning): 0.2795617680392898\n"
     ]
    }
   ],
   "source": [
    "### CREATE BENCHMARK USING A ZERO-SHOT MODEL \n",
    "def evaluate(model, dataloader):\n",
    "    model.eval()\n",
    "    preds, true_vals = [], []\n",
    "    for batch in dataloader:\n",
    "        batch = tuple(b.to(device) for b in batch)\n",
    "        inputs = {\n",
    "            'input_ids': batch[0],\n",
    "            'attention_mask': batch[1],\n",
    "            'labels': batch[2]\n",
    "        }\n",
    "        with torch.no_grad():\n",
    "            outputs = model(**inputs)\n",
    "        preds.append(outputs.logits.detach().cpu().numpy())\n",
    "        true_vals.append(inputs['labels'].detach().cpu().numpy())\n",
    "    \n",
    "    preds = np.concatenate(preds, axis=0)\n",
    "    true_vals = np.concatenate(true_vals, axis=0)\n",
    "    return preds, true_vals\n",
    "\n",
    "# Load the model and data on the device\n",
    "device = torch.device('cuda' if torch.cuda.is_available() else 'cpu')\n",
    "model.to(device)\n",
    "\n",
    "# Initial evaluation on validation set\n",
    "initial_preds, initial_true_vals = evaluate(model, dataloader_validation)\n",
    "initial_f1_score = f1_score_func(initial_preds, initial_true_vals)\n",
    "print(f'F1 Score: {initial_f1_score}')\n",
    "accuracy_per_class(initial_preds, initial_true_vals)\n",
    "\n",
    "\n",
    "initial_preds, initial_true_vals = evaluate(model, dataloader_validation)\n",
    "initial_accuracy = accuracy_func(initial_preds, initial_true_vals)\n",
    "print(f'Initial Accuracy (Before Fine-tuning): {initial_accuracy}')"
   ]
  },
  {
   "cell_type": "code",
   "execution_count": null,
   "metadata": {},
   "outputs": [
    {
     "name": "stdout",
     "output_type": "stream",
     "text": [
      "Starting model training...\n"
     ]
    },
    {
     "name": "stderr",
     "output_type": "stream",
     "text": [
      "  0%|          | 0/5 [03:03<?, ?it/s]"
     ]
    },
    {
     "name": "stdout",
     "output_type": "stream",
     "text": [
      "\n",
      "Epoch 1\n",
      "Training loss: 0.5199072419105554\n"
     ]
    },
    {
     "name": "stderr",
     "output_type": "stream",
     "text": [
      " 20%|██        | 1/5 [03:14<12:59, 194.95s/it]"
     ]
    },
    {
     "name": "stdout",
     "output_type": "stream",
     "text": [
      "Validation loss: 0.39405947710334693\n",
      "F1 Score (Weighted): 0.8864404857768816\n",
      "Accuracy: 0.8866641480921799\n"
     ]
    },
    {
     "name": "stderr",
     "output_type": "stream",
     "text": [
      " 20%|██        | 1/5 [06:17<12:59, 194.95s/it]"
     ]
    },
    {
     "name": "stdout",
     "output_type": "stream",
     "text": [
      "\n",
      "Epoch 2\n",
      "Training loss: 0.2818589627398028\n"
     ]
    },
    {
     "name": "stderr",
     "output_type": "stream",
     "text": [
      " 40%|████      | 2/5 [06:29<09:44, 194.84s/it]"
     ]
    },
    {
     "name": "stdout",
     "output_type": "stream",
     "text": [
      "Validation loss: 0.4005648374329058\n",
      "F1 Score (Weighted): 0.8963153687242554\n",
      "Accuracy: 0.8968643747638836\n"
     ]
    },
    {
     "name": "stderr",
     "output_type": "stream",
     "text": [
      " 40%|████      | 2/5 [09:32<09:44, 194.84s/it]"
     ]
    },
    {
     "name": "stdout",
     "output_type": "stream",
     "text": [
      "\n",
      "Epoch 3\n",
      "Training loss: 0.19576745001534115\n"
     ]
    },
    {
     "name": "stderr",
     "output_type": "stream",
     "text": [
      " 60%|██████    | 3/5 [09:44<06:29, 194.79s/it]"
     ]
    },
    {
     "name": "stdout",
     "output_type": "stream",
     "text": [
      "Validation loss: 0.42825636858349\n",
      "F1 Score (Weighted): 0.8974206772945613\n",
      "Accuracy: 0.8976199471099358\n"
     ]
    },
    {
     "name": "stderr",
     "output_type": "stream",
     "text": [
      " 60%|██████    | 3/5 [12:49<06:29, 194.79s/it]"
     ]
    },
    {
     "name": "stdout",
     "output_type": "stream",
     "text": [
      "\n",
      "Epoch 4\n",
      "Training loss: 0.1246876636758795\n"
     ]
    },
    {
     "name": "stderr",
     "output_type": "stream",
     "text": [
      " 80%|████████  | 4/5 [13:00<03:15, 195.37s/it]"
     ]
    },
    {
     "name": "stdout",
     "output_type": "stream",
     "text": [
      "Validation loss: 0.5305367338409612\n",
      "F1 Score (Weighted): 0.8978599563894261\n",
      "Accuracy: 0.8979977332829618\n"
     ]
    },
    {
     "name": "stderr",
     "output_type": "stream",
     "text": [
      " 80%|████████  | 4/5 [15:59<03:15, 195.37s/it]"
     ]
    },
    {
     "name": "stdout",
     "output_type": "stream",
     "text": [
      "\n",
      "Epoch 5\n",
      "Training loss: 0.08573310245239599\n"
     ]
    },
    {
     "name": "stderr",
     "output_type": "stream",
     "text": [
      "100%|██████████| 5/5 [16:11<00:00, 194.26s/it]\n"
     ]
    },
    {
     "name": "stdout",
     "output_type": "stream",
     "text": [
      "Validation loss: 0.5378467668552953\n",
      "F1 Score (Weighted): 0.8963541599122408\n",
      "Accuracy: 0.8964865885908576\n"
     ]
    },
    {
     "data": {
      "image/png": "[encoded data removed]",
      "text/plain": [
       "<Figure size 1000x500 with 1 Axes>"
      ]
     },
     "metadata": {},
     "output_type": "display_data"
    }
   ],
   "source": [
    "random.seed(SEED)\n",
    "np.random.seed(SEED)\n",
    "torch.manual_seed(SEED)\n",
    "torch.cuda.manual_seed_all(SEED)\n",
    "\n",
    "device = torch.device('cuda' if torch.cuda.is_available() else 'cpu')\n",
    "\n",
    "print(\"Starting model training...\")\n",
    "# Move model to device\n",
    "model.to(device)\n",
    "\n",
    "def accuracy_func(preds, labels):\n",
    "    preds_flat = np.argmax(preds, axis=1).flatten()\n",
    "    labels_flat = labels.flatten()\n",
    "    return accuracy_score(labels_flat, preds_flat)\n",
    "\n",
    "def evaluate(dataloader_val):\n",
    "    model.eval()\n",
    "    loss_val_total = 0\n",
    "    predictions, true_vals = [], []\n",
    "\n",
    "    for batch in dataloader_val:\n",
    "        batch = tuple(b.to(device) for b in batch)\n",
    "        inputs = {\n",
    "            'input_ids': batch[0],\n",
    "            'attention_mask': batch[1],\n",
    "            'labels': batch[2],\n",
    "        }\n",
    "\n",
    "        with torch.no_grad():\n",
    "            outputs = model(**inputs)\n",
    "        loss = outputs[0]\n",
    "        logits = outputs[1]\n",
    "        loss_val_total += loss.item()\n",
    "        logits = logits.detach().cpu().numpy()\n",
    "        label_ids = inputs['labels'].cpu().numpy()\n",
    "        predictions.append(logits)\n",
    "        true_vals.append(label_ids)\n",
    "\n",
    "    loss_val_avg = loss_val_total / len(dataloader_val)\n",
    "    predictions = np.concatenate(predictions, axis=0)\n",
    "    true_vals = np.concatenate(true_vals, axis=0)\n",
    "\n",
    "    return loss_val_avg, predictions, true_vals\n",
    "\n",
    "# Initialize lists to store losses for plotting\n",
    "training_losses = []\n",
    "validation_losses = []\n",
    "\n",
    "# Ensure the directory for saving models exists\n",
    "os.makedirs('models', exist_ok=True)\n",
    "\n",
    "for epoch in tqdm(range(1, epochs+1)):\n",
    "    model.train()\n",
    "    loss_train_total = 0\n",
    "    progress_bar = tqdm(dataloader_train, desc='Epoch {:1d}'.format(epoch), leave=False, ncols=100)\n",
    "    for batch in progress_bar:\n",
    "        model.zero_grad()\n",
    "        batch = tuple(b.to(device) for b in batch)\n",
    "        inputs = {\n",
    "            'input_ids': batch[0],\n",
    "            'attention_mask': batch[1],\n",
    "            'labels': batch[2],\n",
    "        }\n",
    "        outputs = model(**inputs)\n",
    "        loss = outputs[0]\n",
    "        loss_train_total += loss.item()\n",
    "        loss.backward()\n",
    "        torch.nn.utils.clip_grad_norm_(model.parameters(), 1.0)\n",
    "        optimizer.step()\n",
    "        scheduler.step()\n",
    "        progress_bar.set_postfix({'training_loss': '{:.3f}'.format(loss.item() / len(batch))})\n",
    "\n",
    "    # Save the model at each epoch \n",
    "    torch.save(model.state_dict(), f'models/finetuned_BERT_epoch_{epoch}.model')\n",
    "\n",
    "    tqdm.write(f'\\nEpoch {epoch}')\n",
    "    loss_train_avg = loss_train_total / len(dataloader_train)\n",
    "    training_losses.append(loss_train_avg)\n",
    "    tqdm.write(f'Training loss: {loss_train_avg}')\n",
    "\n",
    "    val_loss, predictions, true_vals = evaluate(dataloader_validation)\n",
    "    val_f1 = f1_score_func(predictions, true_vals)\n",
    "    val_accuracy = accuracy_func(predictions, true_vals)\n",
    "    validation_losses.append(val_loss)\n",
    "    tqdm.write(f'Validation loss: {val_loss}')\n",
    "    tqdm.write(f'F1 Score (Weighted): {val_f1}')\n",
    "    tqdm.write(f'Accuracy: {val_accuracy}')\n",
    "\n",
    "# Plotting the training and validation losses\n",
    "plt.figure(figsize=(10, 5))\n",
    "plt.plot(range(1, epochs + 1), training_losses, label='Training Loss')\n",
    "plt.plot(range(1, epochs + 1), validation_losses, label='Validation Loss')\n",
    "plt.xlabel('Epochs')\n",
    "plt.ylabel('Loss')\n",
    "plt.title('Training and Validation Loss Over Time')\n",
    "plt.legend()\n",
    "plt.show()"
   ]
  },
  {
   "cell_type": "markdown",
   "metadata": {},
   "source": [
    "Use the best model to compare how it classifies between classes compared to the original benchmark. "
   ]
  },
  {
   "cell_type": "code",
   "execution_count": null,
   "metadata": {},
   "outputs": [
    {
     "name": "stdout",
     "output_type": "stream",
     "text": [
      "Loading model from epoch 2...\n",
      "F1 Score: 0.8963153687242554\n",
      "Accuracy: 0.8968643747638836\n",
      "Class: Debt collection\n",
      "Accuracy: 806/889\n",
      "\n",
      "Class: Mortgage\n",
      "Accuracy: 710/736\n",
      "\n",
      "Class: Credit card\n",
      "Accuracy: 349/402\n",
      "\n",
      "Class: Credit reporting\n",
      "Accuracy: 509/620\n",
      "\n"
     ]
    }
   ],
   "source": [
    "# Function to evaluate the model\n",
    "def evaluate(model, dataloader):\n",
    "    model.eval()\n",
    "    preds, true_vals = [], []\n",
    "    for batch in dataloader:\n",
    "        batch = tuple(b.to(device) for b in batch)\n",
    "        inputs = {\n",
    "            'input_ids': batch[0],\n",
    "            'attention_mask': batch[1],\n",
    "            'labels': batch[2]\n",
    "        }\n",
    "        with torch.no_grad():\n",
    "            outputs = model(**inputs)\n",
    "        preds.append(outputs[1].detach().cpu().numpy())  # logits are at index 1\n",
    "        true_vals.append(inputs['labels'].detach().cpu().numpy())\n",
    "    \n",
    "    preds = np.concatenate(preds, axis=0)\n",
    "    true_vals = np.concatenate(true_vals, axis=0)\n",
    "    return preds, true_vals\n",
    "\n",
    "# Function to print class-wise accuracy\n",
    "# def accuracy_per_class(preds, labels, label_dict):\n",
    "#     preds_flat = np.argmax(preds, axis=1).flatten()\n",
    "#     labels_flat = labels.flatten()\n",
    "#     label_dict_inverse = {v: k for k, v in label_dict.items()}\n",
    "\n",
    "#     for label in np.unique(labels_flat):\n",
    "#         y_preds = preds_flat[labels_flat == label]\n",
    "#         y_true = labels_flat[labels_flat == label]\n",
    "#         accuracy = len(y_preds[y_preds == label]) / len(y_true)\n",
    "#         print(f'Class: {label_dict_inverse[label]}')\n",
    "#         print(f'Accuracy: {len(y_preds[y_preds == label])}/{len(y_true)}\\n')\n",
    "\n",
    "# Load and evaluate the model from epoch 2\n",
    "print(\"Loading model from epoch 2...\")\n",
    "model.load_state_dict(torch.load('models/finetuned_BERT_epoch_2.model'))\n",
    "model.to(device)\n",
    "preds_epoch_3, true_vals_epoch_3 = evaluate(model, dataloader_validation)\n",
    "f1_score_epoch_3 = f1_score_func(preds_epoch_3, true_vals_epoch_3)\n",
    "accuracy_epoch_3 = accuracy_func(preds_epoch_3, true_vals_epoch_3)\n",
    "\n",
    "# Print F1 score and overall accuracy\n",
    "print(f'F1 Score: {f1_score_epoch_3}')\n",
    "print(f'Accuracy: {accuracy_epoch_3}')\n",
    "\n",
    "# Print class-wise accuracy\n",
    "accuracy_per_class(preds_epoch_3, true_vals_epoch_3, label_dict)\n"
   ]
  },
  {
   "cell_type": "code",
   "execution_count": null,
   "metadata": {},
   "outputs": [
    {
     "name": "stderr",
     "output_type": "stream",
     "text": [
      "You are using a model of type bert to instantiate a model of type distilbert. This is not supported for all configurations of models and can yield errors.\n",
      "Some weights of the model checkpoint at bert-base-uncased were not used when initializing DistilBertForSequenceClassification: ['bert.encoder.layer.11.attention.self.query.weight', 'bert.encoder.layer.2.attention.self.key.bias', 'bert.encoder.layer.7.output.LayerNorm.weight', 'bert.encoder.layer.9.intermediate.dense.weight', 'bert.encoder.layer.11.attention.self.value.bias', 'bert.encoder.layer.8.attention.output.LayerNorm.bias', 'bert.encoder.layer.2.output.LayerNorm.weight', 'bert.encoder.layer.8.output.dense.weight', 'bert.pooler.dense.weight', 'bert.encoder.layer.8.intermediate.dense.bias', 'bert.pooler.dense.bias', 'bert.encoder.layer.1.attention.self.query.bias', 'bert.encoder.layer.1.intermediate.dense.weight', 'bert.encoder.layer.8.attention.output.dense.bias', 'bert.encoder.layer.1.attention.self.value.weight', 'bert.encoder.layer.8.output.LayerNorm.bias', 'bert.encoder.layer.7.attention.output.dense.weight', 'bert.encoder.layer.10.attention.self.query.bias', 'cls.predictions.transform.LayerNorm.weight', 'cls.predictions.transform.dense.bias', 'bert.encoder.layer.6.output.LayerNorm.bias', 'bert.encoder.layer.6.output.dense.bias', 'bert.encoder.layer.5.intermediate.dense.bias', 'bert.encoder.layer.5.attention.self.query.bias', 'bert.encoder.layer.8.intermediate.dense.weight', 'bert.encoder.layer.8.attention.output.LayerNorm.weight', 'bert.encoder.layer.2.attention.self.value.bias', 'bert.encoder.layer.4.intermediate.dense.weight', 'bert.encoder.layer.4.output.dense.bias', 'bert.encoder.layer.7.attention.output.LayerNorm.bias', 'bert.encoder.layer.4.attention.self.value.weight', 'bert.embeddings.word_embeddings.weight', 'bert.encoder.layer.11.attention.output.LayerNorm.bias', 'bert.encoder.layer.8.output.LayerNorm.weight', 'bert.encoder.layer.4.output.LayerNorm.weight', 'bert.encoder.layer.1.attention.output.dense.weight', 'bert.encoder.layer.5.attention.output.dense.bias', 'bert.encoder.layer.3.attention.self.query.weight', 'bert.encoder.layer.5.attention.self.key.bias', 'bert.encoder.layer.11.attention.self.value.weight', 'bert.encoder.layer.2.attention.output.LayerNorm.bias', 'bert.encoder.layer.5.output.LayerNorm.weight', 'bert.encoder.layer.10.intermediate.dense.weight', 'cls.predictions.transform.LayerNorm.bias', 'bert.encoder.layer.2.intermediate.dense.weight', 'bert.encoder.layer.7.attention.self.key.weight', 'bert.encoder.layer.9.output.LayerNorm.weight', 'bert.encoder.layer.1.output.LayerNorm.weight', 'bert.encoder.layer.8.attention.self.key.weight', 'bert.encoder.layer.7.output.LayerNorm.bias', 'bert.encoder.layer.7.attention.self.value.weight', 'bert.encoder.layer.10.attention.output.dense.bias', 'bert.encoder.layer.5.attention.output.LayerNorm.weight', 'bert.encoder.layer.2.output.dense.weight', 'bert.encoder.layer.9.output.dense.bias', 'bert.encoder.layer.4.attention.self.key.weight', 'bert.encoder.layer.6.intermediate.dense.weight', 'bert.encoder.layer.2.intermediate.dense.bias', 'bert.encoder.layer.11.attention.self.key.bias', 'bert.encoder.layer.7.attention.self.value.bias', 'bert.encoder.layer.6.attention.output.dense.bias', 'bert.encoder.layer.10.attention.output.LayerNorm.bias', 'bert.encoder.layer.3.attention.self.key.weight', 'bert.encoder.layer.6.attention.self.query.weight', 'bert.encoder.layer.9.attention.self.query.bias', 'bert.encoder.layer.3.intermediate.dense.bias', 'bert.encoder.layer.3.attention.output.LayerNorm.bias', 'bert.encoder.layer.1.intermediate.dense.bias', 'bert.encoder.layer.7.output.dense.weight', 'bert.encoder.layer.6.attention.self.query.bias', 'bert.encoder.layer.2.attention.output.LayerNorm.weight', 'bert.encoder.layer.2.output.dense.bias', 'bert.encoder.layer.4.attention.output.dense.bias', 'bert.encoder.layer.11.intermediate.dense.bias', 'bert.encoder.layer.0.attention.self.key.bias', 'bert.encoder.layer.5.attention.self.value.weight', 'bert.encoder.layer.10.attention.output.dense.weight', 'bert.encoder.layer.10.attention.self.key.bias', 'bert.encoder.layer.1.attention.output.LayerNorm.weight', 'bert.encoder.layer.3.output.LayerNorm.bias', 'bert.encoder.layer.9.attention.output.dense.bias', 'bert.encoder.layer.9.attention.output.LayerNorm.weight', 'bert.encoder.layer.9.attention.self.value.bias', 'bert.encoder.layer.11.output.LayerNorm.weight', 'bert.encoder.layer.6.attention.self.key.bias', 'bert.encoder.layer.4.attention.self.query.weight', 'bert.encoder.layer.2.output.LayerNorm.bias', 'bert.encoder.layer.0.attention.output.dense.weight', 'bert.encoder.layer.3.attention.self.value.bias', 'bert.encoder.layer.2.attention.output.dense.weight', 'bert.encoder.layer.2.attention.self.query.bias', 'bert.encoder.layer.11.attention.self.query.bias', 'bert.encoder.layer.7.attention.self.query.weight', 'bert.encoder.layer.10.attention.self.value.weight', 'cls.predictions.decoder.weight', 'bert.encoder.layer.7.attention.self.key.bias', 'bert.encoder.layer.0.output.dense.weight', 'bert.encoder.layer.1.attention.self.key.weight', 'bert.encoder.layer.9.attention.self.value.weight', 'bert.encoder.layer.7.output.dense.bias', 'bert.encoder.layer.8.output.dense.bias', 'bert.encoder.layer.5.output.LayerNorm.bias', 'bert.encoder.layer.11.output.dense.bias', 'bert.encoder.layer.5.attention.self.value.bias', 'bert.encoder.layer.6.attention.self.value.weight', 'bert.encoder.layer.7.attention.self.query.bias', 'bert.encoder.layer.9.attention.self.query.weight', 'bert.encoder.layer.11.attention.self.key.weight', 'bert.encoder.layer.1.output.LayerNorm.bias', 'bert.encoder.layer.7.attention.output.dense.bias', 'bert.encoder.layer.3.attention.output.dense.weight', 'bert.encoder.layer.10.attention.self.key.weight', 'bert.encoder.layer.9.output.dense.weight', 'bert.encoder.layer.5.output.dense.weight', 'bert.encoder.layer.0.attention.self.value.bias', 'bert.encoder.layer.3.attention.self.key.bias', 'bert.encoder.layer.4.intermediate.dense.bias', 'bert.encoder.layer.11.attention.output.dense.bias', 'bert.encoder.layer.1.attention.self.query.weight', 'bert.encoder.layer.9.attention.self.key.bias', 'bert.encoder.layer.10.attention.self.query.weight', 'bert.encoder.layer.6.attention.output.dense.weight', 'bert.encoder.layer.5.attention.self.key.weight', 'cls.seq_relationship.bias', 'bert.encoder.layer.0.attention.output.LayerNorm.weight', 'bert.encoder.layer.0.attention.output.dense.bias', 'bert.encoder.layer.0.output.LayerNorm.bias', 'bert.encoder.layer.6.attention.output.LayerNorm.bias', 'bert.encoder.layer.10.output.dense.weight', 'bert.encoder.layer.6.attention.self.key.weight', 'bert.encoder.layer.2.attention.output.dense.bias', 'bert.encoder.layer.4.output.dense.weight', 'bert.encoder.layer.3.output.dense.weight', 'bert.encoder.layer.8.attention.self.value.weight', 'bert.encoder.layer.10.attention.self.value.bias', 'bert.encoder.layer.0.attention.self.query.bias', 'bert.embeddings.LayerNorm.bias', 'bert.encoder.layer.5.output.dense.bias', 'bert.encoder.layer.2.attention.self.query.weight', 'bert.encoder.layer.2.attention.self.key.weight', 'bert.encoder.layer.8.attention.output.dense.weight', 'bert.encoder.layer.11.intermediate.dense.weight', 'bert.encoder.layer.11.output.LayerNorm.bias', 'bert.encoder.layer.6.intermediate.dense.bias', 'bert.encoder.layer.4.output.LayerNorm.bias', 'bert.embeddings.position_embeddings.weight', 'bert.encoder.layer.1.output.dense.bias', 'bert.encoder.layer.7.intermediate.dense.weight', 'bert.encoder.layer.5.attention.output.LayerNorm.bias', 'cls.predictions.bias', 'bert.encoder.layer.3.output.dense.bias', 'bert.encoder.layer.0.attention.self.key.weight', 'bert.encoder.layer.8.attention.self.query.weight', 'bert.embeddings.LayerNorm.weight', 'bert.encoder.layer.0.intermediate.dense.bias', 'bert.encoder.layer.10.output.dense.bias', 'bert.encoder.layer.0.output.dense.bias', 'bert.encoder.layer.4.attention.output.dense.weight', 'bert.encoder.layer.1.attention.output.dense.bias', 'bert.encoder.layer.11.output.dense.weight', 'bert.encoder.layer.9.output.LayerNorm.bias', 'bert.encoder.layer.11.attention.output.dense.weight', 'bert.encoder.layer.5.intermediate.dense.weight', 'bert.encoder.layer.0.output.LayerNorm.weight', 'bert.encoder.layer.4.attention.self.query.bias', 'bert.encoder.layer.1.attention.self.value.bias', 'bert.encoder.layer.7.intermediate.dense.bias', 'bert.encoder.layer.9.attention.output.dense.weight', 'bert.encoder.layer.0.attention.output.LayerNorm.bias', 'bert.encoder.layer.3.attention.self.query.bias', 'bert.encoder.layer.6.attention.output.LayerNorm.weight', 'bert.embeddings.token_type_embeddings.weight', 'bert.encoder.layer.7.attention.output.LayerNorm.weight', 'bert.encoder.layer.0.attention.self.query.weight', 'bert.encoder.layer.6.attention.self.value.bias', 'bert.encoder.layer.8.attention.self.key.bias', 'bert.encoder.layer.0.intermediate.dense.weight', 'bert.encoder.layer.9.attention.self.key.weight', 'bert.encoder.layer.10.attention.output.LayerNorm.weight', 'bert.encoder.layer.3.intermediate.dense.weight', 'bert.encoder.layer.9.attention.output.LayerNorm.bias', 'bert.encoder.layer.5.attention.self.query.weight', 'bert.encoder.layer.6.output.dense.weight', 'bert.encoder.layer.8.attention.self.query.bias', 'bert.encoder.layer.10.output.LayerNorm.weight', 'bert.encoder.layer.9.intermediate.dense.bias', 'bert.encoder.layer.1.attention.self.key.bias', 'bert.encoder.layer.5.attention.output.dense.weight', 'bert.encoder.layer.4.attention.output.LayerNorm.weight', 'bert.encoder.layer.0.attention.self.value.weight', 'bert.encoder.layer.3.attention.output.LayerNorm.weight', 'cls.predictions.transform.dense.weight', 'bert.encoder.layer.2.attention.self.value.weight', 'bert.encoder.layer.4.attention.output.LayerNorm.bias', 'bert.encoder.layer.1.output.dense.weight', 'bert.encoder.layer.6.output.LayerNorm.weight', 'bert.encoder.layer.4.attention.self.value.bias', 'bert.encoder.layer.10.intermediate.dense.bias', 'bert.encoder.layer.4.attention.self.key.bias', 'cls.seq_relationship.weight', 'bert.encoder.layer.3.attention.output.dense.bias', 'bert.encoder.layer.11.attention.output.LayerNorm.weight', 'bert.encoder.layer.1.attention.output.LayerNorm.bias', 'bert.encoder.layer.3.attention.self.value.weight', 'bert.encoder.layer.3.output.LayerNorm.weight', 'bert.encoder.layer.10.output.LayerNorm.bias', 'bert.encoder.layer.8.attention.self.value.bias']\n",
      "- This IS expected if you are initializing DistilBertForSequenceClassification from the checkpoint of a model trained on another task or with another architecture (e.g. initializing a BertForSequenceClassification model from a BertForPreTraining model).\n",
      "- This IS NOT expected if you are initializing DistilBertForSequenceClassification from the checkpoint of a model that you expect to be exactly identical (initializing a BertForSequenceClassification model from a BertForSequenceClassification model).\n",
      "Some weights of DistilBertForSequenceClassification were not initialized from the model checkpoint at bert-base-uncased and are newly initialized: ['transformer.layer.0.attention.v_lin.bias', 'transformer.layer.0.sa_layer_norm.weight', 'transformer.layer.0.output_layer_norm.weight', 'transformer.layer.6.attention.k_lin.bias', 'transformer.layer.5.attention.out_lin.weight', 'transformer.layer.0.attention.k_lin.bias', 'transformer.layer.7.ffn.lin2.bias', 'transformer.layer.5.sa_layer_norm.bias', 'transformer.layer.5.attention.v_lin.weight', 'transformer.layer.0.ffn.lin1.weight', 'transformer.layer.7.output_layer_norm.weight', 'transformer.layer.3.sa_layer_norm.weight', 'transformer.layer.10.attention.k_lin.weight', 'transformer.layer.3.attention.out_lin.weight', 'transformer.layer.10.sa_layer_norm.weight', 'transformer.layer.0.attention.out_lin.weight', 'transformer.layer.2.attention.out_lin.bias', 'transformer.layer.1.sa_layer_norm.weight', 'transformer.layer.4.sa_layer_norm.weight', 'transformer.layer.7.attention.v_lin.bias', 'transformer.layer.1.attention.k_lin.weight', 'transformer.layer.9.ffn.lin2.bias', 'transformer.layer.5.attention.v_lin.bias', 'transformer.layer.1.attention.out_lin.weight', 'transformer.layer.8.attention.k_lin.bias', 'transformer.layer.2.attention.v_lin.weight', 'transformer.layer.3.attention.k_lin.bias', 'transformer.layer.5.attention.q_lin.bias', 'transformer.layer.2.attention.k_lin.bias', 'transformer.layer.4.ffn.lin2.bias', 'transformer.layer.1.ffn.lin2.weight', 'transformer.layer.8.attention.out_lin.weight', 'transformer.layer.9.ffn.lin1.weight', 'transformer.layer.2.attention.out_lin.weight', 'pre_classifier.bias', 'transformer.layer.3.attention.v_lin.bias', 'transformer.layer.7.attention.v_lin.weight', 'transformer.layer.6.ffn.lin1.bias', 'transformer.layer.3.output_layer_norm.weight', 'transformer.layer.10.attention.v_lin.weight', 'transformer.layer.8.attention.out_lin.bias', 'transformer.layer.11.attention.q_lin.weight', 'transformer.layer.7.attention.out_lin.bias', 'transformer.layer.7.ffn.lin1.weight', 'transformer.layer.11.attention.out_lin.weight', 'transformer.layer.1.attention.out_lin.bias', 'transformer.layer.11.ffn.lin1.weight', 'transformer.layer.11.output_layer_norm.weight', 'transformer.layer.10.output_layer_norm.bias', 'transformer.layer.11.ffn.lin2.bias', 'transformer.layer.2.sa_layer_norm.weight', 'transformer.layer.0.attention.out_lin.bias', 'transformer.layer.8.output_layer_norm.weight', 'transformer.layer.6.sa_layer_norm.weight', 'embeddings.word_embeddings.weight', 'transformer.layer.5.attention.k_lin.bias', 'transformer.layer.4.attention.v_lin.bias', 'transformer.layer.6.output_layer_norm.bias', 'transformer.layer.1.output_layer_norm.weight', 'transformer.layer.11.output_layer_norm.bias', 'transformer.layer.9.output_layer_norm.weight', 'transformer.layer.4.attention.k_lin.weight', 'transformer.layer.6.attention.q_lin.bias', 'transformer.layer.10.attention.q_lin.bias', 'transformer.layer.11.attention.v_lin.weight', 'transformer.layer.6.output_layer_norm.weight', 'transformer.layer.11.ffn.lin2.weight', 'transformer.layer.8.ffn.lin1.weight', 'transformer.layer.4.attention.q_lin.weight', 'transformer.layer.6.attention.k_lin.weight', 'transformer.layer.4.ffn.lin2.weight', 'transformer.layer.8.attention.q_lin.weight', 'transformer.layer.1.output_layer_norm.bias', 'transformer.layer.8.attention.q_lin.bias', 'transformer.layer.7.attention.q_lin.weight', 'transformer.layer.9.ffn.lin1.bias', 'transformer.layer.2.output_layer_norm.weight', 'transformer.layer.6.ffn.lin2.bias', 'transformer.layer.8.attention.v_lin.weight', 'transformer.layer.11.sa_layer_norm.weight', 'transformer.layer.5.output_layer_norm.weight', 'transformer.layer.2.sa_layer_norm.bias', 'transformer.layer.0.output_layer_norm.bias', 'transformer.layer.10.attention.k_lin.bias', 'transformer.layer.4.sa_layer_norm.bias', 'transformer.layer.7.ffn.lin1.bias', 'transformer.layer.8.output_layer_norm.bias', 'transformer.layer.4.attention.out_lin.weight', 'transformer.layer.6.attention.out_lin.bias', 'transformer.layer.2.attention.q_lin.bias', 'transformer.layer.5.attention.q_lin.weight', 'transformer.layer.5.output_layer_norm.bias', 'transformer.layer.2.ffn.lin2.weight', 'classifier.weight', 'transformer.layer.5.ffn.lin1.weight', 'transformer.layer.0.ffn.lin2.weight', 'transformer.layer.4.output_layer_norm.bias', 'transformer.layer.11.attention.q_lin.bias', 'transformer.layer.9.sa_layer_norm.weight', 'transformer.layer.7.attention.q_lin.bias', 'transformer.layer.5.ffn.lin2.weight', 'transformer.layer.7.output_layer_norm.bias', 'transformer.layer.10.ffn.lin2.weight', 'transformer.layer.0.attention.v_lin.weight', 'transformer.layer.5.attention.out_lin.bias', 'transformer.layer.9.attention.out_lin.weight', 'transformer.layer.5.ffn.lin2.bias', 'transformer.layer.3.ffn.lin2.weight', 'transformer.layer.6.sa_layer_norm.bias', 'transformer.layer.7.attention.k_lin.weight', 'transformer.layer.9.attention.q_lin.bias', 'embeddings.position_embeddings.weight', 'transformer.layer.2.ffn.lin1.bias', 'transformer.layer.4.ffn.lin1.bias', 'transformer.layer.0.attention.q_lin.weight', 'transformer.layer.3.output_layer_norm.bias', 'transformer.layer.8.ffn.lin2.weight', 'pre_classifier.weight', 'transformer.layer.9.ffn.lin2.weight', 'transformer.layer.10.ffn.lin1.weight', 'transformer.layer.6.attention.out_lin.weight', 'classifier.bias', 'transformer.layer.0.attention.k_lin.weight', 'transformer.layer.6.ffn.lin1.weight', 'transformer.layer.3.attention.q_lin.bias', 'embeddings.LayerNorm.weight', 'transformer.layer.5.ffn.lin1.bias', 'transformer.layer.6.attention.v_lin.weight', 'transformer.layer.7.sa_layer_norm.weight', 'transformer.layer.8.attention.v_lin.bias', 'transformer.layer.8.sa_layer_norm.weight', 'transformer.layer.11.attention.k_lin.bias', 'transformer.layer.1.attention.v_lin.weight', 'transformer.layer.7.ffn.lin2.weight', 'transformer.layer.8.ffn.lin1.bias', 'transformer.layer.4.ffn.lin1.weight', 'transformer.layer.6.ffn.lin2.weight', 'transformer.layer.5.attention.k_lin.weight', 'transformer.layer.4.attention.q_lin.bias', 'transformer.layer.0.sa_layer_norm.bias', 'transformer.layer.10.attention.q_lin.weight', 'transformer.layer.4.attention.k_lin.bias', 'transformer.layer.4.attention.v_lin.weight', 'transformer.layer.6.attention.q_lin.weight', 'transformer.layer.11.attention.out_lin.bias', 'embeddings.LayerNorm.bias', 'transformer.layer.3.ffn.lin1.weight', 'transformer.layer.2.ffn.lin2.bias', 'transformer.layer.9.attention.k_lin.bias', 'transformer.layer.10.ffn.lin1.bias', 'transformer.layer.2.attention.k_lin.weight', 'transformer.layer.8.ffn.lin2.bias', 'transformer.layer.7.attention.k_lin.bias', 'transformer.layer.4.attention.out_lin.bias', 'transformer.layer.1.attention.q_lin.bias', 'transformer.layer.2.ffn.lin1.weight', 'transformer.layer.2.output_layer_norm.bias', 'transformer.layer.9.attention.v_lin.weight', 'transformer.layer.10.sa_layer_norm.bias', 'transformer.layer.3.ffn.lin2.bias', 'transformer.layer.10.attention.v_lin.bias', 'transformer.layer.7.sa_layer_norm.bias', 'transformer.layer.9.output_layer_norm.bias', 'transformer.layer.3.attention.v_lin.weight', 'transformer.layer.9.attention.out_lin.bias', 'transformer.layer.1.ffn.lin1.weight', 'transformer.layer.5.sa_layer_norm.weight', 'transformer.layer.4.output_layer_norm.weight', 'transformer.layer.3.attention.out_lin.bias', 'transformer.layer.3.sa_layer_norm.bias', 'transformer.layer.7.attention.out_lin.weight', 'transformer.layer.1.attention.k_lin.bias', 'transformer.layer.2.attention.q_lin.weight', 'transformer.layer.2.attention.v_lin.bias', 'transformer.layer.3.attention.k_lin.weight', 'transformer.layer.10.ffn.lin2.bias', 'transformer.layer.9.attention.k_lin.weight', 'transformer.layer.10.attention.out_lin.weight', 'transformer.layer.9.attention.q_lin.weight', 'transformer.layer.0.attention.q_lin.bias', 'transformer.layer.1.ffn.lin2.bias', 'transformer.layer.8.sa_layer_norm.bias', 'transformer.layer.9.sa_layer_norm.bias', 'transformer.layer.11.sa_layer_norm.bias', 'transformer.layer.10.output_layer_norm.weight', 'transformer.layer.1.attention.v_lin.bias', 'transformer.layer.10.attention.out_lin.bias', 'transformer.layer.6.attention.v_lin.bias', 'transformer.layer.9.attention.v_lin.bias', 'transformer.layer.11.ffn.lin1.bias', 'transformer.layer.1.sa_layer_norm.bias', 'transformer.layer.11.attention.k_lin.weight', 'transformer.layer.3.ffn.lin1.bias', 'transformer.layer.3.attention.q_lin.weight', 'transformer.layer.1.attention.q_lin.weight', 'transformer.layer.11.attention.v_lin.bias', 'transformer.layer.8.attention.k_lin.weight', 'transformer.layer.1.ffn.lin1.bias', 'transformer.layer.0.ffn.lin2.bias', 'transformer.layer.0.ffn.lin1.bias']\n",
      "You should probably TRAIN this model on a down-stream task to be able to use it for predictions and inference.\n"
     ]
    },
    {
     "ename": "RuntimeError",
     "evalue": "Error(s) in loading state_dict for DistilBertForSequenceClassification:\n\tMissing key(s) in state_dict: \"distilbert.transformer.layer.6.attention.q_lin.weight\", \"distilbert.transformer.layer.6.attention.q_lin.bias\", \"distilbert.transformer.layer.6.attention.k_lin.weight\", \"distilbert.transformer.layer.6.attention.k_lin.bias\", \"distilbert.transformer.layer.6.attention.v_lin.weight\", \"distilbert.transformer.layer.6.attention.v_lin.bias\", \"distilbert.transformer.layer.6.attention.out_lin.weight\", \"distilbert.transformer.layer.6.attention.out_lin.bias\", \"distilbert.transformer.layer.6.sa_layer_norm.weight\", \"distilbert.transformer.layer.6.sa_layer_norm.bias\", \"distilbert.transformer.layer.6.ffn.lin1.weight\", \"distilbert.transformer.layer.6.ffn.lin1.bias\", \"distilbert.transformer.layer.6.ffn.lin2.weight\", \"distilbert.transformer.layer.6.ffn.lin2.bias\", \"distilbert.transformer.layer.6.output_layer_norm.weight\", \"distilbert.transformer.layer.6.output_layer_norm.bias\", \"distilbert.transformer.layer.7.attention.q_lin.weight\", \"distilbert.transformer.layer.7.attention.q_lin.bias\", \"distilbert.transformer.layer.7.attention.k_lin.weight\", \"distilbert.transformer.layer.7.attention.k_lin.bias\", \"distilbert.transformer.layer.7.attention.v_lin.weight\", \"distilbert.transformer.layer.7.attention.v_lin.bias\", \"distilbert.transformer.layer.7.attention.out_lin.weight\", \"distilbert.transformer.layer.7.attention.out_lin.bias\", \"distilbert.transformer.layer.7.sa_layer_norm.weight\", \"distilbert.transformer.layer.7.sa_layer_norm.bias\", \"distilbert.transformer.layer.7.ffn.lin1.weight\", \"distilbert.transformer.layer.7.ffn.lin1.bias\", \"distilbert.transformer.layer.7.ffn.lin2.weight\", \"distilbert.transformer.layer.7.ffn.lin2.bias\", \"distilbert.transformer.layer.7.output_layer_norm.weight\", \"distilbert.transformer.layer.7.output_layer_norm.bias\", \"distilbert.transformer.layer.8.attention.q_lin.weight\", \"distilbert.transformer.layer.8.attention.q_lin.bias\", \"distilbert.transformer.layer.8.attention.k_lin.weight\", \"distilbert.transformer.layer.8.attention.k_lin.bias\", \"distilbert.transformer.layer.8.attention.v_lin.weight\", \"distilbert.transformer.layer.8.attention.v_lin.bias\", \"distilbert.transformer.layer.8.attention.out_lin.weight\", \"distilbert.transformer.layer.8.attention.out_lin.bias\", \"distilbert.transformer.layer.8.sa_layer_norm.weight\", \"distilbert.transformer.layer.8.sa_layer_norm.bias\", \"distilbert.transformer.layer.8.ffn.lin1.weight\", \"distilbert.transformer.layer.8.ffn.lin1.bias\", \"distilbert.transformer.layer.8.ffn.lin2.weight\", \"distilbert.transformer.layer.8.ffn.lin2.bias\", \"distilbert.transformer.layer.8.output_layer_norm.weight\", \"distilbert.transformer.layer.8.output_layer_norm.bias\", \"distilbert.transformer.layer.9.attention.q_lin.weight\", \"distilbert.transformer.layer.9.attention.q_lin.bias\", \"distilbert.transformer.layer.9.attention.k_lin.weight\", \"distilbert.transformer.layer.9.attention.k_lin.bias\", \"distilbert.transformer.layer.9.attention.v_lin.weight\", \"distilbert.transformer.layer.9.attention.v_lin.bias\", \"distilbert.transformer.layer.9.attention.out_lin.weight\", \"distilbert.transformer.layer.9.attention.out_lin.bias\", \"distilbert.transformer.layer.9.sa_layer_norm.weight\", \"distilbert.transformer.layer.9.sa_layer_norm.bias\", \"distilbert.transformer.layer.9.ffn.lin1.weight\", \"distilbert.transformer.layer.9.ffn.lin1.bias\", \"distilbert.transformer.layer.9.ffn.lin2.weight\", \"distilbert.transformer.layer.9.ffn.lin2.bias\", \"distilbert.transformer.layer.9.output_layer_norm.weight\", \"distilbert.transformer.layer.9.output_layer_norm.bias\", \"distilbert.transformer.layer.10.attention.q_lin.weight\", \"distilbert.transformer.layer.10.attention.q_lin.bias\", \"distilbert.transformer.layer.10.attention.k_lin.weight\", \"distilbert.transformer.layer.10.attention.k_lin.bias\", \"distilbert.transformer.layer.10.attention.v_lin.weight\", \"distilbert.transformer.layer.10.attention.v_lin.bias\", \"distilbert.transformer.layer.10.attention.out_lin.weight\", \"distilbert.transformer.layer.10.attention.out_lin.bias\", \"distilbert.transformer.layer.10.sa_layer_norm.weight\", \"distilbert.transformer.layer.10.sa_layer_norm.bias\", \"distilbert.transformer.layer.10.ffn.lin1.weight\", \"distilbert.transformer.layer.10.ffn.lin1.bias\", \"distilbert.transformer.layer.10.ffn.lin2.weight\", \"distilbert.transformer.layer.10.ffn.lin2.bias\", \"distilbert.transformer.layer.10.output_layer_norm.weight\", \"distilbert.transformer.layer.10.output_layer_norm.bias\", \"distilbert.transformer.layer.11.attention.q_lin.weight\", \"distilbert.transformer.layer.11.attention.q_lin.bias\", \"distilbert.transformer.layer.11.attention.k_lin.weight\", \"distilbert.transformer.layer.11.attention.k_lin.bias\", \"distilbert.transformer.layer.11.attention.v_lin.weight\", \"distilbert.transformer.layer.11.attention.v_lin.bias\", \"distilbert.transformer.layer.11.attention.out_lin.weight\", \"distilbert.transformer.layer.11.attention.out_lin.bias\", \"distilbert.transformer.layer.11.sa_layer_norm.weight\", \"distilbert.transformer.layer.11.sa_layer_norm.bias\", \"distilbert.transformer.layer.11.ffn.lin1.weight\", \"distilbert.transformer.layer.11.ffn.lin1.bias\", \"distilbert.transformer.layer.11.ffn.lin2.weight\", \"distilbert.transformer.layer.11.ffn.lin2.bias\", \"distilbert.transformer.layer.11.output_layer_norm.weight\", \"distilbert.transformer.layer.11.output_layer_norm.bias\". ",
     "output_type": "error",
     "traceback": [
      "\u001b[1;31m---------------------------------------------------------------------------\u001b[0m",
      "\u001b[1;31mRuntimeError\u001b[0m                              Traceback (most recent call last)",
      "Cell \u001b[1;32mIn[21], line 7\u001b[0m\n\u001b[0;32m      4\u001b[0m model\u001b[38;5;241m.\u001b[39mto(device)\n\u001b[0;32m      6\u001b[0m \u001b[38;5;66;03m# Load best model and make prediction\u001b[39;00m\n\u001b[1;32m----> 7\u001b[0m \u001b[43mmodel\u001b[49m\u001b[38;5;241;43m.\u001b[39;49m\u001b[43mload_state_dict\u001b[49m\u001b[43m(\u001b[49m\u001b[43mtorch\u001b[49m\u001b[38;5;241;43m.\u001b[39;49m\u001b[43mload\u001b[49m\u001b[43m(\u001b[49m\u001b[38;5;124;43m'\u001b[39;49m\u001b[38;5;124;43mmodels/finetuned_BERT_epoch_2.model\u001b[39;49m\u001b[38;5;124;43m'\u001b[39;49m\u001b[43m,\u001b[49m\u001b[43m \u001b[49m\u001b[43mmap_location\u001b[49m\u001b[38;5;241;43m=\u001b[39;49m\u001b[43mtorch\u001b[49m\u001b[38;5;241;43m.\u001b[39;49m\u001b[43mdevice\u001b[49m\u001b[43m(\u001b[49m\u001b[38;5;124;43m'\u001b[39;49m\u001b[38;5;124;43mcpu\u001b[39;49m\u001b[38;5;124;43m'\u001b[39;49m\u001b[43m)\u001b[49m\u001b[43m)\u001b[49m\u001b[43m)\u001b[49m\n\u001b[0;32m      9\u001b[0m _, predictions, true_vals \u001b[38;5;241m=\u001b[39m evaluate(dataloader_validation)\n\u001b[0;32m     10\u001b[0m accuracy_per_class(predictions, true_vals)\n",
      "File \u001b[1;32mc:\\Users\\hp\\Desktop\\context_detector\\env\\lib\\site-packages\\torch\\nn\\modules\\module.py:2189\u001b[0m, in \u001b[0;36mModule.load_state_dict\u001b[1;34m(self, state_dict, strict, assign)\u001b[0m\n\u001b[0;32m   2184\u001b[0m         error_msgs\u001b[38;5;241m.\u001b[39minsert(\n\u001b[0;32m   2185\u001b[0m             \u001b[38;5;241m0\u001b[39m, \u001b[38;5;124m'\u001b[39m\u001b[38;5;124mMissing key(s) in state_dict: \u001b[39m\u001b[38;5;132;01m{}\u001b[39;00m\u001b[38;5;124m. \u001b[39m\u001b[38;5;124m'\u001b[39m\u001b[38;5;241m.\u001b[39mformat(\n\u001b[0;32m   2186\u001b[0m                 \u001b[38;5;124m'\u001b[39m\u001b[38;5;124m, \u001b[39m\u001b[38;5;124m'\u001b[39m\u001b[38;5;241m.\u001b[39mjoin(\u001b[38;5;124mf\u001b[39m\u001b[38;5;124m'\u001b[39m\u001b[38;5;124m\"\u001b[39m\u001b[38;5;132;01m{\u001b[39;00mk\u001b[38;5;132;01m}\u001b[39;00m\u001b[38;5;124m\"\u001b[39m\u001b[38;5;124m'\u001b[39m \u001b[38;5;28;01mfor\u001b[39;00m k \u001b[38;5;129;01min\u001b[39;00m missing_keys)))\n\u001b[0;32m   2188\u001b[0m \u001b[38;5;28;01mif\u001b[39;00m \u001b[38;5;28mlen\u001b[39m(error_msgs) \u001b[38;5;241m>\u001b[39m \u001b[38;5;241m0\u001b[39m:\n\u001b[1;32m-> 2189\u001b[0m     \u001b[38;5;28;01mraise\u001b[39;00m \u001b[38;5;167;01mRuntimeError\u001b[39;00m(\u001b[38;5;124m'\u001b[39m\u001b[38;5;124mError(s) in loading state_dict for \u001b[39m\u001b[38;5;132;01m{}\u001b[39;00m\u001b[38;5;124m:\u001b[39m\u001b[38;5;130;01m\\n\u001b[39;00m\u001b[38;5;130;01m\\t\u001b[39;00m\u001b[38;5;132;01m{}\u001b[39;00m\u001b[38;5;124m'\u001b[39m\u001b[38;5;241m.\u001b[39mformat(\n\u001b[0;32m   2190\u001b[0m                        \u001b[38;5;28mself\u001b[39m\u001b[38;5;241m.\u001b[39m\u001b[38;5;18m__class__\u001b[39m\u001b[38;5;241m.\u001b[39m\u001b[38;5;18m__name__\u001b[39m, \u001b[38;5;124m\"\u001b[39m\u001b[38;5;130;01m\\n\u001b[39;00m\u001b[38;5;130;01m\\t\u001b[39;00m\u001b[38;5;124m\"\u001b[39m\u001b[38;5;241m.\u001b[39mjoin(error_msgs)))\n\u001b[0;32m   2191\u001b[0m \u001b[38;5;28;01mreturn\u001b[39;00m _IncompatibleKeys(missing_keys, unexpected_keys)\n",
      "\u001b[1;31mRuntimeError\u001b[0m: Error(s) in loading state_dict for DistilBertForSequenceClassification:\n\tMissing key(s) in state_dict: \"distilbert.transformer.layer.6.attention.q_lin.weight\", \"distilbert.transformer.layer.6.attention.q_lin.bias\", \"distilbert.transformer.layer.6.attention.k_lin.weight\", \"distilbert.transformer.layer.6.attention.k_lin.bias\", \"distilbert.transformer.layer.6.attention.v_lin.weight\", \"distilbert.transformer.layer.6.attention.v_lin.bias\", \"distilbert.transformer.layer.6.attention.out_lin.weight\", \"distilbert.transformer.layer.6.attention.out_lin.bias\", \"distilbert.transformer.layer.6.sa_layer_norm.weight\", \"distilbert.transformer.layer.6.sa_layer_norm.bias\", \"distilbert.transformer.layer.6.ffn.lin1.weight\", \"distilbert.transformer.layer.6.ffn.lin1.bias\", \"distilbert.transformer.layer.6.ffn.lin2.weight\", \"distilbert.transformer.layer.6.ffn.lin2.bias\", \"distilbert.transformer.layer.6.output_layer_norm.weight\", \"distilbert.transformer.layer.6.output_layer_norm.bias\", \"distilbert.transformer.layer.7.attention.q_lin.weight\", \"distilbert.transformer.layer.7.attention.q_lin.bias\", \"distilbert.transformer.layer.7.attention.k_lin.weight\", \"distilbert.transformer.layer.7.attention.k_lin.bias\", \"distilbert.transformer.layer.7.attention.v_lin.weight\", \"distilbert.transformer.layer.7.attention.v_lin.bias\", \"distilbert.transformer.layer.7.attention.out_lin.weight\", \"distilbert.transformer.layer.7.attention.out_lin.bias\", \"distilbert.transformer.layer.7.sa_layer_norm.weight\", \"distilbert.transformer.layer.7.sa_layer_norm.bias\", \"distilbert.transformer.layer.7.ffn.lin1.weight\", \"distilbert.transformer.layer.7.ffn.lin1.bias\", \"distilbert.transformer.layer.7.ffn.lin2.weight\", \"distilbert.transformer.layer.7.ffn.lin2.bias\", \"distilbert.transformer.layer.7.output_layer_norm.weight\", \"distilbert.transformer.layer.7.output_layer_norm.bias\", \"distilbert.transformer.layer.8.attention.q_lin.weight\", \"distilbert.transformer.layer.8.attention.q_lin.bias\", \"distilbert.transformer.layer.8.attention.k_lin.weight\", \"distilbert.transformer.layer.8.attention.k_lin.bias\", \"distilbert.transformer.layer.8.attention.v_lin.weight\", \"distilbert.transformer.layer.8.attention.v_lin.bias\", \"distilbert.transformer.layer.8.attention.out_lin.weight\", \"distilbert.transformer.layer.8.attention.out_lin.bias\", \"distilbert.transformer.layer.8.sa_layer_norm.weight\", \"distilbert.transformer.layer.8.sa_layer_norm.bias\", \"distilbert.transformer.layer.8.ffn.lin1.weight\", \"distilbert.transformer.layer.8.ffn.lin1.bias\", \"distilbert.transformer.layer.8.ffn.lin2.weight\", \"distilbert.transformer.layer.8.ffn.lin2.bias\", \"distilbert.transformer.layer.8.output_layer_norm.weight\", \"distilbert.transformer.layer.8.output_layer_norm.bias\", \"distilbert.transformer.layer.9.attention.q_lin.weight\", \"distilbert.transformer.layer.9.attention.q_lin.bias\", \"distilbert.transformer.layer.9.attention.k_lin.weight\", \"distilbert.transformer.layer.9.attention.k_lin.bias\", \"distilbert.transformer.layer.9.attention.v_lin.weight\", \"distilbert.transformer.layer.9.attention.v_lin.bias\", \"distilbert.transformer.layer.9.attention.out_lin.weight\", \"distilbert.transformer.layer.9.attention.out_lin.bias\", \"distilbert.transformer.layer.9.sa_layer_norm.weight\", \"distilbert.transformer.layer.9.sa_layer_norm.bias\", \"distilbert.transformer.layer.9.ffn.lin1.weight\", \"distilbert.transformer.layer.9.ffn.lin1.bias\", \"distilbert.transformer.layer.9.ffn.lin2.weight\", \"distilbert.transformer.layer.9.ffn.lin2.bias\", \"distilbert.transformer.layer.9.output_layer_norm.weight\", \"distilbert.transformer.layer.9.output_layer_norm.bias\", \"distilbert.transformer.layer.10.attention.q_lin.weight\", \"distilbert.transformer.layer.10.attention.q_lin.bias\", \"distilbert.transformer.layer.10.attention.k_lin.weight\", \"distilbert.transformer.layer.10.attention.k_lin.bias\", \"distilbert.transformer.layer.10.attention.v_lin.weight\", \"distilbert.transformer.layer.10.attention.v_lin.bias\", \"distilbert.transformer.layer.10.attention.out_lin.weight\", \"distilbert.transformer.layer.10.attention.out_lin.bias\", \"distilbert.transformer.layer.10.sa_layer_norm.weight\", \"distilbert.transformer.layer.10.sa_layer_norm.bias\", \"distilbert.transformer.layer.10.ffn.lin1.weight\", \"distilbert.transformer.layer.10.ffn.lin1.bias\", \"distilbert.transformer.layer.10.ffn.lin2.weight\", \"distilbert.transformer.layer.10.ffn.lin2.bias\", \"distilbert.transformer.layer.10.output_layer_norm.weight\", \"distilbert.transformer.layer.10.output_layer_norm.bias\", \"distilbert.transformer.layer.11.attention.q_lin.weight\", \"distilbert.transformer.layer.11.attention.q_lin.bias\", \"distilbert.transformer.layer.11.attention.k_lin.weight\", \"distilbert.transformer.layer.11.attention.k_lin.bias\", \"distilbert.transformer.layer.11.attention.v_lin.weight\", \"distilbert.transformer.layer.11.attention.v_lin.bias\", \"distilbert.transformer.layer.11.attention.out_lin.weight\", \"distilbert.transformer.layer.11.attention.out_lin.bias\", \"distilbert.transformer.layer.11.sa_layer_norm.weight\", \"distilbert.transformer.layer.11.sa_layer_norm.bias\", \"distilbert.transformer.layer.11.ffn.lin1.weight\", \"distilbert.transformer.layer.11.ffn.lin1.bias\", \"distilbert.transformer.layer.11.ffn.lin2.weight\", \"distilbert.transformer.layer.11.ffn.lin2.bias\", \"distilbert.transformer.layer.11.output_layer_norm.weight\", \"distilbert.transformer.layer.11.output_layer_norm.bias\". "
     ]
    }
   ],
   "source": [
    "model = DistilBertForSequenceClassification.from_pretrained(\"bert-base-uncased\",\n",
    "                                                      num_labels=len(label_dict))\n",
    "\n",
    "model.to(device)\n",
    "\n",
    "# Load best model and make prediction\n",
    "model.load_state_dict(torch.load('models/finetuned_BERT_epoch_2.model', map_location=torch.device('cpu')))\n",
    "\n",
    "_, predictions, true_vals = evaluate(dataloader_validation)\n",
    "accuracy_per_class(predictions, true_vals)"
   ]
  },
  {
   "cell_type": "code",
   "execution_count": null,
   "metadata": {},
   "outputs": [],
   "source": [
    "# Check the model using one sample\n"
   ]
  },
  {
   "cell_type": "markdown",
   "metadata": {},
   "source": [
    "# Fine-tunning with data augmentation \n",
    "\n",
    "Data augmentation techniques: \n",
    "1. Synonym replacement \n",
    "2. Random insertion \n",
    "3. Random swap \n",
    "4. Random deletion \n",
    "5. Back translation \n",
    "6. Noise injection \n",
    "\n",
    "\n",
    "Use data augmentation during model training. "
   ]
  },
  {
   "cell_type": "code",
   "execution_count": null,
   "metadata": {},
   "outputs": [],
   "source": [
    "# !pip install nlpaug\n",
    "# !pip install nltk\n",
    "# !python -m nltk.downloader all\n",
    "# !pip install wordnet"
   ]
  },
  {
   "cell_type": "code",
   "execution_count": null,
   "metadata": {},
   "outputs": [
    {
     "name": "stderr",
     "output_type": "stream",
     "text": [
      "[nltk_data] Downloading package wordnet to\n",
      "[nltk_data]     C:\\Users\\hp\\AppData\\Roaming\\nltk_data...\n",
      "[nltk_data]   Package wordnet is already up-to-date!\n",
      "[nltk_data] Downloading package averaged_perceptron_tagger to\n",
      "[nltk_data]     C:\\Users\\hp\\AppData\\Roaming\\nltk_data...\n",
      "[nltk_data]   Package averaged_perceptron_tagger is already up-to-\n",
      "[nltk_data]       date!\n"
     ]
    }
   ],
   "source": [
    "# import nlpaug.augmenter.word as naw\n",
    "# import nltk\n",
    "\n",
    "# nltk.download('wordnet')\n",
    "# nltk.download('averaged_perceptron_tagger')\n",
    "\n",
    "# aug_syn = naw.SynonymAug(aug_src='wordnet')\n",
    "# # aug_insert = naw.RandomWordAug(action=\"insert\")\n",
    "# aug_swap = naw.RandomWordAug(action=\"swap\")\n",
    "# aug_delete = naw.RandomWordAug(action=\"delete\")\n",
    "# augmenters = [aug_syn, aug_swap, aug_delete]\n",
    "\n",
    "# # Apply data augmentation to data \n",
    "# def augment_text(text, augmenters, num_augmentations=1):\n",
    "#     augmented_texts = [text]\n",
    "#     for _ in range(num_augmentations):\n",
    "#         augmenter = random.choice(augmenters)\n",
    "#         augmented_text = augmenter.augment(text)\n",
    "#         augmented_texts.append(augmented_text)\n",
    "#     return augmented_texts\n"
   ]
  },
  {
   "cell_type": "code",
   "execution_count": null,
   "metadata": {},
   "outputs": [
    {
     "name": "stderr",
     "output_type": "stream",
     "text": [
      "c:\\Users\\hp\\Desktop\\context_detector\\env\\lib\\site-packages\\transformers\\tokenization_utils_base.py:2212: FutureWarning: The `pad_to_max_length` argument is deprecated and will be removed in a future version, use `padding=True` or `padding='longest'` to pad to the longest sequence in the batch, or use `padding='max_length'` to pad to a max length. In this case, you can give a specific length with `max_length` (e.g. `max_length=45`) or leave max_length to None to pad to the maximal input size of the model (e.g. 512 for Bert).\n",
      "  warnings.warn(\n"
     ]
    }
   ],
   "source": [
    "# augmented_data = []\n",
    "# for index, row in data.iterrows():\n",
    "#     text = row['consumer_complaint_narrative']\n",
    "#     augmented_texts = augment_text(text, augmenters, num_augmentations=2)\n",
    "#     for augmented_text in augmented_texts:\n",
    "#         augmented_data.append((augmented_text, row['label']))\n",
    "\n",
    "# # Create new dataframe with augmented data and combine it with original dataset\n",
    "# augmented_df = pd.DataFrame(augmented_data, columns=['consumer_complaint_narrative', 'label'])\n",
    "# data = pd.concat([data, augmented_df], ignore_index=True)\n",
    "\n",
    "# # Continue with tokenization and creating DataLoader as before\n",
    "# encoded_data_train = tokenizer.batch_encode_plus(\n",
    "#     data[data.data_type=='train']['consumer_complaint_narrative'].values,\n",
    "#     **tokenizer_params\n",
    "# )\n",
    "\n",
    "# encoded_data_val = tokenizer.batch_encode_plus(\n",
    "#     data[data.data_type=='val']['consumer_complaint_narrative'].values,\n",
    "#     **tokenizer_params\n",
    "# )\n",
    "\n",
    "# input_ids_train = encoded_data_train['input_ids']\n",
    "# attention_masks_train = encoded_data_train['attention_mask']\n",
    "# labels_train = torch.tensor(data[data.data_type=='train']['label'].values)\n",
    "\n",
    "# input_ids_val = encoded_data_val['input_ids']\n",
    "# attention_masks_val = encoded_data_val['attention_mask']\n",
    "# labels_val = torch.tensor(data[data.data_type=='val']['label'].values)\n",
    "\n",
    "# dataset_train = TensorDataset(input_ids_train, attention_masks_train, labels_train)\n",
    "# dataset_val = TensorDataset(input_ids_val, attention_masks_val, labels_val)\n",
    "\n",
    "# dataloader_train = DataLoader(dataset_train, sampler=RandomSampler(dataset_train), batch_size=batch_size)\n",
    "# dataloader_validation = DataLoader(dataset_val, sampler=SequentialSampler(dataset_val), batch_size=batch_size)"
   ]
  },
  {
   "cell_type": "code",
   "execution_count": null,
   "metadata": {},
   "outputs": [
    {
     "name": "stdout",
     "output_type": "stream",
     "text": [
      "Starting model training...\n"
     ]
    },
    {
     "name": "stderr",
     "output_type": "stream",
     "text": [
      "  0%|          | 0/5 [04:45<?, ?it/s]"
     ]
    },
    {
     "name": "stdout",
     "output_type": "stream",
     "text": [
      "\n",
      "Epoch 1\n",
      "Training loss: 0.15893469988218947\n"
     ]
    },
    {
     "name": "stderr",
     "output_type": "stream",
     "text": [
      " 20%|██        | 1/5 [05:07<20:31, 307.92s/it]"
     ]
    },
    {
     "name": "stdout",
     "output_type": "stream",
     "text": [
      "Validation loss: 0.5018551978493496\n",
      "F1 Score (Weighted): 0.8845496386829244\n",
      "Accuracy: 0.8843974310540235\n"
     ]
    },
    {
     "name": "stderr",
     "output_type": "stream",
     "text": [
      " 20%|██        | 1/5 [09:53<20:31, 307.92s/it]"
     ]
    },
    {
     "name": "stdout",
     "output_type": "stream",
     "text": [
      "\n",
      "Epoch 2\n",
      "Training loss: 0.1529485837413953\n"
     ]
    },
    {
     "name": "stderr",
     "output_type": "stream",
     "text": [
      " 40%|████      | 2/5 [10:15<15:23, 307.99s/it]"
     ]
    },
    {
     "name": "stdout",
     "output_type": "stream",
     "text": [
      "Validation loss: 0.5018551978493496\n",
      "F1 Score (Weighted): 0.8845496386829244\n",
      "Accuracy: 0.8843974310540235\n"
     ]
    },
    {
     "name": "stderr",
     "output_type": "stream",
     "text": [
      " 40%|████      | 2/5 [14:59<15:23, 307.99s/it]"
     ]
    },
    {
     "name": "stdout",
     "output_type": "stream",
     "text": [
      "\n",
      "Epoch 3\n",
      "Training loss: 0.154154187168379\n"
     ]
    },
    {
     "name": "stderr",
     "output_type": "stream",
     "text": [
      " 60%|██████    | 3/5 [15:21<10:13, 306.94s/it]"
     ]
    },
    {
     "name": "stdout",
     "output_type": "stream",
     "text": [
      "Validation loss: 0.5018551978493496\n",
      "F1 Score (Weighted): 0.8845496386829244\n",
      "Accuracy: 0.8843974310540235\n"
     ]
    },
    {
     "name": "stderr",
     "output_type": "stream",
     "text": [
      " 60%|██████    | 3/5 [20:03<10:13, 306.94s/it]"
     ]
    },
    {
     "name": "stdout",
     "output_type": "stream",
     "text": [
      "\n",
      "Epoch 4\n",
      "Training loss: 0.15416813386794148\n"
     ]
    },
    {
     "name": "stderr",
     "output_type": "stream",
     "text": [
      " 80%|████████  | 4/5 [20:26<05:06, 306.01s/it]"
     ]
    },
    {
     "name": "stdout",
     "output_type": "stream",
     "text": [
      "Validation loss: 0.5018551978493496\n",
      "F1 Score (Weighted): 0.8845496386829244\n",
      "Accuracy: 0.8843974310540235\n"
     ]
    },
    {
     "name": "stderr",
     "output_type": "stream",
     "text": [
      " 80%|████████  | 4/5 [25:13<05:06, 306.01s/it]"
     ]
    },
    {
     "name": "stdout",
     "output_type": "stream",
     "text": [
      "\n",
      "Epoch 5\n",
      "Training loss: 0.15728549454475527\n"
     ]
    },
    {
     "name": "stderr",
     "output_type": "stream",
     "text": [
      "100%|██████████| 5/5 [25:35<00:00, 307.18s/it]\n"
     ]
    },
    {
     "name": "stdout",
     "output_type": "stream",
     "text": [
      "Validation loss: 0.5018551978493496\n",
      "F1 Score (Weighted): 0.8845496386829244\n",
      "Accuracy: 0.8843974310540235\n"
     ]
    },
    {
     "data": {
      "image/png": "[encoded data removed]",
      "text/plain": [
       "<Figure size 1000x500 with 1 Axes>"
      ]
     },
     "metadata": {},
     "output_type": "display_data"
    }
   ],
   "source": [
    "# # Run model on augmented data \n",
    "# # Check for GPU\n",
    "# device = torch.device('cuda' if torch.cuda.is_available() else 'cpu')\n",
    "\n",
    "# print(\"Starting model training...\")\n",
    "# # Move model to device\n",
    "# model.to(device)\n",
    "\n",
    "# # Evaluation function\n",
    "# def evaluate(dataloader_val):\n",
    "#     model.eval()\n",
    "#     loss_val_total = 0\n",
    "#     predictions, true_vals = [], []\n",
    "\n",
    "#     for batch in dataloader_val:\n",
    "#         batch = tuple(b.to(device) for b in batch)\n",
    "#         inputs = {\n",
    "#             'input_ids': batch[0],\n",
    "#             'attention_mask': batch[1],\n",
    "#             'labels': batch[2],\n",
    "#         }\n",
    "\n",
    "#         with torch.no_grad():\n",
    "#             outputs = model(**inputs)\n",
    "#         loss = outputs[0]\n",
    "#         logits = outputs[1]\n",
    "#         loss_val_total += loss.item()\n",
    "#         logits = logits.detach().cpu().numpy()\n",
    "#         label_ids = inputs['labels'].cpu().numpy()\n",
    "#         predictions.append(logits)\n",
    "#         true_vals.append(label_ids)\n",
    "\n",
    "#     loss_val_avg = loss_val_total / len(dataloader_val)\n",
    "#     predictions = np.concatenate(predictions, axis=0)\n",
    "#     true_vals = np.concatenate(true_vals, axis=0)\n",
    "\n",
    "#     return loss_val_avg, predictions, true_vals\n",
    "\n",
    "# # Initialize lists to store losses for plotting\n",
    "# training_losses = []\n",
    "# validation_losses = []\n",
    "\n",
    "# # Training loop\n",
    "# for epoch in tqdm(range(1, epochs + 1)):\n",
    "#     model.train()\n",
    "#     loss_train_total = 0\n",
    "#     progress_bar = tqdm(dataloader_train, desc='Epoch {:1d}'.format(epoch), leave=False, ncols=100)\n",
    "#     for batch in progress_bar:\n",
    "#         model.zero_grad()\n",
    "#         batch = tuple(b.to(device) for b in batch)\n",
    "#         inputs = {\n",
    "#             'input_ids': batch[0],\n",
    "#             'attention_mask': batch[1],\n",
    "#             'labels': batch[2],\n",
    "#         }\n",
    "#         outputs = model(**inputs)\n",
    "#         loss = outputs[0]\n",
    "#         loss_train_total += loss.item()\n",
    "#         loss.backward()\n",
    "#         torch.nn.utils.clip_grad_norm_(model.parameters(), 1.0)\n",
    "#         optimizer.step()\n",
    "#         scheduler.step()\n",
    "#         progress_bar.set_postfix({'training_loss': '{:.3f}'.format(loss.item() / len(batch))})\n",
    "\n",
    "#     # Save the model at each epoch \n",
    "#     torch.save(model.state_dict(), f'models/finetuned_BERT_epoch_aug_{epoch}.model')\n",
    "\n",
    "#     tqdm.write(f'\\nEpoch {epoch}')\n",
    "#     loss_train_avg = loss_train_total / len(dataloader_train)\n",
    "#     training_losses.append(loss_train_avg)\n",
    "#     tqdm.write(f'Training loss: {loss_train_avg}')\n",
    "\n",
    "#     val_loss, predictions, true_vals = evaluate(dataloader_validation)\n",
    "#     val_f1 = f1_score_func(predictions, true_vals)\n",
    "#     val_accuracy = accuracy_func(predictions, true_vals)\n",
    "#     validation_losses.append(val_loss)\n",
    "#     tqdm.write(f'Validation loss: {val_loss}')\n",
    "#     tqdm.write(f'F1 Score (Weighted): {val_f1}')\n",
    "#     tqdm.write(f'Accuracy: {val_accuracy}')\n",
    "\n",
    "# # Plotting the training and validation losses\n",
    "# plt.figure(figsize=(10, 5))\n",
    "# plt.plot(range(1, epochs + 1), training_losses, label='Training Loss')\n",
    "# plt.plot(range(1, epochs + 1), validation_losses, label='Validation Loss')\n",
    "# plt.xlabel('Epochs')\n",
    "# plt.ylabel('Loss')\n",
    "# plt.title('Training and Validation Loss Over Time')\n",
    "# plt.legend()\n",
    "# plt.show()\n"
   ]
  },
  {
   "cell_type": "markdown",
   "metadata": {},
   "source": [
    "# Custom model\n",
    "Resolve unbalancement using data augmentation on undersampled categories."
   ]
  },
  {
   "cell_type": "markdown",
   "metadata": {},
   "source": [
    "Change the code above including: \n",
    "- data augmentation for minority categories\n",
    "- regularization to stabilize validation loss \n"
   ]
  },
  {
   "cell_type": "code",
   "execution_count": null,
   "metadata": {},
   "outputs": [
    {
     "name": "stdout",
     "output_type": "stream",
     "text": [
      "Loading raw data...\n"
     ]
    },
    {
     "name": "stderr",
     "output_type": "stream",
     "text": [
      "C:\\Users\\hp\\AppData\\Local\\Temp\\ipykernel_21024\\1198939761.py:38: DtypeWarning: Columns (5,11) have mixed types. Specify dtype option on import or set low_memory=False.\n",
      "  data = pd.read_csv('consumer_complaints.csv')\n",
      "c:\\Users\\hp\\Desktop\\context_detector\\env\\lib\\site-packages\\transformers\\tokenization_utils_base.py:2212: FutureWarning: The `pad_to_max_length` argument is deprecated and will be removed in a future version, use `padding=True` or `padding='longest'` to pad to the longest sequence in the batch, or use `padding='max_length'` to pad to a max length. In this case, you can give a specific length with `max_length` (e.g. `max_length=45`) or leave max_length to None to pad to the maximal input size of the model (e.g. 512 for Bert).\n",
      "  warnings.warn(\n",
      "Some weights of the model checkpoint at distilbert-base-uncased were not used when initializing DistilBertForSequenceClassification: ['vocab_projector.weight', 'vocab_transform.weight', 'vocab_transform.bias', 'vocab_layer_norm.bias', 'vocab_projector.bias', 'vocab_layer_norm.weight']\n",
      "- This IS expected if you are initializing DistilBertForSequenceClassification from the checkpoint of a model trained on another task or with another architecture (e.g. initializing a BertForSequenceClassification model from a BertForPreTraining model).\n",
      "- This IS NOT expected if you are initializing DistilBertForSequenceClassification from the checkpoint of a model that you expect to be exactly identical (initializing a BertForSequenceClassification model from a BertForSequenceClassification model).\n",
      "Some weights of DistilBertForSequenceClassification were not initialized from the model checkpoint at distilbert-base-uncased and are newly initialized: ['classifier.bias', 'classifier.weight', 'pre_classifier.bias', 'pre_classifier.weight']\n",
      "You should probably TRAIN this model on a down-stream task to be able to use it for predictions and inference.\n"
     ]
    },
    {
     "name": "stdout",
     "output_type": "stream",
     "text": [
      "Starting training...\n"
     ]
    },
    {
     "name": "stderr",
     "output_type": "stream",
     "text": [
      "  0%|          | 0/10 [08:14<?, ?it/s]"
     ]
    },
    {
     "name": "stdout",
     "output_type": "stream",
     "text": [
      "\n",
      "Epoch 1\n",
      "Training loss: 0.498710506214413\n"
     ]
    },
    {
     "name": "stderr",
     "output_type": "stream",
     "text": [
      " 10%|█         | 1/10 [08:40<1:18:02, 520.33s/it]"
     ]
    },
    {
     "name": "stdout",
     "output_type": "stream",
     "text": [
      "Validation loss: 0.3961485666622009\n",
      "F1 Score (Weighted): 0.879030594415266\n",
      "Accuracy: 0.8782401091405184\n"
     ]
    },
    {
     "name": "stderr",
     "output_type": "stream",
     "text": [
      " 10%|█         | 1/10 [17:02<1:18:02, 520.33s/it]"
     ]
    },
    {
     "name": "stdout",
     "output_type": "stream",
     "text": [
      "\n",
      "Epoch 2\n",
      "Training loss: 0.22101690399227503\n"
     ]
    },
    {
     "name": "stderr",
     "output_type": "stream",
     "text": [
      " 20%|██        | 2/10 [17:28<1:09:57, 524.67s/it]"
     ]
    },
    {
     "name": "stdout",
     "output_type": "stream",
     "text": [
      "Validation loss: 0.4863618822426212\n",
      "F1 Score (Weighted): 0.8883099792207994\n",
      "Accuracy: 0.888130968622101\n"
     ]
    },
    {
     "name": "stderr",
     "output_type": "stream",
     "text": [
      " 20%|██        | 2/10 [25:48<1:09:57, 524.67s/it]"
     ]
    },
    {
     "name": "stdout",
     "output_type": "stream",
     "text": [
      "\n",
      "Epoch 3\n",
      "Training loss: 0.1133847022731981\n"
     ]
    },
    {
     "name": "stderr",
     "output_type": "stream",
     "text": [
      " 30%|███       | 3/10 [26:13<1:01:16, 525.22s/it]"
     ]
    },
    {
     "name": "stdout",
     "output_type": "stream",
     "text": [
      "Validation loss: 0.6229034648049975\n",
      "F1 Score (Weighted): 0.8799340444334302\n",
      "Accuracy: 0.8799454297407913\n"
     ]
    },
    {
     "name": "stderr",
     "output_type": "stream",
     "text": []
    },
    {
     "ename": "",
     "evalue": "",
     "output_type": "error",
     "traceback": [
      "\u001b[1;31mCannot execute code, session has been disposed. Please try restarting the Kernel."
     ]
    },
    {
     "ename": "",
     "evalue": "",
     "output_type": "error",
     "traceback": [
      "\u001b[1;31mCannot execute code, session has been disposed. Please try restarting the Kernel. \n",
      "\u001b[1;31mView Jupyter <a href='command:jupyter.viewOutput'>log</a> for further details."
     ]
    }
   ],
   "source": [
    "# import os\n",
    "# import pandas as pd\n",
    "# import random\n",
    "# import numpy as np\n",
    "# import matplotlib.pyplot as plt\n",
    "# from tqdm import tqdm\n",
    "# import nlpaug.augmenter.word as naw\n",
    "# from transformers import DistilBertTokenizer, DistilBertForSequenceClassification, AdamW, get_linear_schedule_with_warmup\n",
    "# from torch.utils.data import TensorDataset, DataLoader, RandomSampler, SequentialSampler\n",
    "# from sklearn.metrics import f1_score, accuracy_score\n",
    "# from sklearn.model_selection import train_test_split\n",
    "# import torch\n",
    "\n",
    "# # Check torch and CUDA versions\n",
    "# print(torch.__version__)  # Should display the version of PyTorch with CUDA support\n",
    "# print(torch.version.cuda)  # Should display the CUDA version\n",
    "# print(torch.backends.cudnn.version())  # Should display the cuDNN version\n",
    "# print(torch.cuda.is_available())  # Should return True if CUDA is available\n",
    "\n",
    "\n",
    "\n",
    "# Set global variables and tokenizer parameters\n",
    "SUBSAMPLE = False\n",
    "DROPOUT_RATE = 0.5\n",
    "WEIGHT_DECAY = 0.02\n",
    "SEED = 42\n",
    "LR = 2e-5\n",
    "batch_size = 12\n",
    "epochs = 3\n",
    "\n",
    "tokenizer_params = {\n",
    "    'add_special_tokens': True,     # adds [CLS] and [SEP] tags\n",
    "    'return_attention_mask': True,  # useful for distinguishing between actual data and padding\n",
    "    'pad_to_max_length': True,      # to ensure all sequences have the same length\n",
    "    'truncation': True,\n",
    "    'max_length': 256,              # set the maximum length for sequences\n",
    "    'return_tensors': 'pt'          # use 'pt' when using PyTorch, 'tf' for TensorFlow\n",
    "}\n",
    "\n",
    "# Load data\n",
    "print(\"Loading raw data...\")\n",
    "data = pd.read_csv('consumer_complaints.csv')\n",
    "data = data[['product', 'consumer_complaint_narrative']]\n",
    "data = data.dropna()\n",
    "categories_to_drop = ['Consumer Loan', 'Student loan', 'Prepaid card', 'Payday loan', 'Money transfers', 'Other financial service']\n",
    "data = data[~data['product'].isin(categories_to_drop)]\n",
    "\n",
    "# Sub-sample to speed up the training process \n",
    "if SUBSAMPLE: \n",
    "    data = data.sample(frac=0.25, random_state=SEED)\n",
    "\n",
    "# Example label dictionary for demonstration\n",
    "label_dict = {label: idx for idx, label in enumerate(data['product'].unique())}\n",
    "\n",
    "# Prepare data\n",
    "data['label'] = data['product'].replace(label_dict)\n",
    "\n",
    "# Train-test split\n",
    "X_train, X_val, y_train, y_val = train_test_split(\n",
    "    data.index.values,\n",
    "    data['label'].values,\n",
    "    test_size = 0.2,\n",
    "    random_state=SEED,\n",
    "    stratify = data['label'])\n",
    "\n",
    "# Define data type in the original dataset\n",
    "data['data_type'] = ['not_set'] * data.shape[0]\n",
    "data.loc[X_train, 'data_type'] = 'train'\n",
    "data.loc[X_val, 'data_type'] = 'val'\n",
    "\n",
    "# Initialize the tokenizer\n",
    "tokenizer = DistilBertTokenizer.from_pretrained('distilbert-base-uncased', do_lower_case=True)\n",
    "\n",
    "# Define augmenters\n",
    "aug_syn = naw.SynonymAug(aug_src='wordnet')\n",
    "aug_swap = naw.RandomWordAug(action=\"swap\")\n",
    "aug_delete = naw.RandomWordAug(action=\"delete\")\n",
    "augmenters = [aug_syn, aug_swap, aug_delete]\n",
    "\n",
    "# Function to apply data augmentation to text\n",
    "def augment_text(text, augmenters, num_augmentations=1):\n",
    "    augmented_texts = [text]\n",
    "    for _ in range(num_augmentations):\n",
    "        augmenter = random.choice(augmenters)\n",
    "        augmented_text = augmenter.augment(text)\n",
    "        augmented_texts.append(augmented_text)\n",
    "    return augmented_texts\n",
    "\n",
    "# Check class distribution (we will use data augmentation to oversample underrepresented classes)\n",
    "class_counts = data[data.data_type=='train']['product'].value_counts()\n",
    "\n",
    "# Determine maximum class count \n",
    "max_count = class_counts.max()\n",
    "\n",
    "# Augment minority classes to balance the dataset\n",
    "augmented_data = []\n",
    "for product, count in class_counts.items():\n",
    "    if count < max_count:\n",
    "        subset = data[(data['product'] == product) & (data['data_type'] == 'train')]\n",
    "        needed_samples = max_count - count\n",
    "        while needed_samples > 0:\n",
    "            for index, row in subset.iterrows():\n",
    "                if needed_samples <= 0:\n",
    "                    break\n",
    "                text = row['consumer_complaint_narrative']\n",
    "                augmented_texts = augment_text(text, augmenters, num_augmentations=1)\n",
    "                for augmented_text in augmented_texts:\n",
    "                    augmented_data.append((augmented_text, row['label']))\n",
    "                    needed_samples -= 1\n",
    "\n",
    "# Create new dataframe with augmented data and combine it with the training dataset\n",
    "augmented_df = pd.DataFrame(augmented_data, columns=['consumer_complaint_narrative', 'label'])\n",
    "train_data = pd.concat([data[data.data_type=='train'][['consumer_complaint_narrative', 'label']], augmented_df], ignore_index=True)\n",
    "\n",
    "# Ensure all entries are strings \n",
    "train_data['consumer_complaint_narrative'] = train_data['consumer_complaint_narrative'].apply(lambda x: ' '.join(x) if isinstance(x, list) else str(x))\n",
    "\n",
    "# Continue with tokenization and creating DataLoader as before\n",
    "encoded_data_train = tokenizer.batch_encode_plus(\n",
    "    train_data['consumer_complaint_narrative'].values.tolist(),\n",
    "    **tokenizer_params\n",
    ")\n",
    "\n",
    "encoded_data_val = tokenizer.batch_encode_plus(\n",
    "    data[data.data_type=='val']['consumer_complaint_narrative'].values,\n",
    "    **tokenizer_params\n",
    ")\n",
    "\n",
    "input_ids_train = encoded_data_train['input_ids']\n",
    "attention_masks_train = encoded_data_train['attention_mask']\n",
    "labels_train = torch.tensor(train_data['label'].values)\n",
    "\n",
    "input_ids_val = encoded_data_val['input_ids']\n",
    "attention_masks_val = encoded_data_val['attention_mask']\n",
    "labels_val = torch.tensor(data[data.data_type=='val']['label'].values)\n",
    "\n",
    "dataset_train = TensorDataset(input_ids_train, attention_masks_train, labels_train)\n",
    "dataset_val = TensorDataset(input_ids_val, attention_masks_val, labels_val)\n",
    "\n",
    "dataloader_train = DataLoader(dataset_train, sampler=RandomSampler(dataset_train), batch_size=batch_size)\n",
    "dataloader_validation = DataLoader(dataset_val, sampler=SequentialSampler(dataset_val), batch_size=batch_size)\n",
    "\n",
    "# Load device\n",
    "device = torch.device('cuda' if torch.cuda.is_available() else 'cpu')\n",
    "\n",
    "# Define the model with dropout\n",
    "class DistilBertForSequenceClassificationWithDropout(torch.nn.Module):\n",
    "    def __init__(self, model_name, num_labels, dropout_rate=0.3):\n",
    "        super(DistilBertForSequenceClassificationWithDropout, self).__init__()\n",
    "        self.distilbert = DistilBertForSequenceClassification.from_pretrained(model_name, num_labels=num_labels)\n",
    "        self.dropout = torch.nn.Dropout(dropout_rate)\n",
    "        self.classifier = torch.nn.Linear(self.distilbert.config.hidden_size, num_labels)\n",
    "\n",
    "    def forward(self, input_ids, attention_mask, labels=None):\n",
    "        # Get the outputs from the DistilBERT model\n",
    "        outputs = self.distilbert.distilbert(input_ids=input_ids, attention_mask=attention_mask)\n",
    "        hidden_state = outputs[0]  # (batch_size, seq_len, hidden_size)\n",
    "\n",
    "        # Apply dropout to the first token (CLS token) in the hidden state\n",
    "        pooled_output = hidden_state[:, 0]  # (batch_size, hidden_size)\n",
    "        pooled_output = self.dropout(pooled_output)\n",
    "\n",
    "        # Pass the pooled output through the classifier layer\n",
    "        logits = self.classifier(pooled_output)\n",
    "\n",
    "        # Calculate the loss if labels are provided\n",
    "        loss = None\n",
    "        if labels is not None:\n",
    "            loss_fct = torch.nn.CrossEntropyLoss()\n",
    "            loss = loss_fct(logits.view(-1, self.classifier.out_features), labels.view(-1))\n",
    "\n",
    "        return (loss, logits)\n",
    "\n",
    "model = DistilBertForSequenceClassificationWithDropout(model_name=\"distilbert-base-uncased\", num_labels=len(label_dict))\n",
    "\n",
    "model.to(device)\n",
    "\n",
    "# AdamW for Adam optimization with Weight decay\n",
    "optimizer = AdamW(model.parameters(), lr=LR, eps=1e-8, weight_decay=0.01)  # Added weight_decay for L2 regularization\n",
    "\n",
    "scheduler = get_linear_schedule_with_warmup(optimizer, num_warmup_steps=100, num_training_steps=len(dataloader_train) * epochs)\n",
    "\n",
    "# Define evaluation function\n",
    "def evaluate(dataloader_val):\n",
    "    model.eval()\n",
    "    loss_val_total = 0\n",
    "    predictions, true_vals = [], []\n",
    "\n",
    "    for batch in dataloader_val:\n",
    "        batch = tuple(b.to(device) for b in batch)\n",
    "        inputs = {\n",
    "            'input_ids': batch[0],\n",
    "            'attention_mask': batch[1],\n",
    "            'labels': batch[2],\n",
    "        }\n",
    "\n",
    "        with torch.no_grad():\n",
    "            outputs = model(**inputs)\n",
    "        loss = outputs[0]\n",
    "        logits = outputs[1]\n",
    "        loss_val_total += loss.item()\n",
    "        logits = logits.detach().cpu().numpy()\n",
    "        label_ids = inputs['labels'].cpu().numpy()\n",
    "        predictions.append(logits)\n",
    "        true_vals.append(label_ids)\n",
    "\n",
    "    loss_val_avg = loss_val_total / len(dataloader_val)\n",
    "    predictions = np.concatenate(predictions, axis=0)\n",
    "    true_vals = np.concatenate(true_vals, axis=0)\n",
    "\n",
    "    return loss_val_avg, predictions, true_vals\n",
    "\n",
    "# Initialize lists to store losses for plotting\n",
    "training_losses = []\n",
    "validation_losses = []\n",
    "\n",
    "# Ensure the directory for saving models exists\n",
    "os.makedirs('models', exist_ok=True)\n",
    "\n",
    "print(\"Starting training...\")\n",
    "# Training loop\n",
    "for epoch in tqdm(range(1, epochs+1)):\n",
    "    model.train()\n",
    "    loss_train_total = 0\n",
    "    progress_bar = tqdm(dataloader_train, desc='Epoch {:1d}'.format(epoch), leave=False, ncols=100)\n",
    "    for batch in progress_bar:\n",
    "        model.zero_grad()\n",
    "        batch = tuple(b.to(device) for b in batch)\n",
    "        inputs = {\n",
    "            'input_ids': batch[0],\n",
    "            'attention_mask': batch[1],\n",
    "            'labels': batch[2],\n",
    "        }\n",
    "        outputs = model(**inputs)\n",
    "        loss = outputs[0]\n",
    "        loss_train_total += loss.item()\n",
    "        loss.backward()\n",
    "        torch.nn.utils.clip_grad_norm_(model.parameters(), 1.0)\n",
    "        optimizer.step()\n",
    "        scheduler.step()\n",
    "        progress_bar.set_postfix({'training_loss': '{:.3f}'.format(loss.item() / len(batch))})\n",
    "\n",
    "    # Save the model at each epoch \n",
    "    torch.save(model.state_dict(), f'models/finetuned_BERT_epoch_aug_{epoch}.model')\n",
    "\n",
    "    tqdm.write(f'\\nEpoch {epoch}')\n",
    "    loss_train_avg = loss_train_total / len(dataloader_train)\n",
    "    training_losses.append(loss_train_avg)\n",
    "    tqdm.write(f'Training loss: {loss_train_avg}')\n",
    "\n",
    "    val_loss, predictions, true_vals = evaluate(dataloader_validation)\n",
    "    val_f1 = f1_score(predictions.argmax(axis=1), true_vals, average='weighted')\n",
    "    val_accuracy = accuracy_score(predictions.argmax(axis=1), true_vals)\n",
    "    validation_losses.append(val_loss)\n",
    "    tqdm.write(f'Validation loss: {val_loss}')\n",
    "    tqdm.write(f'F1 Score (Weighted): {val_f1}')\n",
    "    tqdm.write(f'Accuracy: {val_accuracy}')\n",
    "\n",
    "# Plotting the training and validation losses\n",
    "plt.figure(figsize=(10, 5))\n",
    "plt.plot(range(1, epochs + 1), training_losses, label='Training Loss')\n",
    "plt.plot(range(1, epochs + 1), validation_losses, label='Validation Loss')\n",
    "plt.xlabel('Epochs')\n",
    "plt.ylabel('Loss')\n",
    "plt.title('Training and Validation Loss Over Time')\n",
    "plt.legend()\n",
    "plt.show()\n"
   ]
  }
 ],
 "metadata": {
  "kernelspec": {
   "display_name": "env",
   "language": "python",
   "name": "python3"
  },
  "language_info": {
   "codemirror_mode": {
    "name": "ipython",
    "version": 3
   },
   "file_extension": ".py",
   "mimetype": "text/x-python",
   "name": "python",
   "nbconvert_exporter": "python",
   "pygments_lexer": "ipython3",
   "version": "3.8.3"
  }
 },
 "nbformat": 4,
 "nbformat_minor": 2
}
