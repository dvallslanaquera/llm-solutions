{
 "cells": [
  {
   "cell_type": "code",
   "execution_count": 1,
   "metadata": {},
   "outputs": [],
   "source": [
    "# !pip uninstall torch torchvision torchaudio\n",
    "# !pip install torch torchvision torchaudio --index-url https://download.pytorch.org/whl/cu118\n",
    "# !pip install matplotlib"
   ]
  },
  {
   "cell_type": "code",
   "execution_count": 4,
   "metadata": {},
   "outputs": [
    {
     "name": "stderr",
     "output_type": "stream",
     "text": [
      "c:\\Users\\hp\\Desktop\\context_detector\\env\\lib\\site-packages\\torch\\cuda\\memory.py:330: FutureWarning: torch.cuda.reset_max_memory_allocated now calls torch.cuda.reset_peak_memory_stats, which resets /all/ peak memory stats.\n",
      "  warnings.warn(\n",
      "c:\\Users\\hp\\Desktop\\context_detector\\env\\lib\\site-packages\\torch\\cuda\\memory.py:356: FutureWarning: torch.cuda.reset_max_memory_cached now calls torch.cuda.reset_peak_memory_stats, which resets /all/ peak memory stats.\n",
      "  warnings.warn(\n"
     ]
    }
   ],
   "source": [
    "import gc\n",
    "import torch\n",
    "\n",
    "# Clear CUDA cache function\n",
    "def clear_cuda_cache():\n",
    "    torch.cuda.empty_cache()\n",
    "    torch.cuda.reset_max_memory_allocated()\n",
    "    torch.cuda.reset_max_memory_cached()\n",
    "    gc.collect()\n",
    "\n",
    "clear_cuda_cache()"
   ]
  },
  {
   "cell_type": "code",
   "execution_count": 5,
   "metadata": {},
   "outputs": [
    {
     "name": "stderr",
     "output_type": "stream",
     "text": [
      "c:\\Users\\hp\\Desktop\\context_detector\\env\\lib\\site-packages\\tqdm\\auto.py:21: TqdmWarning: IProgress not found. Please update jupyter and ipywidgets. See https://ipywidgets.readthedocs.io/en/stable/user_install.html\n",
      "  from .autonotebook import tqdm as notebook_tqdm\n"
     ]
    },
    {
     "name": "stdout",
     "output_type": "stream",
     "text": [
      "2.3.1+cu118\n",
      "11.8\n",
      "8700\n",
      "True\n",
      "Loading raw data...\n"
     ]
    },
    {
     "name": "stderr",
     "output_type": "stream",
     "text": [
      "C:\\Users\\hp\\AppData\\Local\\Temp\\ipykernel_21320\\3336581288.py:41: DtypeWarning: Columns (5,11) have mixed types. Specify dtype option on import or set low_memory=False.\n",
      "  data = pd.read_csv('consumer_complaints.csv')\n"
     ]
    },
    {
     "name": "stdout",
     "output_type": "stream",
     "text": [
      "Loading tokenizer\n"
     ]
    },
    {
     "name": "stderr",
     "output_type": "stream",
     "text": [
      "The tokenizer class you load from this checkpoint is not the same type as the class this function is called from. It may result in unexpected tokenization. \n",
      "The tokenizer class you load from this checkpoint is 'BertTokenizer'. \n",
      "The class this function is called from is 'DistilBertTokenizer'.\n",
      "c:\\Users\\hp\\Desktop\\context_detector\\env\\lib\\site-packages\\transformers\\tokenization_utils_base.py:2212: FutureWarning: The `pad_to_max_length` argument is deprecated and will be removed in a future version, use `padding=True` or `padding='longest'` to pad to the longest sequence in the batch, or use `padding='max_length'` to pad to a max length. In this case, you can give a specific length with `max_length` (e.g. `max_length=45`) or leave max_length to None to pad to the maximal input size of the model (e.g. 512 for Bert).\n",
      "  warnings.warn(\n"
     ]
    },
    {
     "name": "stdout",
     "output_type": "stream",
     "text": [
      "format\n",
      "['XXXX has claimed I owe them {$27.00} for XXXX years despite the PROOF of PAYMENT I sent them : canceled check and their ownPAID INVOICE for {$27.00}! \\nThey continue to insist I owe them and collection agencies are after me. \\nHow can I stop this harassment for a bill I already paid four years ago? \\n'\n",
      " \"In XX/XX/XXXX my wages that I earned at my job decreased by almost half, by XX/XX/XXXX I knew I was in trouble with my home loan. I began contacting WFB whom my home loan is with, for assitance and options. \\nIn early XX/XX/XXXX I began the Loan Modification process with Wells Fargo Bank. I was told that they would not assist me with anything financial on my home loan until I fell 90 days behind, though at the time I started to inquire for assistance from WFB I was only a few weeks behind. So, I began working with a program called XXXX. They approved me for a variety of assistence and reached out to Wells Fargo Bank to determine what they could assist with. Wells Fargo then turned down the assistance from XXXX and finally offered to do a Loan Modification for me. The outcome was totally unknow about what I would be offered in the end by WFB for assistance. Wells Fargo lost my paperwork twice during this process, so it took 2 months from the time I started to the time my paperwork began to be processed for some kind of approval. In XX/XX/XXXX I was in a trial period of 3 months of payments based on a slightly modified amount. Roughly {$75.00} less than what I was paying on my original payment. However, my caseworker with WFB, failed to tell me that since the payments during this time were not the full amount of the original mortgage payment so they were not applied to the loan. I discovered this in XX/XX/XXXX when I was told by a creditor with XXXX that she could n't restore my line of credit because of something to do with my mortgage. I then called and found this out. My caseworker at WFB then told me it was n't her responsibility to tell me this information. I told her that she could have told me that if I could come up with the remaining amount of {$75.00} then the payments would be applied. Instead, she chose to withhold this information and damage my credit even further. Now we are into 5 months ( including the 90 days WFB told me I had to fall behind until they would help me ) without an applied payment to my home loan, going on 6 months. \\nMore paperwork was lost in XXXX as the modification was being finalized and my loan modification did n't go through until XX/XX/XXXX. I spoke to a lawyer that is working on a class-action lawsuit against WFB for people in a similar situation and said this paper loss is typical. \\nWells Fargo did not reduce the interest rate, but they did reduce the payment by less than {$100.00} and the payments I was behind went back into the loan. \\nMy property taxes also fell behind in my escrow account at this time because there was no payment on the loan. So, I am behind on my property taxes, have damaged credit, and and I am not in any better payment situation than I was. \\nThey can not give me a reason on why they rejected XXXX assistance. I was originally told they were not an approved agency but on a later phone call to Wells Fargo Bank I was told that they work with that program often and the WFB employee could not understand why they would reject the help. I also spoke with XXXX and they said that Wells Fargo works with this program all the time and could n't understand why they would do this. \\nI feel that I have been taken advantage of by Wells Fargo and would like to pursue legal action against them based on negligence. \\nAlthough my payments are back on track I am not making much more money now than I was before so it is only a matter of time before something like this happens again if something unforeseen happens to my life that affects my finances. \\n\"\n",
      " 'I have an open and current mortgage with Chase Bank # XXXX. Chase is reporting the loan payments to XXXX but XXXX is surpressing the information and reporting the loan as Discharged in BK. This mortgage was reaffirmed in a Chapter XXXX BK discharged dated XXXX/XXXX/2013. Chase keeps referring to BK Law for Chapter XXXX and we keep providing documentation for Chapter XXXX, and the account should be open and current with all the payments \\n'\n",
      " ... 'Reflecting incorrect payment status. Have been on time. \\n'\n",
      " 'I recently became aware that Amerisave Mortgage Corporation participated in some illegal practices that harm customers. I did not know at the time ( until recently ) that I had any legal recourse for an issue I had, and I would like to seek restitution at this time. I applied for a 30 year fixed rate mortgage loan with Amerisave on XXXX/XXXX/06 ( loan application # XXXX ). As part of the process I paid for an appraisal. I also paid for \" discount points \\'\\' to lower the interest rate on the mortgage. These payments were made through my credit card on XXXX/XXXX/06, and I have those records. Shortly after I cancelled the loan, as the terms had not been satisfactory. It was my understanding that the {$390.00} appraisal fee was non-refundable, but the {$3000.00} that was paid in discount points should have been reimbursed. I inquired many times to Amerisave to get this {$3000.00} reimbursement and they said they could not refund the money. Not only was this bad customer service, but caused customer harm to me in a deceptive and possibly illegal action of not returning the {$3000.00} in funds. Although it has been nearly 10 years, I would like to have this money refunded to me. I did not know at the time that I had any rights to get this money back, and was told to the contrary. Please advise. Thank you. \\n'\n",
      " 'Bank of America has demonstrated an on-going level of incompetence, callous disregard for the wellbeing of its customer and negligence in their responsibility to adequately guide a client through a loan process. Because of their unprofessional behavior we have suffered extraordinary emotional hardship and they have inflicted a financial burden on us not initially intended when we applied for the loan. \\n\\nOne of many issues is as follows. After going through an extraordinarily difficult mortgage finalization process I wrote to the president of Bank of America. Within a very short time I received calls from a corporate representative in XXXX, another representative in XXXX and a regional District Sales Manager. \\n\\nMy issue, at this point, is the way they have opted to getting around paying what they said they would pay me. In response to my complaint they agreed to cover the cost of the house appraisal and to honor their \" guaranteed close \\'\\' agreement. In a discussion with the District Sales Manager he stated that a reimbursement of travel costs due to their inadequate notification that our initial close date could not be met. We discussed the rates to be utilized to arrive at a figure and he said that actual receipts would not be needed. He asked if this approach would be acceptable. I told him to email all that we have talked about and I will review it with my wife. Here is what the representative from the corporate office wrote me soon after : \" XXXX XXXX, I spoke with XXXX and he asked me to pass along this information to you regarding your request for reimbursement. If you have any questions or need anything additional, please feel free to reach out to XXXX at XXXX. I have cc \\'d him on this email as well. \\nRegarding Reimbursement : There were XXXX trips back and forth between XXXX and XXXX. The trip is approximately XXXX miles. This brings the total mileage to XXXX miles. At $ XXXX/mile that would bring the total mileage reimbursement to {$620.00}. \\nThe hotel room was {$87.00} a night for XXXX nights totaling a hotel reimbursement in the amount of {$170.00}. Per diem for food is $ XXXX/day/person. For XXXX people over a 4 day period that brings the total food reimbursement to {$600.00}. \\nThis brings the total reimbursement to just under {$1400.00}. \\nWe have already agreed to refund your appraisal fee in the amount of {$460.00}, which is currently in process. You are also going to be receiving your Close On Time Commitment Payout in the amount of {$500.00}. This brings the total reimbursement that is already in process to {$960.00}. In order to bring us to the {$1400.00} total, we will be issuing you a check in the amount of {$440.00} to cover the difference. \\n{$620.00} ( mileage ) + {$170.00} ( lodging ) + {$600.00} ( food cost ) = {$1300.00} ( Rounded up to {$1400.00} ) {$1400.00} ( agreed reimbursement ) - {$460.00} ( appraisal refund in process ) - {$500.00} ( COTC in process ) = {$440.00} We will issue this check to the new address. Can you please confirm this is where you would like to have this mailed? \\nThank you very much and have a nice weekend! \\nSincerely, Consumer Lending Client Experience \\'\\' As you can see they created a final reimbursement figure by taking one issue, the travel reimbursement and then subtracting the \" in-process \\'\\' reimbursements. My strong contention is that there are three separate and distinct issues to be reimbursed. The three issues would total {$2300.00}. By doing a subtraction of two previous reimbursements for different issues they have substantially reduced their total payout. I find such an action to be cheap, insulting and a truly unprofessional way to address the needs of an aggrieved party to a horrific mortgage loan process as reviewed in my letter to the president ( attached ). A financial institution with the reach and impact that Bank of America has must be held to a higher standard and account for its actions. \\n']\n",
      "Extracting tokens...\n",
      "Load model...\n"
     ]
    },
    {
     "name": "stderr",
     "output_type": "stream",
     "text": [
      "Some weights of the model checkpoint at distilbert-base-uncased were not used when initializing DistilBertForSequenceClassification: ['vocab_transform.bias', 'vocab_projector.bias', 'vocab_layer_norm.weight', 'vocab_projector.weight', 'vocab_layer_norm.bias', 'vocab_transform.weight']\n",
      "- This IS expected if you are initializing DistilBertForSequenceClassification from the checkpoint of a model trained on another task or with another architecture (e.g. initializing a BertForSequenceClassification model from a BertForPreTraining model).\n",
      "- This IS NOT expected if you are initializing DistilBertForSequenceClassification from the checkpoint of a model that you expect to be exactly identical (initializing a BertForSequenceClassification model from a BertForSequenceClassification model).\n",
      "Some weights of DistilBertForSequenceClassification were not initialized from the model checkpoint at distilbert-base-uncased and are newly initialized: ['pre_classifier.weight', 'pre_classifier.bias', 'classifier.weight', 'classifier.bias']\n",
      "You should probably TRAIN this model on a down-stream task to be able to use it for predictions and inference.\n"
     ]
    }
   ],
   "source": [
    "import os\n",
    "import pandas as pd \n",
    "import random\n",
    "import numpy as np\n",
    "import matplotlib.pyplot as plt\n",
    "from tqdm import tqdm\n",
    "\n",
    "import torch\n",
    "from torch.utils.data import TensorDataset, DataLoader, RandomSampler, SequentialSampler\n",
    "from transformers import DistilBertTokenizer, DistilBertForSequenceClassification, AdamW, get_linear_schedule_with_warmup\n",
    "from sklearn.metrics import f1_score, accuracy_score\n",
    "from sklearn.model_selection import train_test_split\n",
    "import nlpaug.augmenter.word as naw\n",
    "\n",
    "# Check torch and CUDA versions\n",
    "print(torch.__version__)  # Should display the version of PyTorch with CUDA support\n",
    "print(torch.version.cuda)  # Should display the CUDA version\n",
    "print(torch.backends.cudnn.version())  # Should display the cuDNN version\n",
    "print(torch.cuda.is_available())  # Should return True if CUDA is available\n",
    "\n",
    "\n",
    "# Set global variables and tokenizer parameters\n",
    "SUBSAMPLE = False\n",
    "SEED = 42\n",
    "LR = 1e-5\n",
    "PLOT_EDA = False\n",
    "batch_size = 16\n",
    "epochs = 5\n",
    "\n",
    "tokenizer_params = {\n",
    "    'add_special_tokens': True,     # adds [CLS] and [SEP] tags\n",
    "    'return_attention_mask': True,  # useful for distinguishing between actual data and padding\n",
    "    'pad_to_max_length': True,      # to ensure all sequences have the same length\n",
    "    'truncation': True,\n",
    "    'max_length': 128,  #256             # set the maximum length for sequences\n",
    "    'return_tensors': 'pt'          # use 'pt' when using PyTorch, 'tf' for TensorFlow\n",
    "}\n",
    "\n",
    "# Load data \n",
    "print(\"Loading raw data...\")\n",
    "data = pd.read_csv('consumer_complaints.csv')\n",
    "data = data[['product', 'consumer_complaint_narrative']]\n",
    "\n",
    "### PREPROCESSING\n",
    "# Drop rows with all columns missing and underrepresented categories\n",
    "data = data.dropna()\n",
    "categories_to_drop = ['Consumer Loan', \n",
    "                    'Bank account or service',\n",
    "                    'Student loan', \n",
    "                    'Prepaid card',\n",
    "                    'Payday loan', \n",
    "                    'Money transfers', \n",
    "                    'Other financial service']\n",
    "data = data[~data['product'].isin(categories_to_drop)]\n",
    "\n",
    "# Sub-sample to speed up the training process \n",
    "if SUBSAMPLE: \n",
    "    data = data.sample(frac=0.25, random_state=SEED)\n",
    "\n",
    "if PLOT_EDA: \n",
    "    # EDA plots\n",
    "    # 1. Create a histogram with the word count for the column 'consumer_complaint_narrative'\n",
    "    data['narrative_word_count'] = data['consumer_complaint_narrative'].apply(lambda x: len(str(x).split()))\n",
    "\n",
    "    plt.figure(figsize=(10, 6))\n",
    "    plt.hist(data['narrative_word_count'], bins=30, edgecolor='k', alpha=0.7)\n",
    "    plt.title('Histogram of Word Count in Consumer Complaint Narratives')\n",
    "    plt.xlabel('Word Count')\n",
    "    plt.ylabel('Frequency')\n",
    "    plt.grid(axis='y', alpha=0.75)\n",
    "    plt.show()\n",
    "\n",
    "    # 2. Create a barplot counting each unique value in the column 'issue'\n",
    "    issue_counts = data['product'].value_counts()\n",
    "\n",
    "    plt.figure(figsize=(12, 8))\n",
    "    issue_counts.plot(kind='bar', color='skyblue', edgecolor='k', alpha=0.7)\n",
    "    plt.title('Barplot of Issues in Consumer Complaints')\n",
    "    plt.xlabel('Product')\n",
    "    plt.ylabel('Count')\n",
    "    plt.xticks(rotation=90)\n",
    "    plt.grid(axis='y', alpha=0.75)\n",
    "    plt.show()\n",
    "\n",
    "\n",
    "# Encoding labels\n",
    "labels_ = data['product'].unique()\n",
    "label_dict = {}\n",
    "for idx, labels_ in enumerate(labels_):\n",
    "    label_dict[labels_] = idx\n",
    "\n",
    "# Encode product labels\n",
    "data['label'] = data['product'].replace(label_dict)\n",
    "\n",
    "# Train-test split\n",
    "X_train, X_val, y_train, y_val = train_test_split(\n",
    "    data.index.values,\n",
    "    data['label'].values,\n",
    "    test_size = 0.2,\n",
    "    random_state=SEED,\n",
    "    stratify = data['label'])\n",
    "\n",
    "# Define data type in the original dataset\n",
    "data['data_type'] = ['not_set'] * data.shape[0]\n",
    "data.loc[X_train, 'data_type'] = 'train'\n",
    "data.loc[X_val, 'data_type'] = 'val'\n",
    "\n",
    "print('Loading tokenizer')\n",
    "# Load tokenizer\n",
    "tokenizer = DistilBertTokenizer.from_pretrained('bert-base-uncased',   # model name\n",
    "                                          do_lower_case=True)    # convert to lowercase\n",
    "\n",
    "encoded_data_train = tokenizer.batch_encode_plus(\n",
    "    data[data.data_type=='train']['consumer_complaint_narrative'].values,\n",
    "    **tokenizer_params\n",
    ")\n",
    "\n",
    "encoded_data_val = tokenizer.batch_encode_plus(\n",
    "    data[data.data_type=='val']['consumer_complaint_narrative'].values,\n",
    "    **tokenizer_params\n",
    ")\n",
    "\n",
    "print('Extracting tokens...')\n",
    "# Extract token input IDs and attention masks\n",
    "input_ids_train = encoded_data_train['input_ids']\n",
    "attention_masks_train = encoded_data_train['attention_mask']\n",
    "\n",
    "# Convert labels into tensors\n",
    "labels_train = torch.tensor(data[data.data_type=='train']['label'].values)\n",
    "\n",
    "# Repeat process for validation data\n",
    "input_ids_val = encoded_data_val['input_ids']\n",
    "attention_masks_val = encoded_data_val['attention_mask']\n",
    "labels_val = torch.tensor(data[data.data_type=='val']['label'].values)\n",
    "\n",
    "# Create tensor \n",
    "dataset_train = TensorDataset(input_ids_train, attention_masks_train, labels_train)\n",
    "dataset_val = TensorDataset(input_ids_val, attention_masks_val, labels_val)\n",
    "\n",
    "print(\"Load model...\")\n",
    "# lOAD PRE-TRAINED MODEL \n",
    "model = DistilBertForSequenceClassification.from_pretrained(\"distilbert-base-uncased\",\n",
    "                                                      num_labels=len(label_dict),\n",
    "                                                      output_attentions=False,\n",
    "                                                      output_hidden_states=False)\n",
    "\n",
    "\n",
    "dataloader_train = DataLoader(dataset_train,\n",
    "                              sampler=RandomSampler(dataset_train),\n",
    "                              batch_size=batch_size)\n",
    "\n",
    "dataloader_validation = DataLoader(dataset_val,\n",
    "                                   sampler=SequentialSampler(dataset_val),\n",
    "                                   batch_size=batch_size)\n",
    "\n",
    "# AdamW for Adam optimization with Weight decay\n",
    "optimizer = AdamW(model.parameters(),\n",
    "                  lr=LR,   \n",
    "                  eps=1e-8)\n",
    "\n",
    "scheduler = get_linear_schedule_with_warmup(optimizer,\n",
    "                                            num_warmup_steps=100,\n",
    "                                            num_training_steps=len(dataloader_train)*epochs)\n"
   ]
  },
  {
   "cell_type": "code",
   "execution_count": 6,
   "metadata": {},
   "outputs": [],
   "source": [
    "# Define accuracy functions\n",
    "def f1_score_func(preds, labels):\n",
    "    preds_flat = np.argmax(preds, axis=1).flatten()\n",
    "    labels_flat = labels.flatten()\n",
    "    return f1_score(labels_flat, preds_flat, average='weighted')\n",
    "\n",
    "def accuracy_per_class(preds, labels):\n",
    "    label_dict_inverse = {v: k for k, v in label_dict.items()}\n",
    "\n",
    "    preds_flat = np.argmax(preds, axis=1).flatten()\n",
    "    labels_flat = labels.flatten()\n",
    "\n",
    "    for label in np.unique(labels_flat):\n",
    "        y_preds = preds_flat[labels_flat==label]\n",
    "        y_true = labels_flat[labels_flat==label]\n",
    "        print(f'Class: {label_dict_inverse[label]}')\n",
    "        print(f'Accuracy: {len(y_preds[y_preds==label])}/{len(y_true)}\\n')\n",
    "\n",
    "def accuracy_func(preds, labels):\n",
    "    preds_flat = np.argmax(preds, axis=1).flatten()\n",
    "    labels_flat = labels.flatten()\n",
    "    return accuracy_score(labels_flat, preds_flat)"
   ]
  },
  {
   "cell_type": "code",
   "execution_count": 7,
   "metadata": {},
   "outputs": [
    {
     "name": "stdout",
     "output_type": "stream",
     "text": [
      "F1 Score: 0.16520875758377077\n",
      "Class: Debt collection\n",
      "Accuracy: 3511/3511\n",
      "\n",
      "Class: Mortgage\n",
      "Accuracy: 0/2984\n",
      "\n",
      "Class: Credit card\n",
      "Accuracy: 0/1586\n",
      "\n",
      "Class: Credit reporting\n",
      "Accuracy: 0/2505\n",
      "\n",
      "Initial Accuracy (Before Fine-tuning): 0.33166446249763837\n"
     ]
    }
   ],
   "source": [
    "### CREATE BENCHMARK USING A ZERO-SHOT MODEL \n",
    "def evaluate(model, dataloader):\n",
    "    model.eval()\n",
    "    preds, true_vals = [], []\n",
    "    for batch in dataloader:\n",
    "        batch = tuple(b.to(device) for b in batch)\n",
    "        inputs = {\n",
    "            'input_ids': batch[0],\n",
    "            'attention_mask': batch[1],\n",
    "            'labels': batch[2]\n",
    "        }\n",
    "        with torch.no_grad():\n",
    "            outputs = model(**inputs)\n",
    "        preds.append(outputs.logits.detach().cpu().numpy())\n",
    "        true_vals.append(inputs['labels'].detach().cpu().numpy())\n",
    "    \n",
    "    preds = np.concatenate(preds, axis=0)\n",
    "    true_vals = np.concatenate(true_vals, axis=0)\n",
    "    return preds, true_vals\n",
    "\n",
    "# Load the model and data on the device\n",
    "device = torch.device('cuda' if torch.cuda.is_available() else 'cpu')\n",
    "model.to(device)\n",
    "\n",
    "# Initial evaluation on validation set\n",
    "initial_preds, initial_true_vals = evaluate(model, dataloader_validation)\n",
    "initial_f1_score = f1_score_func(initial_preds, initial_true_vals)\n",
    "print(f'F1 Score: {initial_f1_score}')\n",
    "accuracy_per_class(initial_preds, initial_true_vals)\n",
    "\n",
    "\n",
    "initial_preds, initial_true_vals = evaluate(model, dataloader_validation)\n",
    "initial_accuracy = accuracy_func(initial_preds, initial_true_vals)\n",
    "print(f'Initial Accuracy (Before Fine-tuning): {initial_accuracy}')"
   ]
  },
  {
   "cell_type": "code",
   "execution_count": 8,
   "metadata": {},
   "outputs": [
    {
     "name": "stdout",
     "output_type": "stream",
     "text": [
      "Starting model training...\n"
     ]
    },
    {
     "name": "stderr",
     "output_type": "stream",
     "text": [
      "  0%|          | 0/5 [10:05<?, ?it/s]"
     ]
    },
    {
     "name": "stdout",
     "output_type": "stream",
     "text": [
      "\n",
      "Epoch 1\n",
      "Training loss: 0.3985042414052006\n"
     ]
    },
    {
     "name": "stderr",
     "output_type": "stream",
     "text": [
      " 20%|██        | 1/5 [10:48<43:12, 648.19s/it]"
     ]
    },
    {
     "name": "stdout",
     "output_type": "stream",
     "text": [
      "Validation loss: 0.2743486328109581\n",
      "F1 Score (Weighted): 0.9095460624105788\n",
      "Accuracy: 0.9100699036463253\n"
     ]
    },
    {
     "name": "stderr",
     "output_type": "stream",
     "text": [
      " 20%|██        | 1/5 [20:54<43:12, 648.19s/it]"
     ]
    },
    {
     "name": "stdout",
     "output_type": "stream",
     "text": [
      "\n",
      "Epoch 2\n",
      "Training loss: 0.24102891095719378\n"
     ]
    },
    {
     "name": "stderr",
     "output_type": "stream",
     "text": [
      " 40%|████      | 2/5 [21:36<32:24, 648.11s/it]"
     ]
    },
    {
     "name": "stdout",
     "output_type": "stream",
     "text": [
      "Validation loss: 0.27050161252102145\n",
      "F1 Score (Weighted): 0.9170302863415727\n",
      "Accuracy: 0.9169658038919327\n"
     ]
    },
    {
     "name": "stderr",
     "output_type": "stream",
     "text": [
      " 40%|████      | 2/5 [31:41<32:24, 648.11s/it]"
     ]
    },
    {
     "name": "stdout",
     "output_type": "stream",
     "text": [
      "\n",
      "Epoch 3\n",
      "Training loss: 0.19204460588802097\n"
     ]
    },
    {
     "name": "stderr",
     "output_type": "stream",
     "text": [
      " 60%|██████    | 3/5 [32:24<21:36, 648.01s/it]"
     ]
    },
    {
     "name": "stdout",
     "output_type": "stream",
     "text": [
      "Validation loss: 0.2802347778866709\n",
      "F1 Score (Weighted): 0.9211397342874146\n",
      "Accuracy: 0.9212167013036086\n"
     ]
    },
    {
     "name": "stderr",
     "output_type": "stream",
     "text": [
      " 60%|██████    | 3/5 [42:29<21:36, 648.01s/it]"
     ]
    },
    {
     "name": "stdout",
     "output_type": "stream",
     "text": [
      "\n",
      "Epoch 4\n",
      "Training loss: 0.15504359634015055\n"
     ]
    },
    {
     "name": "stderr",
     "output_type": "stream",
     "text": [
      " 80%|████████  | 4/5 [43:12<10:48, 648.01s/it]"
     ]
    },
    {
     "name": "stdout",
     "output_type": "stream",
     "text": [
      "Validation loss: 0.30635552918411835\n",
      "F1 Score (Weighted): 0.9227247310783367\n",
      "Accuracy: 0.9228225958813527\n"
     ]
    },
    {
     "name": "stderr",
     "output_type": "stream",
     "text": [
      " 80%|████████  | 4/5 [53:19<10:48, 648.01s/it]"
     ]
    },
    {
     "name": "stdout",
     "output_type": "stream",
     "text": [
      "\n",
      "Epoch 5\n",
      "Training loss: 0.1310204040696021\n"
     ]
    },
    {
     "name": "stderr",
     "output_type": "stream",
     "text": [
      "100%|██████████| 5/5 [54:01<00:00, 648.37s/it]\n"
     ]
    },
    {
     "name": "stdout",
     "output_type": "stream",
     "text": [
      "Validation loss: 0.3187597136090937\n",
      "F1 Score (Weighted): 0.9247168679522155\n",
      "Accuracy: 0.9248063480068014\n"
     ]
    },
    {
     "data": {
      "image/png": "[encoded data removed]",
      "text/plain": [
       "<Figure size 1000x500 with 1 Axes>"
      ]
     },
     "metadata": {},
     "output_type": "display_data"
    }
   ],
   "source": [
    "random.seed(SEED)\n",
    "np.random.seed(SEED)\n",
    "torch.manual_seed(SEED)\n",
    "torch.cuda.manual_seed_all(SEED)\n",
    "\n",
    "device = torch.device('cuda' if torch.cuda.is_available() else 'cpu')\n",
    "\n",
    "print(\"Starting model training...\")\n",
    "# Move model to device\n",
    "model.to(device)\n",
    "\n",
    "def accuracy_func(preds, labels):\n",
    "    preds_flat = np.argmax(preds, axis=1).flatten()\n",
    "    labels_flat = labels.flatten()\n",
    "    return accuracy_score(labels_flat, preds_flat)\n",
    "\n",
    "def evaluate(dataloader_val):\n",
    "    model.eval()\n",
    "    loss_val_total = 0\n",
    "    predictions, true_vals = [], []\n",
    "\n",
    "    for batch in dataloader_val:\n",
    "        batch = tuple(b.to(device) for b in batch)\n",
    "        inputs = {\n",
    "            'input_ids': batch[0],\n",
    "            'attention_mask': batch[1],\n",
    "            'labels': batch[2],\n",
    "        }\n",
    "\n",
    "        with torch.no_grad():\n",
    "            outputs = model(**inputs)\n",
    "        loss = outputs[0]\n",
    "        logits = outputs[1]\n",
    "        loss_val_total += loss.item()\n",
    "        logits = logits.detach().cpu().numpy()\n",
    "        label_ids = inputs['labels'].cpu().numpy()\n",
    "        predictions.append(logits)\n",
    "        true_vals.append(label_ids)\n",
    "\n",
    "    loss_val_avg = loss_val_total / len(dataloader_val)\n",
    "    predictions = np.concatenate(predictions, axis=0)\n",
    "    true_vals = np.concatenate(true_vals, axis=0)\n",
    "\n",
    "    return loss_val_avg, predictions, true_vals\n",
    "\n",
    "# Initialize lists to store losses for plotting\n",
    "training_losses = []\n",
    "validation_losses = []\n",
    "\n",
    "# Ensure the directory for saving models exists\n",
    "os.makedirs('models', exist_ok=True)\n",
    "\n",
    "for epoch in tqdm(range(1, epochs+1)):\n",
    "    model.train()\n",
    "    loss_train_total = 0\n",
    "    progress_bar = tqdm(dataloader_train, desc='Epoch {:1d}'.format(epoch), leave=False, ncols=100)\n",
    "    for batch in progress_bar:\n",
    "        model.zero_grad()\n",
    "        batch = tuple(b.to(device) for b in batch)\n",
    "        inputs = {\n",
    "            'input_ids': batch[0],\n",
    "            'attention_mask': batch[1],\n",
    "            'labels': batch[2],\n",
    "        }\n",
    "        outputs = model(**inputs)\n",
    "        loss = outputs[0]\n",
    "        loss_train_total += loss.item()\n",
    "        loss.backward()\n",
    "        torch.nn.utils.clip_grad_norm_(model.parameters(), 1.0)\n",
    "        optimizer.step()\n",
    "        scheduler.step()\n",
    "        progress_bar.set_postfix({'training_loss': '{:.3f}'.format(loss.item() / len(batch))})\n",
    "\n",
    "    # Save the model at each epoch \n",
    "    torch.save(model.state_dict(), f'models/finetuned_BERT_epoch_{epoch}.model')\n",
    "\n",
    "    tqdm.write(f'\\nEpoch {epoch}')\n",
    "    loss_train_avg = loss_train_total / len(dataloader_train)\n",
    "    training_losses.append(loss_train_avg)\n",
    "    tqdm.write(f'Training loss: {loss_train_avg}')\n",
    "\n",
    "    val_loss, predictions, true_vals = evaluate(dataloader_validation)\n",
    "    val_f1 = f1_score_func(predictions, true_vals)\n",
    "    val_accuracy = accuracy_func(predictions, true_vals)\n",
    "    validation_losses.append(val_loss)\n",
    "    tqdm.write(f'Validation loss: {val_loss}')\n",
    "    tqdm.write(f'F1 Score (Weighted): {val_f1}')\n",
    "    tqdm.write(f'Accuracy: {val_accuracy}')\n",
    "\n",
    "# Plotting the training and validation losses\n",
    "plt.figure(figsize=(10, 5))\n",
    "plt.plot(range(1, epochs + 1), training_losses, label='Training Loss')\n",
    "plt.plot(range(1, epochs + 1), validation_losses, label='Validation Loss')\n",
    "plt.xlabel('Epochs')\n",
    "plt.ylabel('Loss')\n",
    "plt.title('Training and Validation Loss Over Time')\n",
    "plt.legend()\n",
    "plt.show()"
   ]
  },
  {
   "cell_type": "markdown",
   "metadata": {},
   "source": [
    "Use the best model to compare how it classifies between classes compared to the original benchmark. "
   ]
  },
  {
   "cell_type": "code",
   "execution_count": 10,
   "metadata": {},
   "outputs": [
    {
     "name": "stdout",
     "output_type": "stream",
     "text": [
      "Loading model from epoch 2...\n",
      "F1 Score: 0.9170302863415727\n",
      "Accuracy: 0.9169658038919327\n",
      "Class: Debt collection\n",
      "Accuracy: 3122/3511\n",
      "\n",
      "Class: Mortgage\n",
      "Accuracy: 2873/2984\n",
      "\n",
      "Class: Credit card\n",
      "Accuracy: 1401/1586\n",
      "\n",
      "Class: Credit reporting\n",
      "Accuracy: 2311/2505\n",
      "\n"
     ]
    }
   ],
   "source": [
    "# Function to evaluate the model\n",
    "def evaluate(model, dataloader):\n",
    "    model.eval()\n",
    "    preds, true_vals = [], []\n",
    "    for batch in dataloader:\n",
    "        batch = tuple(b.to(device) for b in batch)\n",
    "        inputs = {\n",
    "            'input_ids': batch[0],\n",
    "            'attention_mask': batch[1],\n",
    "            'labels': batch[2]\n",
    "        }\n",
    "        with torch.no_grad():\n",
    "            outputs = model(**inputs)\n",
    "        preds.append(outputs[1].detach().cpu().numpy())  # logits are at index 1\n",
    "        true_vals.append(inputs['labels'].detach().cpu().numpy())\n",
    "    \n",
    "    preds = np.concatenate(preds, axis=0)\n",
    "    true_vals = np.concatenate(true_vals, axis=0)\n",
    "    return preds, true_vals\n",
    "\n",
    "# Function to print class-wise accuracy\n",
    "def accuracy_per_class(preds, labels, label_dict):\n",
    "    preds_flat = np.argmax(preds, axis=1).flatten()\n",
    "    labels_flat = labels.flatten()\n",
    "    label_dict_inverse = {v: k for k, v in label_dict.items()}\n",
    "\n",
    "    for label in np.unique(labels_flat):\n",
    "        y_preds = preds_flat[labels_flat == label]\n",
    "        y_true = labels_flat[labels_flat == label]\n",
    "        accuracy = len(y_preds[y_preds == label]) / len(y_true)\n",
    "        print(f'Class: {label_dict_inverse[label]}')\n",
    "        print(f'Accuracy: {len(y_preds[y_preds == label])}/{len(y_true)}\\n')\n",
    "\n",
    "# Load and evaluate the model from epoch 2\n",
    "print(\"Loading model from epoch 2...\")\n",
    "model.load_state_dict(torch.load('models/finetuned_BERT_epoch_2.model'))\n",
    "model.to(device)\n",
    "preds_epoch_3, true_vals_epoch_3 = evaluate(model, dataloader_validation)\n",
    "f1_score_epoch_3 = f1_score_func(preds_epoch_3, true_vals_epoch_3)\n",
    "accuracy_epoch_3 = accuracy_func(preds_epoch_3, true_vals_epoch_3)\n",
    "\n",
    "# Print F1 score and overall accuracy\n",
    "print(f'F1 Score: {f1_score_epoch_3}')\n",
    "print(f'Accuracy: {accuracy_epoch_3}')\n",
    "\n",
    "# Print class-wise accuracy\n",
    "accuracy_per_class(preds_epoch_3, true_vals_epoch_3, label_dict)\n"
   ]
  },
  {
   "cell_type": "code",
   "execution_count": null,
   "metadata": {},
   "outputs": [
    {
     "name": "stderr",
     "output_type": "stream",
     "text": [
      "You are using a model of type bert to instantiate a model of type distilbert. This is not supported for all configurations of models and can yield errors.\n",
      "Some weights of the model checkpoint at bert-base-uncased were not used when initializing DistilBertForSequenceClassification: ['bert.encoder.layer.11.attention.self.query.weight', 'bert.encoder.layer.2.attention.self.key.bias', 'bert.encoder.layer.7.output.LayerNorm.weight', 'bert.encoder.layer.9.intermediate.dense.weight', 'bert.encoder.layer.11.attention.self.value.bias', 'bert.encoder.layer.8.attention.output.LayerNorm.bias', 'bert.encoder.layer.2.output.LayerNorm.weight', 'bert.encoder.layer.8.output.dense.weight', 'bert.pooler.dense.weight', 'bert.encoder.layer.8.intermediate.dense.bias', 'bert.pooler.dense.bias', 'bert.encoder.layer.1.attention.self.query.bias', 'bert.encoder.layer.1.intermediate.dense.weight', 'bert.encoder.layer.8.attention.output.dense.bias', 'bert.encoder.layer.1.attention.self.value.weight', 'bert.encoder.layer.8.output.LayerNorm.bias', 'bert.encoder.layer.7.attention.output.dense.weight', 'bert.encoder.layer.10.attention.self.query.bias', 'cls.predictions.transform.LayerNorm.weight', 'cls.predictions.transform.dense.bias', 'bert.encoder.layer.6.output.LayerNorm.bias', 'bert.encoder.layer.6.output.dense.bias', 'bert.encoder.layer.5.intermediate.dense.bias', 'bert.encoder.layer.5.attention.self.query.bias', 'bert.encoder.layer.8.intermediate.dense.weight', 'bert.encoder.layer.8.attention.output.LayerNorm.weight', 'bert.encoder.layer.2.attention.self.value.bias', 'bert.encoder.layer.4.intermediate.dense.weight', 'bert.encoder.layer.4.output.dense.bias', 'bert.encoder.layer.7.attention.output.LayerNorm.bias', 'bert.encoder.layer.4.attention.self.value.weight', 'bert.embeddings.word_embeddings.weight', 'bert.encoder.layer.11.attention.output.LayerNorm.bias', 'bert.encoder.layer.8.output.LayerNorm.weight', 'bert.encoder.layer.4.output.LayerNorm.weight', 'bert.encoder.layer.1.attention.output.dense.weight', 'bert.encoder.layer.5.attention.output.dense.bias', 'bert.encoder.layer.3.attention.self.query.weight', 'bert.encoder.layer.5.attention.self.key.bias', 'bert.encoder.layer.11.attention.self.value.weight', 'bert.encoder.layer.2.attention.output.LayerNorm.bias', 'bert.encoder.layer.5.output.LayerNorm.weight', 'bert.encoder.layer.10.intermediate.dense.weight', 'cls.predictions.transform.LayerNorm.bias', 'bert.encoder.layer.2.intermediate.dense.weight', 'bert.encoder.layer.7.attention.self.key.weight', 'bert.encoder.layer.9.output.LayerNorm.weight', 'bert.encoder.layer.1.output.LayerNorm.weight', 'bert.encoder.layer.8.attention.self.key.weight', 'bert.encoder.layer.7.output.LayerNorm.bias', 'bert.encoder.layer.7.attention.self.value.weight', 'bert.encoder.layer.10.attention.output.dense.bias', 'bert.encoder.layer.5.attention.output.LayerNorm.weight', 'bert.encoder.layer.2.output.dense.weight', 'bert.encoder.layer.9.output.dense.bias', 'bert.encoder.layer.4.attention.self.key.weight', 'bert.encoder.layer.6.intermediate.dense.weight', 'bert.encoder.layer.2.intermediate.dense.bias', 'bert.encoder.layer.11.attention.self.key.bias', 'bert.encoder.layer.7.attention.self.value.bias', 'bert.encoder.layer.6.attention.output.dense.bias', 'bert.encoder.layer.10.attention.output.LayerNorm.bias', 'bert.encoder.layer.3.attention.self.key.weight', 'bert.encoder.layer.6.attention.self.query.weight', 'bert.encoder.layer.9.attention.self.query.bias', 'bert.encoder.layer.3.intermediate.dense.bias', 'bert.encoder.layer.3.attention.output.LayerNorm.bias', 'bert.encoder.layer.1.intermediate.dense.bias', 'bert.encoder.layer.7.output.dense.weight', 'bert.encoder.layer.6.attention.self.query.bias', 'bert.encoder.layer.2.attention.output.LayerNorm.weight', 'bert.encoder.layer.2.output.dense.bias', 'bert.encoder.layer.4.attention.output.dense.bias', 'bert.encoder.layer.11.intermediate.dense.bias', 'bert.encoder.layer.0.attention.self.key.bias', 'bert.encoder.layer.5.attention.self.value.weight', 'bert.encoder.layer.10.attention.output.dense.weight', 'bert.encoder.layer.10.attention.self.key.bias', 'bert.encoder.layer.1.attention.output.LayerNorm.weight', 'bert.encoder.layer.3.output.LayerNorm.bias', 'bert.encoder.layer.9.attention.output.dense.bias', 'bert.encoder.layer.9.attention.output.LayerNorm.weight', 'bert.encoder.layer.9.attention.self.value.bias', 'bert.encoder.layer.11.output.LayerNorm.weight', 'bert.encoder.layer.6.attention.self.key.bias', 'bert.encoder.layer.4.attention.self.query.weight', 'bert.encoder.layer.2.output.LayerNorm.bias', 'bert.encoder.layer.0.attention.output.dense.weight', 'bert.encoder.layer.3.attention.self.value.bias', 'bert.encoder.layer.2.attention.output.dense.weight', 'bert.encoder.layer.2.attention.self.query.bias', 'bert.encoder.layer.11.attention.self.query.bias', 'bert.encoder.layer.7.attention.self.query.weight', 'bert.encoder.layer.10.attention.self.value.weight', 'cls.predictions.decoder.weight', 'bert.encoder.layer.7.attention.self.key.bias', 'bert.encoder.layer.0.output.dense.weight', 'bert.encoder.layer.1.attention.self.key.weight', 'bert.encoder.layer.9.attention.self.value.weight', 'bert.encoder.layer.7.output.dense.bias', 'bert.encoder.layer.8.output.dense.bias', 'bert.encoder.layer.5.output.LayerNorm.bias', 'bert.encoder.layer.11.output.dense.bias', 'bert.encoder.layer.5.attention.self.value.bias', 'bert.encoder.layer.6.attention.self.value.weight', 'bert.encoder.layer.7.attention.self.query.bias', 'bert.encoder.layer.9.attention.self.query.weight', 'bert.encoder.layer.11.attention.self.key.weight', 'bert.encoder.layer.1.output.LayerNorm.bias', 'bert.encoder.layer.7.attention.output.dense.bias', 'bert.encoder.layer.3.attention.output.dense.weight', 'bert.encoder.layer.10.attention.self.key.weight', 'bert.encoder.layer.9.output.dense.weight', 'bert.encoder.layer.5.output.dense.weight', 'bert.encoder.layer.0.attention.self.value.bias', 'bert.encoder.layer.3.attention.self.key.bias', 'bert.encoder.layer.4.intermediate.dense.bias', 'bert.encoder.layer.11.attention.output.dense.bias', 'bert.encoder.layer.1.attention.self.query.weight', 'bert.encoder.layer.9.attention.self.key.bias', 'bert.encoder.layer.10.attention.self.query.weight', 'bert.encoder.layer.6.attention.output.dense.weight', 'bert.encoder.layer.5.attention.self.key.weight', 'cls.seq_relationship.bias', 'bert.encoder.layer.0.attention.output.LayerNorm.weight', 'bert.encoder.layer.0.attention.output.dense.bias', 'bert.encoder.layer.0.output.LayerNorm.bias', 'bert.encoder.layer.6.attention.output.LayerNorm.bias', 'bert.encoder.layer.10.output.dense.weight', 'bert.encoder.layer.6.attention.self.key.weight', 'bert.encoder.layer.2.attention.output.dense.bias', 'bert.encoder.layer.4.output.dense.weight', 'bert.encoder.layer.3.output.dense.weight', 'bert.encoder.layer.8.attention.self.value.weight', 'bert.encoder.layer.10.attention.self.value.bias', 'bert.encoder.layer.0.attention.self.query.bias', 'bert.embeddings.LayerNorm.bias', 'bert.encoder.layer.5.output.dense.bias', 'bert.encoder.layer.2.attention.self.query.weight', 'bert.encoder.layer.2.attention.self.key.weight', 'bert.encoder.layer.8.attention.output.dense.weight', 'bert.encoder.layer.11.intermediate.dense.weight', 'bert.encoder.layer.11.output.LayerNorm.bias', 'bert.encoder.layer.6.intermediate.dense.bias', 'bert.encoder.layer.4.output.LayerNorm.bias', 'bert.embeddings.position_embeddings.weight', 'bert.encoder.layer.1.output.dense.bias', 'bert.encoder.layer.7.intermediate.dense.weight', 'bert.encoder.layer.5.attention.output.LayerNorm.bias', 'cls.predictions.bias', 'bert.encoder.layer.3.output.dense.bias', 'bert.encoder.layer.0.attention.self.key.weight', 'bert.encoder.layer.8.attention.self.query.weight', 'bert.embeddings.LayerNorm.weight', 'bert.encoder.layer.0.intermediate.dense.bias', 'bert.encoder.layer.10.output.dense.bias', 'bert.encoder.layer.0.output.dense.bias', 'bert.encoder.layer.4.attention.output.dense.weight', 'bert.encoder.layer.1.attention.output.dense.bias', 'bert.encoder.layer.11.output.dense.weight', 'bert.encoder.layer.9.output.LayerNorm.bias', 'bert.encoder.layer.11.attention.output.dense.weight', 'bert.encoder.layer.5.intermediate.dense.weight', 'bert.encoder.layer.0.output.LayerNorm.weight', 'bert.encoder.layer.4.attention.self.query.bias', 'bert.encoder.layer.1.attention.self.value.bias', 'bert.encoder.layer.7.intermediate.dense.bias', 'bert.encoder.layer.9.attention.output.dense.weight', 'bert.encoder.layer.0.attention.output.LayerNorm.bias', 'bert.encoder.layer.3.attention.self.query.bias', 'bert.encoder.layer.6.attention.output.LayerNorm.weight', 'bert.embeddings.token_type_embeddings.weight', 'bert.encoder.layer.7.attention.output.LayerNorm.weight', 'bert.encoder.layer.0.attention.self.query.weight', 'bert.encoder.layer.6.attention.self.value.bias', 'bert.encoder.layer.8.attention.self.key.bias', 'bert.encoder.layer.0.intermediate.dense.weight', 'bert.encoder.layer.9.attention.self.key.weight', 'bert.encoder.layer.10.attention.output.LayerNorm.weight', 'bert.encoder.layer.3.intermediate.dense.weight', 'bert.encoder.layer.9.attention.output.LayerNorm.bias', 'bert.encoder.layer.5.attention.self.query.weight', 'bert.encoder.layer.6.output.dense.weight', 'bert.encoder.layer.8.attention.self.query.bias', 'bert.encoder.layer.10.output.LayerNorm.weight', 'bert.encoder.layer.9.intermediate.dense.bias', 'bert.encoder.layer.1.attention.self.key.bias', 'bert.encoder.layer.5.attention.output.dense.weight', 'bert.encoder.layer.4.attention.output.LayerNorm.weight', 'bert.encoder.layer.0.attention.self.value.weight', 'bert.encoder.layer.3.attention.output.LayerNorm.weight', 'cls.predictions.transform.dense.weight', 'bert.encoder.layer.2.attention.self.value.weight', 'bert.encoder.layer.4.attention.output.LayerNorm.bias', 'bert.encoder.layer.1.output.dense.weight', 'bert.encoder.layer.6.output.LayerNorm.weight', 'bert.encoder.layer.4.attention.self.value.bias', 'bert.encoder.layer.10.intermediate.dense.bias', 'bert.encoder.layer.4.attention.self.key.bias', 'cls.seq_relationship.weight', 'bert.encoder.layer.3.attention.output.dense.bias', 'bert.encoder.layer.11.attention.output.LayerNorm.weight', 'bert.encoder.layer.1.attention.output.LayerNorm.bias', 'bert.encoder.layer.3.attention.self.value.weight', 'bert.encoder.layer.3.output.LayerNorm.weight', 'bert.encoder.layer.10.output.LayerNorm.bias', 'bert.encoder.layer.8.attention.self.value.bias']\n",
      "- This IS expected if you are initializing DistilBertForSequenceClassification from the checkpoint of a model trained on another task or with another architecture (e.g. initializing a BertForSequenceClassification model from a BertForPreTraining model).\n",
      "- This IS NOT expected if you are initializing DistilBertForSequenceClassification from the checkpoint of a model that you expect to be exactly identical (initializing a BertForSequenceClassification model from a BertForSequenceClassification model).\n",
      "Some weights of DistilBertForSequenceClassification were not initialized from the model checkpoint at bert-base-uncased and are newly initialized: ['transformer.layer.0.attention.v_lin.bias', 'transformer.layer.0.sa_layer_norm.weight', 'transformer.layer.0.output_layer_norm.weight', 'transformer.layer.6.attention.k_lin.bias', 'transformer.layer.5.attention.out_lin.weight', 'transformer.layer.0.attention.k_lin.bias', 'transformer.layer.7.ffn.lin2.bias', 'transformer.layer.5.sa_layer_norm.bias', 'transformer.layer.5.attention.v_lin.weight', 'transformer.layer.0.ffn.lin1.weight', 'transformer.layer.7.output_layer_norm.weight', 'transformer.layer.3.sa_layer_norm.weight', 'transformer.layer.10.attention.k_lin.weight', 'transformer.layer.3.attention.out_lin.weight', 'transformer.layer.10.sa_layer_norm.weight', 'transformer.layer.0.attention.out_lin.weight', 'transformer.layer.2.attention.out_lin.bias', 'transformer.layer.1.sa_layer_norm.weight', 'transformer.layer.4.sa_layer_norm.weight', 'transformer.layer.7.attention.v_lin.bias', 'transformer.layer.1.attention.k_lin.weight', 'transformer.layer.9.ffn.lin2.bias', 'transformer.layer.5.attention.v_lin.bias', 'transformer.layer.1.attention.out_lin.weight', 'transformer.layer.8.attention.k_lin.bias', 'transformer.layer.2.attention.v_lin.weight', 'transformer.layer.3.attention.k_lin.bias', 'transformer.layer.5.attention.q_lin.bias', 'transformer.layer.2.attention.k_lin.bias', 'transformer.layer.4.ffn.lin2.bias', 'transformer.layer.1.ffn.lin2.weight', 'transformer.layer.8.attention.out_lin.weight', 'transformer.layer.9.ffn.lin1.weight', 'transformer.layer.2.attention.out_lin.weight', 'pre_classifier.bias', 'transformer.layer.3.attention.v_lin.bias', 'transformer.layer.7.attention.v_lin.weight', 'transformer.layer.6.ffn.lin1.bias', 'transformer.layer.3.output_layer_norm.weight', 'transformer.layer.10.attention.v_lin.weight', 'transformer.layer.8.attention.out_lin.bias', 'transformer.layer.11.attention.q_lin.weight', 'transformer.layer.7.attention.out_lin.bias', 'transformer.layer.7.ffn.lin1.weight', 'transformer.layer.11.attention.out_lin.weight', 'transformer.layer.1.attention.out_lin.bias', 'transformer.layer.11.ffn.lin1.weight', 'transformer.layer.11.output_layer_norm.weight', 'transformer.layer.10.output_layer_norm.bias', 'transformer.layer.11.ffn.lin2.bias', 'transformer.layer.2.sa_layer_norm.weight', 'transformer.layer.0.attention.out_lin.bias', 'transformer.layer.8.output_layer_norm.weight', 'transformer.layer.6.sa_layer_norm.weight', 'embeddings.word_embeddings.weight', 'transformer.layer.5.attention.k_lin.bias', 'transformer.layer.4.attention.v_lin.bias', 'transformer.layer.6.output_layer_norm.bias', 'transformer.layer.1.output_layer_norm.weight', 'transformer.layer.11.output_layer_norm.bias', 'transformer.layer.9.output_layer_norm.weight', 'transformer.layer.4.attention.k_lin.weight', 'transformer.layer.6.attention.q_lin.bias', 'transformer.layer.10.attention.q_lin.bias', 'transformer.layer.11.attention.v_lin.weight', 'transformer.layer.6.output_layer_norm.weight', 'transformer.layer.11.ffn.lin2.weight', 'transformer.layer.8.ffn.lin1.weight', 'transformer.layer.4.attention.q_lin.weight', 'transformer.layer.6.attention.k_lin.weight', 'transformer.layer.4.ffn.lin2.weight', 'transformer.layer.8.attention.q_lin.weight', 'transformer.layer.1.output_layer_norm.bias', 'transformer.layer.8.attention.q_lin.bias', 'transformer.layer.7.attention.q_lin.weight', 'transformer.layer.9.ffn.lin1.bias', 'transformer.layer.2.output_layer_norm.weight', 'transformer.layer.6.ffn.lin2.bias', 'transformer.layer.8.attention.v_lin.weight', 'transformer.layer.11.sa_layer_norm.weight', 'transformer.layer.5.output_layer_norm.weight', 'transformer.layer.2.sa_layer_norm.bias', 'transformer.layer.0.output_layer_norm.bias', 'transformer.layer.10.attention.k_lin.bias', 'transformer.layer.4.sa_layer_norm.bias', 'transformer.layer.7.ffn.lin1.bias', 'transformer.layer.8.output_layer_norm.bias', 'transformer.layer.4.attention.out_lin.weight', 'transformer.layer.6.attention.out_lin.bias', 'transformer.layer.2.attention.q_lin.bias', 'transformer.layer.5.attention.q_lin.weight', 'transformer.layer.5.output_layer_norm.bias', 'transformer.layer.2.ffn.lin2.weight', 'classifier.weight', 'transformer.layer.5.ffn.lin1.weight', 'transformer.layer.0.ffn.lin2.weight', 'transformer.layer.4.output_layer_norm.bias', 'transformer.layer.11.attention.q_lin.bias', 'transformer.layer.9.sa_layer_norm.weight', 'transformer.layer.7.attention.q_lin.bias', 'transformer.layer.5.ffn.lin2.weight', 'transformer.layer.7.output_layer_norm.bias', 'transformer.layer.10.ffn.lin2.weight', 'transformer.layer.0.attention.v_lin.weight', 'transformer.layer.5.attention.out_lin.bias', 'transformer.layer.9.attention.out_lin.weight', 'transformer.layer.5.ffn.lin2.bias', 'transformer.layer.3.ffn.lin2.weight', 'transformer.layer.6.sa_layer_norm.bias', 'transformer.layer.7.attention.k_lin.weight', 'transformer.layer.9.attention.q_lin.bias', 'embeddings.position_embeddings.weight', 'transformer.layer.2.ffn.lin1.bias', 'transformer.layer.4.ffn.lin1.bias', 'transformer.layer.0.attention.q_lin.weight', 'transformer.layer.3.output_layer_norm.bias', 'transformer.layer.8.ffn.lin2.weight', 'pre_classifier.weight', 'transformer.layer.9.ffn.lin2.weight', 'transformer.layer.10.ffn.lin1.weight', 'transformer.layer.6.attention.out_lin.weight', 'classifier.bias', 'transformer.layer.0.attention.k_lin.weight', 'transformer.layer.6.ffn.lin1.weight', 'transformer.layer.3.attention.q_lin.bias', 'embeddings.LayerNorm.weight', 'transformer.layer.5.ffn.lin1.bias', 'transformer.layer.6.attention.v_lin.weight', 'transformer.layer.7.sa_layer_norm.weight', 'transformer.layer.8.attention.v_lin.bias', 'transformer.layer.8.sa_layer_norm.weight', 'transformer.layer.11.attention.k_lin.bias', 'transformer.layer.1.attention.v_lin.weight', 'transformer.layer.7.ffn.lin2.weight', 'transformer.layer.8.ffn.lin1.bias', 'transformer.layer.4.ffn.lin1.weight', 'transformer.layer.6.ffn.lin2.weight', 'transformer.layer.5.attention.k_lin.weight', 'transformer.layer.4.attention.q_lin.bias', 'transformer.layer.0.sa_layer_norm.bias', 'transformer.layer.10.attention.q_lin.weight', 'transformer.layer.4.attention.k_lin.bias', 'transformer.layer.4.attention.v_lin.weight', 'transformer.layer.6.attention.q_lin.weight', 'transformer.layer.11.attention.out_lin.bias', 'embeddings.LayerNorm.bias', 'transformer.layer.3.ffn.lin1.weight', 'transformer.layer.2.ffn.lin2.bias', 'transformer.layer.9.attention.k_lin.bias', 'transformer.layer.10.ffn.lin1.bias', 'transformer.layer.2.attention.k_lin.weight', 'transformer.layer.8.ffn.lin2.bias', 'transformer.layer.7.attention.k_lin.bias', 'transformer.layer.4.attention.out_lin.bias', 'transformer.layer.1.attention.q_lin.bias', 'transformer.layer.2.ffn.lin1.weight', 'transformer.layer.2.output_layer_norm.bias', 'transformer.layer.9.attention.v_lin.weight', 'transformer.layer.10.sa_layer_norm.bias', 'transformer.layer.3.ffn.lin2.bias', 'transformer.layer.10.attention.v_lin.bias', 'transformer.layer.7.sa_layer_norm.bias', 'transformer.layer.9.output_layer_norm.bias', 'transformer.layer.3.attention.v_lin.weight', 'transformer.layer.9.attention.out_lin.bias', 'transformer.layer.1.ffn.lin1.weight', 'transformer.layer.5.sa_layer_norm.weight', 'transformer.layer.4.output_layer_norm.weight', 'transformer.layer.3.attention.out_lin.bias', 'transformer.layer.3.sa_layer_norm.bias', 'transformer.layer.7.attention.out_lin.weight', 'transformer.layer.1.attention.k_lin.bias', 'transformer.layer.2.attention.q_lin.weight', 'transformer.layer.2.attention.v_lin.bias', 'transformer.layer.3.attention.k_lin.weight', 'transformer.layer.10.ffn.lin2.bias', 'transformer.layer.9.attention.k_lin.weight', 'transformer.layer.10.attention.out_lin.weight', 'transformer.layer.9.attention.q_lin.weight', 'transformer.layer.0.attention.q_lin.bias', 'transformer.layer.1.ffn.lin2.bias', 'transformer.layer.8.sa_layer_norm.bias', 'transformer.layer.9.sa_layer_norm.bias', 'transformer.layer.11.sa_layer_norm.bias', 'transformer.layer.10.output_layer_norm.weight', 'transformer.layer.1.attention.v_lin.bias', 'transformer.layer.10.attention.out_lin.bias', 'transformer.layer.6.attention.v_lin.bias', 'transformer.layer.9.attention.v_lin.bias', 'transformer.layer.11.ffn.lin1.bias', 'transformer.layer.1.sa_layer_norm.bias', 'transformer.layer.11.attention.k_lin.weight', 'transformer.layer.3.ffn.lin1.bias', 'transformer.layer.3.attention.q_lin.weight', 'transformer.layer.1.attention.q_lin.weight', 'transformer.layer.11.attention.v_lin.bias', 'transformer.layer.8.attention.k_lin.weight', 'transformer.layer.1.ffn.lin1.bias', 'transformer.layer.0.ffn.lin2.bias', 'transformer.layer.0.ffn.lin1.bias']\n",
      "You should probably TRAIN this model on a down-stream task to be able to use it for predictions and inference.\n"
     ]
    },
    {
     "ename": "RuntimeError",
     "evalue": "Error(s) in loading state_dict for DistilBertForSequenceClassification:\n\tMissing key(s) in state_dict: \"distilbert.transformer.layer.6.attention.q_lin.weight\", \"distilbert.transformer.layer.6.attention.q_lin.bias\", \"distilbert.transformer.layer.6.attention.k_lin.weight\", \"distilbert.transformer.layer.6.attention.k_lin.bias\", \"distilbert.transformer.layer.6.attention.v_lin.weight\", \"distilbert.transformer.layer.6.attention.v_lin.bias\", \"distilbert.transformer.layer.6.attention.out_lin.weight\", \"distilbert.transformer.layer.6.attention.out_lin.bias\", \"distilbert.transformer.layer.6.sa_layer_norm.weight\", \"distilbert.transformer.layer.6.sa_layer_norm.bias\", \"distilbert.transformer.layer.6.ffn.lin1.weight\", \"distilbert.transformer.layer.6.ffn.lin1.bias\", \"distilbert.transformer.layer.6.ffn.lin2.weight\", \"distilbert.transformer.layer.6.ffn.lin2.bias\", \"distilbert.transformer.layer.6.output_layer_norm.weight\", \"distilbert.transformer.layer.6.output_layer_norm.bias\", \"distilbert.transformer.layer.7.attention.q_lin.weight\", \"distilbert.transformer.layer.7.attention.q_lin.bias\", \"distilbert.transformer.layer.7.attention.k_lin.weight\", \"distilbert.transformer.layer.7.attention.k_lin.bias\", \"distilbert.transformer.layer.7.attention.v_lin.weight\", \"distilbert.transformer.layer.7.attention.v_lin.bias\", \"distilbert.transformer.layer.7.attention.out_lin.weight\", \"distilbert.transformer.layer.7.attention.out_lin.bias\", \"distilbert.transformer.layer.7.sa_layer_norm.weight\", \"distilbert.transformer.layer.7.sa_layer_norm.bias\", \"distilbert.transformer.layer.7.ffn.lin1.weight\", \"distilbert.transformer.layer.7.ffn.lin1.bias\", \"distilbert.transformer.layer.7.ffn.lin2.weight\", \"distilbert.transformer.layer.7.ffn.lin2.bias\", \"distilbert.transformer.layer.7.output_layer_norm.weight\", \"distilbert.transformer.layer.7.output_layer_norm.bias\", \"distilbert.transformer.layer.8.attention.q_lin.weight\", \"distilbert.transformer.layer.8.attention.q_lin.bias\", \"distilbert.transformer.layer.8.attention.k_lin.weight\", \"distilbert.transformer.layer.8.attention.k_lin.bias\", \"distilbert.transformer.layer.8.attention.v_lin.weight\", \"distilbert.transformer.layer.8.attention.v_lin.bias\", \"distilbert.transformer.layer.8.attention.out_lin.weight\", \"distilbert.transformer.layer.8.attention.out_lin.bias\", \"distilbert.transformer.layer.8.sa_layer_norm.weight\", \"distilbert.transformer.layer.8.sa_layer_norm.bias\", \"distilbert.transformer.layer.8.ffn.lin1.weight\", \"distilbert.transformer.layer.8.ffn.lin1.bias\", \"distilbert.transformer.layer.8.ffn.lin2.weight\", \"distilbert.transformer.layer.8.ffn.lin2.bias\", \"distilbert.transformer.layer.8.output_layer_norm.weight\", \"distilbert.transformer.layer.8.output_layer_norm.bias\", \"distilbert.transformer.layer.9.attention.q_lin.weight\", \"distilbert.transformer.layer.9.attention.q_lin.bias\", \"distilbert.transformer.layer.9.attention.k_lin.weight\", \"distilbert.transformer.layer.9.attention.k_lin.bias\", \"distilbert.transformer.layer.9.attention.v_lin.weight\", \"distilbert.transformer.layer.9.attention.v_lin.bias\", \"distilbert.transformer.layer.9.attention.out_lin.weight\", \"distilbert.transformer.layer.9.attention.out_lin.bias\", \"distilbert.transformer.layer.9.sa_layer_norm.weight\", \"distilbert.transformer.layer.9.sa_layer_norm.bias\", \"distilbert.transformer.layer.9.ffn.lin1.weight\", \"distilbert.transformer.layer.9.ffn.lin1.bias\", \"distilbert.transformer.layer.9.ffn.lin2.weight\", \"distilbert.transformer.layer.9.ffn.lin2.bias\", \"distilbert.transformer.layer.9.output_layer_norm.weight\", \"distilbert.transformer.layer.9.output_layer_norm.bias\", \"distilbert.transformer.layer.10.attention.q_lin.weight\", \"distilbert.transformer.layer.10.attention.q_lin.bias\", \"distilbert.transformer.layer.10.attention.k_lin.weight\", \"distilbert.transformer.layer.10.attention.k_lin.bias\", \"distilbert.transformer.layer.10.attention.v_lin.weight\", \"distilbert.transformer.layer.10.attention.v_lin.bias\", \"distilbert.transformer.layer.10.attention.out_lin.weight\", \"distilbert.transformer.layer.10.attention.out_lin.bias\", \"distilbert.transformer.layer.10.sa_layer_norm.weight\", \"distilbert.transformer.layer.10.sa_layer_norm.bias\", \"distilbert.transformer.layer.10.ffn.lin1.weight\", \"distilbert.transformer.layer.10.ffn.lin1.bias\", \"distilbert.transformer.layer.10.ffn.lin2.weight\", \"distilbert.transformer.layer.10.ffn.lin2.bias\", \"distilbert.transformer.layer.10.output_layer_norm.weight\", \"distilbert.transformer.layer.10.output_layer_norm.bias\", \"distilbert.transformer.layer.11.attention.q_lin.weight\", \"distilbert.transformer.layer.11.attention.q_lin.bias\", \"distilbert.transformer.layer.11.attention.k_lin.weight\", \"distilbert.transformer.layer.11.attention.k_lin.bias\", \"distilbert.transformer.layer.11.attention.v_lin.weight\", \"distilbert.transformer.layer.11.attention.v_lin.bias\", \"distilbert.transformer.layer.11.attention.out_lin.weight\", \"distilbert.transformer.layer.11.attention.out_lin.bias\", \"distilbert.transformer.layer.11.sa_layer_norm.weight\", \"distilbert.transformer.layer.11.sa_layer_norm.bias\", \"distilbert.transformer.layer.11.ffn.lin1.weight\", \"distilbert.transformer.layer.11.ffn.lin1.bias\", \"distilbert.transformer.layer.11.ffn.lin2.weight\", \"distilbert.transformer.layer.11.ffn.lin2.bias\", \"distilbert.transformer.layer.11.output_layer_norm.weight\", \"distilbert.transformer.layer.11.output_layer_norm.bias\". ",
     "output_type": "error",
     "traceback": [
      "\u001b[1;31m---------------------------------------------------------------------------\u001b[0m",
      "\u001b[1;31mRuntimeError\u001b[0m                              Traceback (most recent call last)",
      "Cell \u001b[1;32mIn[21], line 7\u001b[0m\n\u001b[0;32m      4\u001b[0m model\u001b[38;5;241m.\u001b[39mto(device)\n\u001b[0;32m      6\u001b[0m \u001b[38;5;66;03m# Load best model and make prediction\u001b[39;00m\n\u001b[1;32m----> 7\u001b[0m \u001b[43mmodel\u001b[49m\u001b[38;5;241;43m.\u001b[39;49m\u001b[43mload_state_dict\u001b[49m\u001b[43m(\u001b[49m\u001b[43mtorch\u001b[49m\u001b[38;5;241;43m.\u001b[39;49m\u001b[43mload\u001b[49m\u001b[43m(\u001b[49m\u001b[38;5;124;43m'\u001b[39;49m\u001b[38;5;124;43mmodels/finetuned_BERT_epoch_2.model\u001b[39;49m\u001b[38;5;124;43m'\u001b[39;49m\u001b[43m,\u001b[49m\u001b[43m \u001b[49m\u001b[43mmap_location\u001b[49m\u001b[38;5;241;43m=\u001b[39;49m\u001b[43mtorch\u001b[49m\u001b[38;5;241;43m.\u001b[39;49m\u001b[43mdevice\u001b[49m\u001b[43m(\u001b[49m\u001b[38;5;124;43m'\u001b[39;49m\u001b[38;5;124;43mcpu\u001b[39;49m\u001b[38;5;124;43m'\u001b[39;49m\u001b[43m)\u001b[49m\u001b[43m)\u001b[49m\u001b[43m)\u001b[49m\n\u001b[0;32m      9\u001b[0m _, predictions, true_vals \u001b[38;5;241m=\u001b[39m evaluate(dataloader_validation)\n\u001b[0;32m     10\u001b[0m accuracy_per_class(predictions, true_vals)\n",
      "File \u001b[1;32mc:\\Users\\hp\\Desktop\\context_detector\\env\\lib\\site-packages\\torch\\nn\\modules\\module.py:2189\u001b[0m, in \u001b[0;36mModule.load_state_dict\u001b[1;34m(self, state_dict, strict, assign)\u001b[0m\n\u001b[0;32m   2184\u001b[0m         error_msgs\u001b[38;5;241m.\u001b[39minsert(\n\u001b[0;32m   2185\u001b[0m             \u001b[38;5;241m0\u001b[39m, \u001b[38;5;124m'\u001b[39m\u001b[38;5;124mMissing key(s) in state_dict: \u001b[39m\u001b[38;5;132;01m{}\u001b[39;00m\u001b[38;5;124m. \u001b[39m\u001b[38;5;124m'\u001b[39m\u001b[38;5;241m.\u001b[39mformat(\n\u001b[0;32m   2186\u001b[0m                 \u001b[38;5;124m'\u001b[39m\u001b[38;5;124m, \u001b[39m\u001b[38;5;124m'\u001b[39m\u001b[38;5;241m.\u001b[39mjoin(\u001b[38;5;124mf\u001b[39m\u001b[38;5;124m'\u001b[39m\u001b[38;5;124m\"\u001b[39m\u001b[38;5;132;01m{\u001b[39;00mk\u001b[38;5;132;01m}\u001b[39;00m\u001b[38;5;124m\"\u001b[39m\u001b[38;5;124m'\u001b[39m \u001b[38;5;28;01mfor\u001b[39;00m k \u001b[38;5;129;01min\u001b[39;00m missing_keys)))\n\u001b[0;32m   2188\u001b[0m \u001b[38;5;28;01mif\u001b[39;00m \u001b[38;5;28mlen\u001b[39m(error_msgs) \u001b[38;5;241m>\u001b[39m \u001b[38;5;241m0\u001b[39m:\n\u001b[1;32m-> 2189\u001b[0m     \u001b[38;5;28;01mraise\u001b[39;00m \u001b[38;5;167;01mRuntimeError\u001b[39;00m(\u001b[38;5;124m'\u001b[39m\u001b[38;5;124mError(s) in loading state_dict for \u001b[39m\u001b[38;5;132;01m{}\u001b[39;00m\u001b[38;5;124m:\u001b[39m\u001b[38;5;130;01m\\n\u001b[39;00m\u001b[38;5;130;01m\\t\u001b[39;00m\u001b[38;5;132;01m{}\u001b[39;00m\u001b[38;5;124m'\u001b[39m\u001b[38;5;241m.\u001b[39mformat(\n\u001b[0;32m   2190\u001b[0m                        \u001b[38;5;28mself\u001b[39m\u001b[38;5;241m.\u001b[39m\u001b[38;5;18m__class__\u001b[39m\u001b[38;5;241m.\u001b[39m\u001b[38;5;18m__name__\u001b[39m, \u001b[38;5;124m\"\u001b[39m\u001b[38;5;130;01m\\n\u001b[39;00m\u001b[38;5;130;01m\\t\u001b[39;00m\u001b[38;5;124m\"\u001b[39m\u001b[38;5;241m.\u001b[39mjoin(error_msgs)))\n\u001b[0;32m   2191\u001b[0m \u001b[38;5;28;01mreturn\u001b[39;00m _IncompatibleKeys(missing_keys, unexpected_keys)\n",
      "\u001b[1;31mRuntimeError\u001b[0m: Error(s) in loading state_dict for DistilBertForSequenceClassification:\n\tMissing key(s) in state_dict: \"distilbert.transformer.layer.6.attention.q_lin.weight\", \"distilbert.transformer.layer.6.attention.q_lin.bias\", \"distilbert.transformer.layer.6.attention.k_lin.weight\", \"distilbert.transformer.layer.6.attention.k_lin.bias\", \"distilbert.transformer.layer.6.attention.v_lin.weight\", \"distilbert.transformer.layer.6.attention.v_lin.bias\", \"distilbert.transformer.layer.6.attention.out_lin.weight\", \"distilbert.transformer.layer.6.attention.out_lin.bias\", \"distilbert.transformer.layer.6.sa_layer_norm.weight\", \"distilbert.transformer.layer.6.sa_layer_norm.bias\", \"distilbert.transformer.layer.6.ffn.lin1.weight\", \"distilbert.transformer.layer.6.ffn.lin1.bias\", \"distilbert.transformer.layer.6.ffn.lin2.weight\", \"distilbert.transformer.layer.6.ffn.lin2.bias\", \"distilbert.transformer.layer.6.output_layer_norm.weight\", \"distilbert.transformer.layer.6.output_layer_norm.bias\", \"distilbert.transformer.layer.7.attention.q_lin.weight\", \"distilbert.transformer.layer.7.attention.q_lin.bias\", \"distilbert.transformer.layer.7.attention.k_lin.weight\", \"distilbert.transformer.layer.7.attention.k_lin.bias\", \"distilbert.transformer.layer.7.attention.v_lin.weight\", \"distilbert.transformer.layer.7.attention.v_lin.bias\", \"distilbert.transformer.layer.7.attention.out_lin.weight\", \"distilbert.transformer.layer.7.attention.out_lin.bias\", \"distilbert.transformer.layer.7.sa_layer_norm.weight\", \"distilbert.transformer.layer.7.sa_layer_norm.bias\", \"distilbert.transformer.layer.7.ffn.lin1.weight\", \"distilbert.transformer.layer.7.ffn.lin1.bias\", \"distilbert.transformer.layer.7.ffn.lin2.weight\", \"distilbert.transformer.layer.7.ffn.lin2.bias\", \"distilbert.transformer.layer.7.output_layer_norm.weight\", \"distilbert.transformer.layer.7.output_layer_norm.bias\", \"distilbert.transformer.layer.8.attention.q_lin.weight\", \"distilbert.transformer.layer.8.attention.q_lin.bias\", \"distilbert.transformer.layer.8.attention.k_lin.weight\", \"distilbert.transformer.layer.8.attention.k_lin.bias\", \"distilbert.transformer.layer.8.attention.v_lin.weight\", \"distilbert.transformer.layer.8.attention.v_lin.bias\", \"distilbert.transformer.layer.8.attention.out_lin.weight\", \"distilbert.transformer.layer.8.attention.out_lin.bias\", \"distilbert.transformer.layer.8.sa_layer_norm.weight\", \"distilbert.transformer.layer.8.sa_layer_norm.bias\", \"distilbert.transformer.layer.8.ffn.lin1.weight\", \"distilbert.transformer.layer.8.ffn.lin1.bias\", \"distilbert.transformer.layer.8.ffn.lin2.weight\", \"distilbert.transformer.layer.8.ffn.lin2.bias\", \"distilbert.transformer.layer.8.output_layer_norm.weight\", \"distilbert.transformer.layer.8.output_layer_norm.bias\", \"distilbert.transformer.layer.9.attention.q_lin.weight\", \"distilbert.transformer.layer.9.attention.q_lin.bias\", \"distilbert.transformer.layer.9.attention.k_lin.weight\", \"distilbert.transformer.layer.9.attention.k_lin.bias\", \"distilbert.transformer.layer.9.attention.v_lin.weight\", \"distilbert.transformer.layer.9.attention.v_lin.bias\", \"distilbert.transformer.layer.9.attention.out_lin.weight\", \"distilbert.transformer.layer.9.attention.out_lin.bias\", \"distilbert.transformer.layer.9.sa_layer_norm.weight\", \"distilbert.transformer.layer.9.sa_layer_norm.bias\", \"distilbert.transformer.layer.9.ffn.lin1.weight\", \"distilbert.transformer.layer.9.ffn.lin1.bias\", \"distilbert.transformer.layer.9.ffn.lin2.weight\", \"distilbert.transformer.layer.9.ffn.lin2.bias\", \"distilbert.transformer.layer.9.output_layer_norm.weight\", \"distilbert.transformer.layer.9.output_layer_norm.bias\", \"distilbert.transformer.layer.10.attention.q_lin.weight\", \"distilbert.transformer.layer.10.attention.q_lin.bias\", \"distilbert.transformer.layer.10.attention.k_lin.weight\", \"distilbert.transformer.layer.10.attention.k_lin.bias\", \"distilbert.transformer.layer.10.attention.v_lin.weight\", \"distilbert.transformer.layer.10.attention.v_lin.bias\", \"distilbert.transformer.layer.10.attention.out_lin.weight\", \"distilbert.transformer.layer.10.attention.out_lin.bias\", \"distilbert.transformer.layer.10.sa_layer_norm.weight\", \"distilbert.transformer.layer.10.sa_layer_norm.bias\", \"distilbert.transformer.layer.10.ffn.lin1.weight\", \"distilbert.transformer.layer.10.ffn.lin1.bias\", \"distilbert.transformer.layer.10.ffn.lin2.weight\", \"distilbert.transformer.layer.10.ffn.lin2.bias\", \"distilbert.transformer.layer.10.output_layer_norm.weight\", \"distilbert.transformer.layer.10.output_layer_norm.bias\", \"distilbert.transformer.layer.11.attention.q_lin.weight\", \"distilbert.transformer.layer.11.attention.q_lin.bias\", \"distilbert.transformer.layer.11.attention.k_lin.weight\", \"distilbert.transformer.layer.11.attention.k_lin.bias\", \"distilbert.transformer.layer.11.attention.v_lin.weight\", \"distilbert.transformer.layer.11.attention.v_lin.bias\", \"distilbert.transformer.layer.11.attention.out_lin.weight\", \"distilbert.transformer.layer.11.attention.out_lin.bias\", \"distilbert.transformer.layer.11.sa_layer_norm.weight\", \"distilbert.transformer.layer.11.sa_layer_norm.bias\", \"distilbert.transformer.layer.11.ffn.lin1.weight\", \"distilbert.transformer.layer.11.ffn.lin1.bias\", \"distilbert.transformer.layer.11.ffn.lin2.weight\", \"distilbert.transformer.layer.11.ffn.lin2.bias\", \"distilbert.transformer.layer.11.output_layer_norm.weight\", \"distilbert.transformer.layer.11.output_layer_norm.bias\". "
     ]
    }
   ],
   "source": [
    "model = DistilBertForSequenceClassification.from_pretrained(\"bert-base-uncased\",\n",
    "                                                      num_labels=len(label_dict))\n",
    "\n",
    "model.to(device)\n",
    "\n",
    "# Load best model and make prediction\n",
    "model.load_state_dict(torch.load('models/finetuned_BERT_epoch_2.model', map_location=torch.device('cpu')))\n",
    "\n",
    "_, predictions, true_vals = evaluate(dataloader_validation)\n",
    "accuracy_per_class(predictions, true_vals)"
   ]
  },
  {
   "cell_type": "code",
   "execution_count": null,
   "metadata": {},
   "outputs": [],
   "source": [
    "# Check the model using one sample\n"
   ]
  },
  {
   "cell_type": "markdown",
   "metadata": {},
   "source": [
    "# Fine-tunning with data augmentation \n",
    "\n",
    "Data augmentation techniques: \n",
    "1. Synonym replacement \n",
    "2. Random insertion \n",
    "3. Random swap \n",
    "4. Random deletion \n",
    "5. Back translation \n",
    "6. Noise injection \n",
    "\n",
    "\n",
    "Use data augmentation during model training. "
   ]
  },
  {
   "cell_type": "code",
   "execution_count": null,
   "metadata": {},
   "outputs": [],
   "source": [
    "# !pip install nlpaug\n",
    "# !pip install nltk\n",
    "# !python -m nltk.downloader all\n",
    "# !pip install wordnet"
   ]
  },
  {
   "cell_type": "code",
   "execution_count": null,
   "metadata": {},
   "outputs": [
    {
     "name": "stderr",
     "output_type": "stream",
     "text": [
      "[nltk_data] Downloading package wordnet to\n",
      "[nltk_data]     C:\\Users\\hp\\AppData\\Roaming\\nltk_data...\n",
      "[nltk_data]   Package wordnet is already up-to-date!\n",
      "[nltk_data] Downloading package averaged_perceptron_tagger to\n",
      "[nltk_data]     C:\\Users\\hp\\AppData\\Roaming\\nltk_data...\n",
      "[nltk_data]   Package averaged_perceptron_tagger is already up-to-\n",
      "[nltk_data]       date!\n"
     ]
    }
   ],
   "source": [
    "# import nlpaug.augmenter.word as naw\n",
    "# import nltk\n",
    "\n",
    "# nltk.download('wordnet')\n",
    "# nltk.download('averaged_perceptron_tagger')\n",
    "\n",
    "# aug_syn = naw.SynonymAug(aug_src='wordnet')\n",
    "# # aug_insert = naw.RandomWordAug(action=\"insert\")\n",
    "# aug_swap = naw.RandomWordAug(action=\"swap\")\n",
    "# aug_delete = naw.RandomWordAug(action=\"delete\")\n",
    "# augmenters = [aug_syn, aug_swap, aug_delete]\n",
    "\n",
    "# # Apply data augmentation to data \n",
    "# def augment_text(text, augmenters, num_augmentations=1):\n",
    "#     augmented_texts = [text]\n",
    "#     for _ in range(num_augmentations):\n",
    "#         augmenter = random.choice(augmenters)\n",
    "#         augmented_text = augmenter.augment(text)\n",
    "#         augmented_texts.append(augmented_text)\n",
    "#     return augmented_texts\n"
   ]
  },
  {
   "cell_type": "code",
   "execution_count": null,
   "metadata": {},
   "outputs": [
    {
     "name": "stderr",
     "output_type": "stream",
     "text": [
      "c:\\Users\\hp\\Desktop\\context_detector\\env\\lib\\site-packages\\transformers\\tokenization_utils_base.py:2212: FutureWarning: The `pad_to_max_length` argument is deprecated and will be removed in a future version, use `padding=True` or `padding='longest'` to pad to the longest sequence in the batch, or use `padding='max_length'` to pad to a max length. In this case, you can give a specific length with `max_length` (e.g. `max_length=45`) or leave max_length to None to pad to the maximal input size of the model (e.g. 512 for Bert).\n",
      "  warnings.warn(\n"
     ]
    }
   ],
   "source": [
    "# augmented_data = []\n",
    "# for index, row in data.iterrows():\n",
    "#     text = row['consumer_complaint_narrative']\n",
    "#     augmented_texts = augment_text(text, augmenters, num_augmentations=2)\n",
    "#     for augmented_text in augmented_texts:\n",
    "#         augmented_data.append((augmented_text, row['label']))\n",
    "\n",
    "# # Create new dataframe with augmented data and combine it with original dataset\n",
    "# augmented_df = pd.DataFrame(augmented_data, columns=['consumer_complaint_narrative', 'label'])\n",
    "# data = pd.concat([data, augmented_df], ignore_index=True)\n",
    "\n",
    "# # Continue with tokenization and creating DataLoader as before\n",
    "# encoded_data_train = tokenizer.batch_encode_plus(\n",
    "#     data[data.data_type=='train']['consumer_complaint_narrative'].values,\n",
    "#     **tokenizer_params\n",
    "# )\n",
    "\n",
    "# encoded_data_val = tokenizer.batch_encode_plus(\n",
    "#     data[data.data_type=='val']['consumer_complaint_narrative'].values,\n",
    "#     **tokenizer_params\n",
    "# )\n",
    "\n",
    "# input_ids_train = encoded_data_train['input_ids']\n",
    "# attention_masks_train = encoded_data_train['attention_mask']\n",
    "# labels_train = torch.tensor(data[data.data_type=='train']['label'].values)\n",
    "\n",
    "# input_ids_val = encoded_data_val['input_ids']\n",
    "# attention_masks_val = encoded_data_val['attention_mask']\n",
    "# labels_val = torch.tensor(data[data.data_type=='val']['label'].values)\n",
    "\n",
    "# dataset_train = TensorDataset(input_ids_train, attention_masks_train, labels_train)\n",
    "# dataset_val = TensorDataset(input_ids_val, attention_masks_val, labels_val)\n",
    "\n",
    "# dataloader_train = DataLoader(dataset_train, sampler=RandomSampler(dataset_train), batch_size=batch_size)\n",
    "# dataloader_validation = DataLoader(dataset_val, sampler=SequentialSampler(dataset_val), batch_size=batch_size)"
   ]
  },
  {
   "cell_type": "code",
   "execution_count": null,
   "metadata": {},
   "outputs": [
    {
     "name": "stdout",
     "output_type": "stream",
     "text": [
      "Starting model training...\n"
     ]
    },
    {
     "name": "stderr",
     "output_type": "stream",
     "text": [
      "  0%|          | 0/5 [04:45<?, ?it/s]"
     ]
    },
    {
     "name": "stdout",
     "output_type": "stream",
     "text": [
      "\n",
      "Epoch 1\n",
      "Training loss: 0.15893469988218947\n"
     ]
    },
    {
     "name": "stderr",
     "output_type": "stream",
     "text": [
      " 20%|██        | 1/5 [05:07<20:31, 307.92s/it]"
     ]
    },
    {
     "name": "stdout",
     "output_type": "stream",
     "text": [
      "Validation loss: 0.5018551978493496\n",
      "F1 Score (Weighted): 0.8845496386829244\n",
      "Accuracy: 0.8843974310540235\n"
     ]
    },
    {
     "name": "stderr",
     "output_type": "stream",
     "text": [
      " 20%|██        | 1/5 [09:53<20:31, 307.92s/it]"
     ]
    },
    {
     "name": "stdout",
     "output_type": "stream",
     "text": [
      "\n",
      "Epoch 2\n",
      "Training loss: 0.1529485837413953\n"
     ]
    },
    {
     "name": "stderr",
     "output_type": "stream",
     "text": [
      " 40%|████      | 2/5 [10:15<15:23, 307.99s/it]"
     ]
    },
    {
     "name": "stdout",
     "output_type": "stream",
     "text": [
      "Validation loss: 0.5018551978493496\n",
      "F1 Score (Weighted): 0.8845496386829244\n",
      "Accuracy: 0.8843974310540235\n"
     ]
    },
    {
     "name": "stderr",
     "output_type": "stream",
     "text": [
      " 40%|████      | 2/5 [14:59<15:23, 307.99s/it]"
     ]
    },
    {
     "name": "stdout",
     "output_type": "stream",
     "text": [
      "\n",
      "Epoch 3\n",
      "Training loss: 0.154154187168379\n"
     ]
    },
    {
     "name": "stderr",
     "output_type": "stream",
     "text": [
      " 60%|██████    | 3/5 [15:21<10:13, 306.94s/it]"
     ]
    },
    {
     "name": "stdout",
     "output_type": "stream",
     "text": [
      "Validation loss: 0.5018551978493496\n",
      "F1 Score (Weighted): 0.8845496386829244\n",
      "Accuracy: 0.8843974310540235\n"
     ]
    },
    {
     "name": "stderr",
     "output_type": "stream",
     "text": [
      " 60%|██████    | 3/5 [20:03<10:13, 306.94s/it]"
     ]
    },
    {
     "name": "stdout",
     "output_type": "stream",
     "text": [
      "\n",
      "Epoch 4\n",
      "Training loss: 0.15416813386794148\n"
     ]
    },
    {
     "name": "stderr",
     "output_type": "stream",
     "text": [
      " 80%|████████  | 4/5 [20:26<05:06, 306.01s/it]"
     ]
    },
    {
     "name": "stdout",
     "output_type": "stream",
     "text": [
      "Validation loss: 0.5018551978493496\n",
      "F1 Score (Weighted): 0.8845496386829244\n",
      "Accuracy: 0.8843974310540235\n"
     ]
    },
    {
     "name": "stderr",
     "output_type": "stream",
     "text": [
      " 80%|████████  | 4/5 [25:13<05:06, 306.01s/it]"
     ]
    },
    {
     "name": "stdout",
     "output_type": "stream",
     "text": [
      "\n",
      "Epoch 5\n",
      "Training loss: 0.15728549454475527\n"
     ]
    },
    {
     "name": "stderr",
     "output_type": "stream",
     "text": [
      "100%|██████████| 5/5 [25:35<00:00, 307.18s/it]\n"
     ]
    },
    {
     "name": "stdout",
     "output_type": "stream",
     "text": [
      "Validation loss: 0.5018551978493496\n",
      "F1 Score (Weighted): 0.8845496386829244\n",
      "Accuracy: 0.8843974310540235\n"
     ]
    },
    {
     "data": {
      "image/png": "[encoded data removed]",
      "text/plain": [
       "<Figure size 1000x500 with 1 Axes>"
      ]
     },
     "metadata": {},
     "output_type": "display_data"
    }
   ],
   "source": [
    "# # Run model on augmented data \n",
    "# # Check for GPU\n",
    "# device = torch.device('cuda' if torch.cuda.is_available() else 'cpu')\n",
    "\n",
    "# print(\"Starting model training...\")\n",
    "# # Move model to device\n",
    "# model.to(device)\n",
    "\n",
    "# # Evaluation function\n",
    "# def evaluate(dataloader_val):\n",
    "#     model.eval()\n",
    "#     loss_val_total = 0\n",
    "#     predictions, true_vals = [], []\n",
    "\n",
    "#     for batch in dataloader_val:\n",
    "#         batch = tuple(b.to(device) for b in batch)\n",
    "#         inputs = {\n",
    "#             'input_ids': batch[0],\n",
    "#             'attention_mask': batch[1],\n",
    "#             'labels': batch[2],\n",
    "#         }\n",
    "\n",
    "#         with torch.no_grad():\n",
    "#             outputs = model(**inputs)\n",
    "#         loss = outputs[0]\n",
    "#         logits = outputs[1]\n",
    "#         loss_val_total += loss.item()\n",
    "#         logits = logits.detach().cpu().numpy()\n",
    "#         label_ids = inputs['labels'].cpu().numpy()\n",
    "#         predictions.append(logits)\n",
    "#         true_vals.append(label_ids)\n",
    "\n",
    "#     loss_val_avg = loss_val_total / len(dataloader_val)\n",
    "#     predictions = np.concatenate(predictions, axis=0)\n",
    "#     true_vals = np.concatenate(true_vals, axis=0)\n",
    "\n",
    "#     return loss_val_avg, predictions, true_vals\n",
    "\n",
    "# # Initialize lists to store losses for plotting\n",
    "# training_losses = []\n",
    "# validation_losses = []\n",
    "\n",
    "# # Training loop\n",
    "# for epoch in tqdm(range(1, epochs + 1)):\n",
    "#     model.train()\n",
    "#     loss_train_total = 0\n",
    "#     progress_bar = tqdm(dataloader_train, desc='Epoch {:1d}'.format(epoch), leave=False, ncols=100)\n",
    "#     for batch in progress_bar:\n",
    "#         model.zero_grad()\n",
    "#         batch = tuple(b.to(device) for b in batch)\n",
    "#         inputs = {\n",
    "#             'input_ids': batch[0],\n",
    "#             'attention_mask': batch[1],\n",
    "#             'labels': batch[2],\n",
    "#         }\n",
    "#         outputs = model(**inputs)\n",
    "#         loss = outputs[0]\n",
    "#         loss_train_total += loss.item()\n",
    "#         loss.backward()\n",
    "#         torch.nn.utils.clip_grad_norm_(model.parameters(), 1.0)\n",
    "#         optimizer.step()\n",
    "#         scheduler.step()\n",
    "#         progress_bar.set_postfix({'training_loss': '{:.3f}'.format(loss.item() / len(batch))})\n",
    "\n",
    "#     # Save the model at each epoch \n",
    "#     torch.save(model.state_dict(), f'models/finetuned_BERT_epoch_aug_{epoch}.model')\n",
    "\n",
    "#     tqdm.write(f'\\nEpoch {epoch}')\n",
    "#     loss_train_avg = loss_train_total / len(dataloader_train)\n",
    "#     training_losses.append(loss_train_avg)\n",
    "#     tqdm.write(f'Training loss: {loss_train_avg}')\n",
    "\n",
    "#     val_loss, predictions, true_vals = evaluate(dataloader_validation)\n",
    "#     val_f1 = f1_score_func(predictions, true_vals)\n",
    "#     val_accuracy = accuracy_func(predictions, true_vals)\n",
    "#     validation_losses.append(val_loss)\n",
    "#     tqdm.write(f'Validation loss: {val_loss}')\n",
    "#     tqdm.write(f'F1 Score (Weighted): {val_f1}')\n",
    "#     tqdm.write(f'Accuracy: {val_accuracy}')\n",
    "\n",
    "# # Plotting the training and validation losses\n",
    "# plt.figure(figsize=(10, 5))\n",
    "# plt.plot(range(1, epochs + 1), training_losses, label='Training Loss')\n",
    "# plt.plot(range(1, epochs + 1), validation_losses, label='Validation Loss')\n",
    "# plt.xlabel('Epochs')\n",
    "# plt.ylabel('Loss')\n",
    "# plt.title('Training and Validation Loss Over Time')\n",
    "# plt.legend()\n",
    "# plt.show()\n"
   ]
  },
  {
   "cell_type": "markdown",
   "metadata": {},
   "source": [
    "# Custom model\n",
    "Resolve unbalancement using data augmentation on undersampled categories."
   ]
  },
  {
   "cell_type": "markdown",
   "metadata": {},
   "source": [
    "Change the code above including: \n",
    "- data augmentation for minority categories\n",
    "- regularization to stabilize validation loss \n"
   ]
  },
  {
   "cell_type": "code",
   "execution_count": 11,
   "metadata": {},
   "outputs": [
    {
     "name": "stdout",
     "output_type": "stream",
     "text": [
      "Loading raw data...\n"
     ]
    },
    {
     "name": "stderr",
     "output_type": "stream",
     "text": [
      "C:\\Users\\hp\\AppData\\Local\\Temp\\ipykernel_21320\\759705434.py:42: DtypeWarning: Columns (5,11) have mixed types. Specify dtype option on import or set low_memory=False.\n",
      "  data = pd.read_csv('consumer_complaints.csv')\n",
      "c:\\Users\\hp\\Desktop\\context_detector\\env\\lib\\site-packages\\transformers\\tokenization_utils_base.py:2212: FutureWarning: The `pad_to_max_length` argument is deprecated and will be removed in a future version, use `padding=True` or `padding='longest'` to pad to the longest sequence in the batch, or use `padding='max_length'` to pad to a max length. In this case, you can give a specific length with `max_length` (e.g. `max_length=45`) or leave max_length to None to pad to the maximal input size of the model (e.g. 512 for Bert).\n",
      "  warnings.warn(\n",
      "Some weights of the model checkpoint at distilbert-base-uncased were not used when initializing DistilBertForSequenceClassification: ['vocab_transform.bias', 'vocab_projector.bias', 'vocab_layer_norm.weight', 'vocab_projector.weight', 'vocab_layer_norm.bias', 'vocab_transform.weight']\n",
      "- This IS expected if you are initializing DistilBertForSequenceClassification from the checkpoint of a model trained on another task or with another architecture (e.g. initializing a BertForSequenceClassification model from a BertForPreTraining model).\n",
      "- This IS NOT expected if you are initializing DistilBertForSequenceClassification from the checkpoint of a model that you expect to be exactly identical (initializing a BertForSequenceClassification model from a BertForSequenceClassification model).\n",
      "Some weights of DistilBertForSequenceClassification were not initialized from the model checkpoint at distilbert-base-uncased and are newly initialized: ['pre_classifier.weight', 'pre_classifier.bias', 'classifier.weight', 'classifier.bias']\n",
      "You should probably TRAIN this model on a down-stream task to be able to use it for predictions and inference.\n"
     ]
    },
    {
     "name": "stdout",
     "output_type": "stream",
     "text": [
      "Starting training...\n"
     ]
    },
    {
     "name": "stderr",
     "output_type": "stream",
     "text": [
      "  0%|          | 0/4 [33:33<?, ?it/s]"
     ]
    },
    {
     "name": "stdout",
     "output_type": "stream",
     "text": [
      "\n",
      "Epoch 1\n",
      "Training loss: 0.3802474197370343\n"
     ]
    },
    {
     "name": "stderr",
     "output_type": "stream",
     "text": [
      " 25%|██▌       | 1/4 [35:14<1:45:44, 2114.82s/it]"
     ]
    },
    {
     "name": "stdout",
     "output_type": "stream",
     "text": [
      "Validation loss: 0.33584671069326066\n",
      "F1 Score (Weighted): 0.9061059340406411\n",
      "Accuracy: 0.9064631650750341\n"
     ]
    },
    {
     "name": "stderr",
     "output_type": "stream",
     "text": [
      " 25%|██▌       | 1/4 [1:08:09<1:45:44, 2114.82s/it]"
     ]
    },
    {
     "name": "stdout",
     "output_type": "stream",
     "text": [
      "\n",
      "Epoch 2\n",
      "Training loss: 0.20244798387373428\n"
     ]
    },
    {
     "name": "stderr",
     "output_type": "stream",
     "text": [
      " 50%|█████     | 2/4 [1:09:47<1:09:40, 2090.28s/it]"
     ]
    },
    {
     "name": "stdout",
     "output_type": "stream",
     "text": [
      "Validation loss: 0.37007447494077733\n",
      "F1 Score (Weighted): 0.9108241633647339\n",
      "Accuracy: 0.9109822646657572\n"
     ]
    },
    {
     "name": "stderr",
     "output_type": "stream",
     "text": [
      " 50%|█████     | 2/4 [1:42:04<1:09:40, 2090.28s/it]"
     ]
    },
    {
     "name": "stdout",
     "output_type": "stream",
     "text": [
      "\n",
      "Epoch 3\n",
      "Training loss: 0.11497917283306332\n"
     ]
    },
    {
     "name": "stderr",
     "output_type": "stream",
     "text": [
      " 75%|███████▌  | 3/4 [1:43:42<34:24, 2064.96s/it]  "
     ]
    },
    {
     "name": "stdout",
     "output_type": "stream",
     "text": [
      "Validation loss: 0.4469919995860859\n",
      "F1 Score (Weighted): 0.9133170210390371\n",
      "Accuracy: 0.9132844474761255\n"
     ]
    },
    {
     "name": "stderr",
     "output_type": "stream",
     "text": [
      " 75%|███████▌  | 3/4 [2:15:59<34:24, 2064.96s/it]"
     ]
    },
    {
     "name": "stdout",
     "output_type": "stream",
     "text": [
      "\n",
      "Epoch 4\n",
      "Training loss: 0.06059354923373759\n"
     ]
    },
    {
     "name": "stderr",
     "output_type": "stream",
     "text": [
      "100%|██████████| 4/4 [2:17:37<00:00, 2064.33s/it]\n"
     ]
    },
    {
     "name": "stdout",
     "output_type": "stream",
     "text": [
      "Validation loss: 0.5130159209907115\n",
      "F1 Score (Weighted): 0.9125230489543378\n",
      "Accuracy: 0.9123465211459755\n"
     ]
    },
    {
     "data": {
      "image/png": "[encoded data removed]",
      "text/plain": [
       "<Figure size 1000x500 with 1 Axes>"
      ]
     },
     "metadata": {},
     "output_type": "display_data"
    }
   ],
   "source": [
    "# import os\n",
    "# import pandas as pd\n",
    "# import random\n",
    "# import numpy as np\n",
    "# import matplotlib.pyplot as plt\n",
    "# from tqdm import tqdm\n",
    "# import nlpaug.augmenter.word as naw\n",
    "# from transformers import DistilBertTokenizer, DistilBertForSequenceClassification, AdamW, get_linear_schedule_with_warmup\n",
    "# from torch.utils.data import TensorDataset, DataLoader, RandomSampler, SequentialSampler\n",
    "# from sklearn.metrics import f1_score, accuracy_score\n",
    "# from sklearn.model_selection import train_test_split\n",
    "# import torch\n",
    "\n",
    "# # Check torch and CUDA versions\n",
    "# print(torch.__version__)  # Should display the version of PyTorch with CUDA support\n",
    "# print(torch.version.cuda)  # Should display the CUDA version\n",
    "# print(torch.backends.cudnn.version())  # Should display the cuDNN version\n",
    "# print(torch.cuda.is_available())  # Should return True if CUDA is available\n",
    "\n",
    "\n",
    "\n",
    "# Set global variables and tokenizer parameters\n",
    "SUBSAMPLE = False\n",
    "DROPOUT_RATE = 0.5\n",
    "WEIGHT_DECAY = 0.02\n",
    "SEED = 42\n",
    "LR = 2e-5\n",
    "batch_size = 12\n",
    "epochs = 4\n",
    "\n",
    "tokenizer_params = {\n",
    "    'add_special_tokens': True,     # adds [CLS] and [SEP] tags\n",
    "    'return_attention_mask': True,  # useful for distinguishing between actual data and padding\n",
    "    'pad_to_max_length': True,      # to ensure all sequences have the same length\n",
    "    'truncation': True,\n",
    "    'max_length': 256,              # set the maximum length for sequences\n",
    "    'return_tensors': 'pt'          # use 'pt' when using PyTorch, 'tf' for TensorFlow\n",
    "}\n",
    "\n",
    "# Load data\n",
    "print(\"Loading raw data...\")\n",
    "data = pd.read_csv('consumer_complaints.csv')\n",
    "data = data[['product', 'consumer_complaint_narrative']]\n",
    "data = data.dropna()\n",
    "categories_to_drop = ['Consumer Loan', 'Student loan', 'Prepaid card', 'Payday loan', 'Money transfers', 'Other financial service']\n",
    "data = data[~data['product'].isin(categories_to_drop)]\n",
    "\n",
    "# Sub-sample to speed up the training process \n",
    "if SUBSAMPLE: \n",
    "    data = data.sample(frac=0.25, random_state=SEED)\n",
    "\n",
    "# Example label dictionary for demonstration\n",
    "label_dict = {label: idx for idx, label in enumerate(data['product'].unique())}\n",
    "\n",
    "# Prepare data\n",
    "data['label'] = data['product'].replace(label_dict)\n",
    "\n",
    "# Train-test split\n",
    "X_train, X_val, y_train, y_val = train_test_split(\n",
    "    data.index.values,\n",
    "    data['label'].values,\n",
    "    test_size = 0.2,\n",
    "    random_state=SEED,\n",
    "    stratify = data['label'])\n",
    "\n",
    "# Define data type in the original dataset\n",
    "data['data_type'] = ['not_set'] * data.shape[0]\n",
    "data.loc[X_train, 'data_type'] = 'train'\n",
    "data.loc[X_val, 'data_type'] = 'val'\n",
    "\n",
    "# Initialize the tokenizer\n",
    "tokenizer = DistilBertTokenizer.from_pretrained('distilbert-base-uncased', do_lower_case=True)\n",
    "\n",
    "# Define augmenters\n",
    "aug_syn = naw.SynonymAug(aug_src='wordnet')\n",
    "aug_swap = naw.RandomWordAug(action=\"swap\")\n",
    "aug_delete = naw.RandomWordAug(action=\"delete\")\n",
    "augmenters = [aug_syn, aug_swap, aug_delete]\n",
    "\n",
    "# Function to apply data augmentation to text\n",
    "def augment_text(text, augmenters, num_augmentations=1):\n",
    "    augmented_texts = [text]\n",
    "    for _ in range(num_augmentations):\n",
    "        augmenter = random.choice(augmenters)\n",
    "        augmented_text = augmenter.augment(text)\n",
    "        augmented_texts.append(augmented_text)\n",
    "    return augmented_texts\n",
    "\n",
    "# Check class distribution (we will use data augmentation to oversample underrepresented classes)\n",
    "class_counts = data[data.data_type=='train']['product'].value_counts()\n",
    "\n",
    "# Determine maximum class count \n",
    "max_count = class_counts.max()\n",
    "\n",
    "# Augment minority classes to balance the dataset\n",
    "augmented_data = []\n",
    "for product, count in class_counts.items():\n",
    "    if count < max_count:\n",
    "        subset = data[(data['product'] == product) & (data['data_type'] == 'train')]\n",
    "        needed_samples = max_count - count\n",
    "        while needed_samples > 0:\n",
    "            for index, row in subset.iterrows():\n",
    "                if needed_samples <= 0:\n",
    "                    break\n",
    "                text = row['consumer_complaint_narrative']\n",
    "                augmented_texts = augment_text(text, augmenters, num_augmentations=1)\n",
    "                for augmented_text in augmented_texts:\n",
    "                    augmented_data.append((augmented_text, row['label']))\n",
    "                    needed_samples -= 1\n",
    "\n",
    "# Create new dataframe with augmented data and combine it with the training dataset\n",
    "augmented_df = pd.DataFrame(augmented_data, columns=['consumer_complaint_narrative', 'label'])\n",
    "train_data = pd.concat([data[data.data_type=='train'][['consumer_complaint_narrative', 'label']], augmented_df], ignore_index=True)\n",
    "\n",
    "# Ensure all entries are strings \n",
    "train_data['consumer_complaint_narrative'] = train_data['consumer_complaint_narrative'].apply(lambda x: ' '.join(x) if isinstance(x, list) else str(x))\n",
    "\n",
    "# Continue with tokenization and creating DataLoader as before\n",
    "encoded_data_train = tokenizer.batch_encode_plus(\n",
    "    train_data['consumer_complaint_narrative'].values.tolist(),\n",
    "    **tokenizer_params\n",
    ")\n",
    "\n",
    "encoded_data_val = tokenizer.batch_encode_plus(\n",
    "    data[data.data_type=='val']['consumer_complaint_narrative'].values,\n",
    "    **tokenizer_params\n",
    ")\n",
    "\n",
    "input_ids_train = encoded_data_train['input_ids']\n",
    "attention_masks_train = encoded_data_train['attention_mask']\n",
    "labels_train = torch.tensor(train_data['label'].values)\n",
    "\n",
    "input_ids_val = encoded_data_val['input_ids']\n",
    "attention_masks_val = encoded_data_val['attention_mask']\n",
    "labels_val = torch.tensor(data[data.data_type=='val']['label'].values)\n",
    "\n",
    "dataset_train = TensorDataset(input_ids_train, attention_masks_train, labels_train)\n",
    "dataset_val = TensorDataset(input_ids_val, attention_masks_val, labels_val)\n",
    "\n",
    "dataloader_train = DataLoader(dataset_train, sampler=RandomSampler(dataset_train), batch_size=batch_size)\n",
    "dataloader_validation = DataLoader(dataset_val, sampler=SequentialSampler(dataset_val), batch_size=batch_size)\n",
    "\n",
    "# Load device\n",
    "device = torch.device('cuda' if torch.cuda.is_available() else 'cpu')\n",
    "\n",
    "# Define the model with dropout\n",
    "class DistilBertForSequenceClassificationWithDropout(torch.nn.Module):\n",
    "    def __init__(self, model_name, num_labels, dropout_rate=0.3):\n",
    "        super(DistilBertForSequenceClassificationWithDropout, self).__init__()\n",
    "        self.distilbert = DistilBertForSequenceClassification.from_pretrained(model_name, num_labels=num_labels)\n",
    "        self.dropout = torch.nn.Dropout(dropout_rate)\n",
    "        self.classifier = torch.nn.Linear(self.distilbert.config.hidden_size, num_labels)\n",
    "\n",
    "    def forward(self, input_ids, attention_mask, labels=None):\n",
    "        # Get the outputs from the DistilBERT model\n",
    "        outputs = self.distilbert.distilbert(input_ids=input_ids, attention_mask=attention_mask)\n",
    "        hidden_state = outputs[0]  # (batch_size, seq_len, hidden_size)\n",
    "\n",
    "        # Apply dropout to the first token (CLS token) in the hidden state\n",
    "        pooled_output = hidden_state[:, 0]  # (batch_size, hidden_size)\n",
    "        pooled_output = self.dropout(pooled_output)\n",
    "\n",
    "        # Pass the pooled output through the classifier layer\n",
    "        logits = self.classifier(pooled_output)\n",
    "\n",
    "        # Calculate the loss if labels are provided\n",
    "        loss = None\n",
    "        if labels is not None:\n",
    "            loss_fct = torch.nn.CrossEntropyLoss()\n",
    "            loss = loss_fct(logits.view(-1, self.classifier.out_features), labels.view(-1))\n",
    "\n",
    "        return (loss, logits)\n",
    "\n",
    "model = DistilBertForSequenceClassificationWithDropout(model_name=\"distilbert-base-uncased\", num_labels=len(label_dict))\n",
    "\n",
    "model.to(device)\n",
    "\n",
    "# AdamW for Adam optimization with Weight decay\n",
    "optimizer = AdamW(model.parameters(), lr=LR, eps=1e-8, weight_decay=0.01)  # Added weight_decay for L2 regularization\n",
    "\n",
    "scheduler = get_linear_schedule_with_warmup(optimizer, num_warmup_steps=100, num_training_steps=len(dataloader_train) * epochs)\n",
    "\n",
    "# Define evaluation function\n",
    "def evaluate(dataloader_val):\n",
    "    model.eval()\n",
    "    loss_val_total = 0\n",
    "    predictions, true_vals = [], []\n",
    "\n",
    "    for batch in dataloader_val:\n",
    "        batch = tuple(b.to(device) for b in batch)\n",
    "        inputs = {\n",
    "            'input_ids': batch[0],\n",
    "            'attention_mask': batch[1],\n",
    "            'labels': batch[2],\n",
    "        }\n",
    "\n",
    "        with torch.no_grad():\n",
    "            outputs = model(**inputs)\n",
    "        loss = outputs[0]\n",
    "        logits = outputs[1]\n",
    "        loss_val_total += loss.item()\n",
    "        logits = logits.detach().cpu().numpy()\n",
    "        label_ids = inputs['labels'].cpu().numpy()\n",
    "        predictions.append(logits)\n",
    "        true_vals.append(label_ids)\n",
    "\n",
    "    loss_val_avg = loss_val_total / len(dataloader_val)\n",
    "    predictions = np.concatenate(predictions, axis=0)\n",
    "    true_vals = np.concatenate(true_vals, axis=0)\n",
    "\n",
    "    return loss_val_avg, predictions, true_vals\n",
    "\n",
    "# Initialize lists to store losses for plotting\n",
    "training_losses = []\n",
    "validation_losses = []\n",
    "\n",
    "# Ensure the directory for saving models exists\n",
    "os.makedirs('models', exist_ok=True)\n",
    "\n",
    "print(\"Starting training...\")\n",
    "# Training loop\n",
    "for epoch in tqdm(range(1, epochs+1)):\n",
    "    model.train()\n",
    "    loss_train_total = 0\n",
    "    progress_bar = tqdm(dataloader_train, desc='Epoch {:1d}'.format(epoch), leave=False, ncols=100)\n",
    "    for batch in progress_bar:\n",
    "        model.zero_grad()\n",
    "        batch = tuple(b.to(device) for b in batch)\n",
    "        inputs = {\n",
    "            'input_ids': batch[0],\n",
    "            'attention_mask': batch[1],\n",
    "            'labels': batch[2],\n",
    "        }\n",
    "        outputs = model(**inputs)\n",
    "        loss = outputs[0]\n",
    "        loss_train_total += loss.item()\n",
    "        loss.backward()\n",
    "        torch.nn.utils.clip_grad_norm_(model.parameters(), 1.0)\n",
    "        optimizer.step()\n",
    "        scheduler.step()\n",
    "        progress_bar.set_postfix({'training_loss': '{:.3f}'.format(loss.item() / len(batch))})\n",
    "\n",
    "    # Save the model at each epoch \n",
    "    torch.save(model.state_dict(), f'models/finetuned_BERT_epoch_aug_{epoch}.model')\n",
    "\n",
    "    tqdm.write(f'\\nEpoch {epoch}')\n",
    "    loss_train_avg = loss_train_total / len(dataloader_train)\n",
    "    training_losses.append(loss_train_avg)\n",
    "    tqdm.write(f'Training loss: {loss_train_avg}')\n",
    "\n",
    "    val_loss, predictions, true_vals = evaluate(dataloader_validation)\n",
    "    val_f1 = f1_score(predictions.argmax(axis=1), true_vals, average='weighted')\n",
    "    val_accuracy = accuracy_score(predictions.argmax(axis=1), true_vals)\n",
    "    validation_losses.append(val_loss)\n",
    "    tqdm.write(f'Validation loss: {val_loss}')\n",
    "    tqdm.write(f'F1 Score (Weighted): {val_f1}')\n",
    "    tqdm.write(f'Accuracy: {val_accuracy}')\n",
    "\n",
    "# Plotting the training and validation losses\n",
    "plt.figure(figsize=(10, 5))\n",
    "plt.plot(range(1, epochs + 1), training_losses, label='Training Loss')\n",
    "plt.plot(range(1, epochs + 1), validation_losses, label='Validation Loss')\n",
    "plt.xlabel('Epochs')\n",
    "plt.ylabel('Loss')\n",
    "plt.title('Training and Validation Loss Over Time')\n",
    "plt.legend()\n",
    "plt.show()\n"
   ]
  },
  {
   "cell_type": "markdown",
   "metadata": {},
   "source": [
    "Ref: \n",
    "https://towardsdatascience.com/multi-class-text-classification-with-deep-learning-using-bert-b59ca2f5c613"
   ]
  }
 ],
 "metadata": {
  "kernelspec": {
   "display_name": "env",
   "language": "python",
   "name": "python3"
  },
  "language_info": {
   "codemirror_mode": {
    "name": "ipython",
    "version": 3
   },
   "file_extension": ".py",
   "mimetype": "text/x-python",
   "name": "python",
   "nbconvert_exporter": "python",
   "pygments_lexer": "ipython3",
   "version": "3.8.3"
  }
 },
 "nbformat": 4,
 "nbformat_minor": 2
}
