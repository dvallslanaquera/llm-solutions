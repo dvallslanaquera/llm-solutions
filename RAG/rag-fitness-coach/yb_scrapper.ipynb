{
 "cells": [
  {
   "cell_type": "code",
   "execution_count": 11,
   "metadata": {},
   "outputs": [],
   "source": [
    "from pytube import YouTube\n",
    "\n",
    "yt_link = \"https://www.youtube.com/\"\n",
    "vid_id = \"u8ZoCPQN6iY\"\n",
    "\n",
    "yb = YouTube(yt_link + vid_id)"
   ]
  },
  {
   "cell_type": "markdown",
   "metadata": {},
   "source": [
    "Function to retrieve all vid ids from a YouTube channel.\n",
    "\n",
    "Pytube doesn't support channel handles such as @channel_name, so we need another package to programmatically convert channel handles to channel IDs."
   ]
  },
  {
   "cell_type": "code",
   "execution_count": 20,
   "metadata": {},
   "outputs": [
    {
     "ename": "RegexMatchError",
     "evalue": "channel_name: could not find match for patterns",
     "output_type": "error",
     "traceback": [
      "\u001b[1;31m---------------------------------------------------------------------------\u001b[0m",
      "\u001b[1;31mRegexMatchError\u001b[0m                           Traceback (most recent call last)",
      "Cell \u001b[1;32mIn[20], line 22\u001b[0m\n\u001b[0;32m     18\u001b[0m         video_ids\u001b[38;5;241m.\u001b[39mappend(vid\u001b[38;5;241m.\u001b[39mvideo_id)\n\u001b[0;32m     20\u001b[0m     \u001b[38;5;28;01mreturn\u001b[39;00m video_ids\n\u001b[1;32m---> 22\u001b[0m \u001b[43mget_video_ids\u001b[49m\u001b[43m(\u001b[49m\u001b[43mchannel_id\u001b[49m\u001b[38;5;241;43m=\u001b[39;49m\u001b[38;5;124;43m\"\u001b[39;49m\u001b[38;5;124;43mhttps://www.youtube.com/@SeanNalewanyjShorts\u001b[39;49m\u001b[38;5;124;43m\"\u001b[39;49m\u001b[43m)\u001b[49m\n",
      "Cell \u001b[1;32mIn[20], line 15\u001b[0m, in \u001b[0;36mget_video_ids\u001b[1;34m(channel_id)\u001b[0m\n\u001b[0;32m     14\u001b[0m \u001b[38;5;28;01mdef\u001b[39;00m \u001b[38;5;21mget_video_ids\u001b[39m(channel_id): \n\u001b[1;32m---> 15\u001b[0m     channel \u001b[38;5;241m=\u001b[39m \u001b[43mChannel\u001b[49m\u001b[43m(\u001b[49m\u001b[43murl\u001b[49m\u001b[38;5;241;43m=\u001b[39;49m\u001b[43mchannel_id\u001b[49m\u001b[43m)\u001b[49m\n\u001b[0;32m     16\u001b[0m     video_ids \u001b[38;5;241m=\u001b[39m []\n\u001b[0;32m     17\u001b[0m     \u001b[38;5;28;01mfor\u001b[39;00m vid \u001b[38;5;129;01min\u001b[39;00m channel\u001b[38;5;241m.\u001b[39mvideos: \n",
      "File \u001b[1;32mc:\\Users\\dvall\\llm-solutions\\.venv\\lib\\site-packages\\pytube\\contrib\\channel.py:24\u001b[0m, in \u001b[0;36mChannel.__init__\u001b[1;34m(self, url, proxies)\u001b[0m\n\u001b[0;32m     15\u001b[0m \u001b[38;5;250m\u001b[39m\u001b[38;5;124;03m\"\"\"Construct a :class:`Channel <Channel>`.\u001b[39;00m\n\u001b[0;32m     16\u001b[0m \n\u001b[0;32m     17\u001b[0m \u001b[38;5;124;03m:param str url:\u001b[39;00m\n\u001b[1;32m   (...)\u001b[0m\n\u001b[0;32m     20\u001b[0m \u001b[38;5;124;03m    (Optional) A dictionary of proxies to use for web requests.\u001b[39;00m\n\u001b[0;32m     21\u001b[0m \u001b[38;5;124;03m\"\"\"\u001b[39;00m\n\u001b[0;32m     22\u001b[0m \u001b[38;5;28msuper\u001b[39m()\u001b[38;5;241m.\u001b[39m\u001b[38;5;21m__init__\u001b[39m(url, proxies)\n\u001b[1;32m---> 24\u001b[0m \u001b[38;5;28mself\u001b[39m\u001b[38;5;241m.\u001b[39mchannel_uri \u001b[38;5;241m=\u001b[39m \u001b[43mextract\u001b[49m\u001b[38;5;241;43m.\u001b[39;49m\u001b[43mchannel_name\u001b[49m\u001b[43m(\u001b[49m\u001b[43murl\u001b[49m\u001b[43m)\u001b[49m\n\u001b[0;32m     26\u001b[0m \u001b[38;5;28mself\u001b[39m\u001b[38;5;241m.\u001b[39mchannel_url \u001b[38;5;241m=\u001b[39m (\n\u001b[0;32m     27\u001b[0m     \u001b[38;5;124mf\u001b[39m\u001b[38;5;124m\"\u001b[39m\u001b[38;5;124mhttps://www.youtube.com\u001b[39m\u001b[38;5;132;01m{\u001b[39;00m\u001b[38;5;28mself\u001b[39m\u001b[38;5;241m.\u001b[39mchannel_uri\u001b[38;5;132;01m}\u001b[39;00m\u001b[38;5;124m\"\u001b[39m\n\u001b[0;32m     28\u001b[0m )\n\u001b[0;32m     30\u001b[0m \u001b[38;5;28mself\u001b[39m\u001b[38;5;241m.\u001b[39mvideos_url \u001b[38;5;241m=\u001b[39m \u001b[38;5;28mself\u001b[39m\u001b[38;5;241m.\u001b[39mchannel_url \u001b[38;5;241m+\u001b[39m \u001b[38;5;124m'\u001b[39m\u001b[38;5;124m/videos\u001b[39m\u001b[38;5;124m'\u001b[39m\n",
      "File \u001b[1;32mc:\\Users\\dvall\\llm-solutions\\.venv\\lib\\site-packages\\pytube\\extract.py:185\u001b[0m, in \u001b[0;36mchannel_name\u001b[1;34m(url)\u001b[0m\n\u001b[0;32m    182\u001b[0m         uri_identifier \u001b[38;5;241m=\u001b[39m function_match\u001b[38;5;241m.\u001b[39mgroup(\u001b[38;5;241m2\u001b[39m)\n\u001b[0;32m    183\u001b[0m         \u001b[38;5;28;01mreturn\u001b[39;00m \u001b[38;5;124mf\u001b[39m\u001b[38;5;124m'\u001b[39m\u001b[38;5;124m/\u001b[39m\u001b[38;5;132;01m{\u001b[39;00muri_style\u001b[38;5;132;01m}\u001b[39;00m\u001b[38;5;124m/\u001b[39m\u001b[38;5;132;01m{\u001b[39;00muri_identifier\u001b[38;5;132;01m}\u001b[39;00m\u001b[38;5;124m'\u001b[39m\n\u001b[1;32m--> 185\u001b[0m \u001b[38;5;28;01mraise\u001b[39;00m RegexMatchError(\n\u001b[0;32m    186\u001b[0m     caller\u001b[38;5;241m=\u001b[39m\u001b[38;5;124m\"\u001b[39m\u001b[38;5;124mchannel_name\u001b[39m\u001b[38;5;124m\"\u001b[39m, pattern\u001b[38;5;241m=\u001b[39m\u001b[38;5;124m\"\u001b[39m\u001b[38;5;124mpatterns\u001b[39m\u001b[38;5;124m\"\u001b[39m\n\u001b[0;32m    187\u001b[0m )\n",
      "\u001b[1;31mRegexMatchError\u001b[0m: channel_name: could not find match for patterns"
     ]
    }
   ],
   "source": [
    "from pytube import Channel\n",
    "\n",
    "# Create a list with different YouTube channels about evidence based fitness\n",
    "target_channels = [\n",
    "    '@WolfCoaching',\n",
    "    '@RenaissancePeriodization',\n",
    "    '@JeffNippard',\n",
    "    '@HouseofHypertrophy',\n",
    "    '@Sean_Nalewanyj',\n",
    "    '@SeanNalewanyjShorts'\n",
    "    ]\n",
    "\n",
    "# Retrieve video ids from each channel \n",
    "def get_video_ids(channel_id): \n",
    "    channel = Channel(url=channel_id)\n",
    "    video_ids = []\n",
    "    for vid in channel.videos: \n",
    "        video_ids.append(vid.video_id)\n",
    "    \n",
    "    return video_ids\n",
    "\n",
    "get_video_ids(channel_id=\"https://www.youtube.com/@SeanNalewanyjShorts\")"
   ]
  },
  {
   "cell_type": "markdown",
   "metadata": {},
   "source": [
    "Function to download auto-generated YouTube captions"
   ]
  },
  {
   "cell_type": "code",
   "execution_count": 13,
   "metadata": {},
   "outputs": [
    {
     "name": "stdout",
     "output_type": "stream",
     "text": [
      "Captions saved to datasets/transcript_text.txt\n"
     ]
    }
   ],
   "source": [
    "from youtube_transcript_api import YouTubeTranscriptApi\n",
    "from youtube_transcript_api.formatters import TextFormatter\n",
    "\n",
    "def download_captions(video_id, output_filename):\n",
    "    try:\n",
    "        # Fetch the transcript\n",
    "        transcript = YouTubeTranscriptApi.get_transcript(video_id)\n",
    "\n",
    "        # Format the transcript as plain text\n",
    "        formatter = TextFormatter()\n",
    "        text_formatted = formatter.format_transcript(transcript)\n",
    "\n",
    "        # Save the formatted transcript to a file\n",
    "        with open(output_filename, 'w', encoding='utf-8') as f:\n",
    "            f.write(text_formatted)\n",
    "\n",
    "        print(f\"Captions saved to {output_filename}\")\n",
    "    except Exception as e:\n",
    "        print(f\"Error downloading captions: {e}\")\n",
    "        \n",
    "output_filename = 'datasets/transcript_text.txt'\n",
    "download_captions(vid_id, output_filename)"
   ]
  }
 ],
 "metadata": {
  "kernelspec": {
   "display_name": ".venv",
   "language": "python",
   "name": "python3"
  },
  "language_info": {
   "codemirror_mode": {
    "name": "ipython",
    "version": 3
   },
   "file_extension": ".py",
   "mimetype": "text/x-python",
   "name": "python",
   "nbconvert_exporter": "python",
   "pygments_lexer": "ipython3",
   "version": "3.9.9"
  }
 },
 "nbformat": 4,
 "nbformat_minor": 2
}
