{
 "cells": [
  {
   "cell_type": "code",
   "execution_count": 5,
   "metadata": {},
   "outputs": [],
   "source": [
    "# Load data for training \n",
    "folder_path = \"./data/\"\n",
    "train_str = ''\n",
    "\n",
    "# Loop through each file in the folder\n",
    "for filename in os.listdir(folder_path):\n",
    "    # Construct the full file path\n",
    "    file_path = os.path.join(folder_path, filename)\n",
    "    \n",
    "    # Check if the current file is a text file\n",
    "    if filename.endswith('.txt'):\n",
    "        # Open the text file in read mode\n",
    "        with open(file_path, 'r', encoding='utf-8') as file:\n",
    "            # Read the contents of the file and append to the all_text string\n",
    "            train_str += file.read() + \"\\n\"  # Adding a newline for separation between files\n",
    "\n",
    "# Save train_str to a text file\n",
    "output_file_path = \"train_data.txt\"\n",
    "with open(output_file_path, 'w', encoding='utf-8') as output_file:\n",
    "    output_file.write(train_str)\n"
   ]
  },
  {
   "cell_type": "code",
   "execution_count": 2,
   "metadata": {},
   "outputs": [
    {
     "name": "stderr",
     "output_type": "stream",
     "text": [
      "c:\\Users\\dvall\\llm-solutions\\.venv\\lib\\site-packages\\tqdm\\auto.py:21: TqdmWarning: IProgress not found. Please update jupyter and ipywidgets. See https://ipywidgets.readthedocs.io/en/stable/user_install.html\n",
      "  from .autonotebook import tqdm as notebook_tqdm\n",
      "You are using the default legacy behaviour of the <class 'transformers.models.t5.tokenization_t5.T5Tokenizer'>. This is expected, and simply means that the `legacy` (previous) behavior will be used so nothing changes for you. If you want to use the new behaviour, set `legacy=False`. This should only be set if you understand what it means, and thoroughly read the reason why this was added as explained in https://github.com/huggingface/transformers/pull/24565\n",
      "Special tokens have been added in the vocabulary, make sure the associated word embeddings are fine-tuned or trained.\n"
     ]
    }
   ],
   "source": [
    "import os \n",
    "from transformers import T5Tokenizer, T5ForConditionalGeneration, TextDataset \n",
    "\n",
    "# Specify the custom cache directory\n",
    "cache_dir = \"./cache\"\n",
    "\n",
    "# Load the pre-trained T5 model and tokenizer\n",
    "model = T5ForConditionalGeneration.from_pretrained('google-t5/t5-base', cache_dir=cache_dir)\n",
    "tokenizer = T5Tokenizer.from_pretrained('google-t5/t5-base', cache_dir=cache_dir)\n",
    "\n",
    "# Load data for training \n",
    "folder_path = \"./data/\"\n",
    "train_str = ''\n",
    "\n",
    "# Loop through each file in the folder\n",
    "for filename in os.listdir(folder_path):\n",
    "    # Construct the full file path\n",
    "    file_path = os.path.join(folder_path, filename)\n",
    "    \n",
    "    # Check if the current file is a text file\n",
    "    if filename.endswith('.txt'):\n",
    "        # Open the text file in read mode\n",
    "        with open(file_path, 'r', encoding='utf-8') as file:\n",
    "            # Read the contents of the file and append to the all_text string\n",
    "            train_str += file.read() + \"\\n\"  # Adding a newline for separation between files\n",
    "\n",
    "# Prepare the input for T5\n",
    "input_text = f\"generate 100 questions based on this text: {train_str}\"\n",
    "input_ids = tokenizer.encode(input_text, return_tensors='pt')\n",
    "\n",
    "# Generate questions\n",
    "outputs = model.generate(input_ids)\n",
    "questions = tokenizer.decode(outputs[0], skip_special_tokens=True)\n",
    "\n",
    "print(questions)"
   ]
  },
  {
   "cell_type": "code",
   "execution_count": 1,
   "metadata": {},
   "outputs": [
    {
     "ename": "NameError",
     "evalue": "name 'questions' is not defined",
     "output_type": "error",
     "traceback": [
      "\u001b[1;31m---------------------------------------------------------------------------\u001b[0m",
      "\u001b[1;31mNameError\u001b[0m                                 Traceback (most recent call last)",
      "Cell \u001b[1;32mIn[1], line 1\u001b[0m\n\u001b[1;32m----> 1\u001b[0m \u001b[43mquestions\u001b[49m\n",
      "\u001b[1;31mNameError\u001b[0m: name 'questions' is not defined"
     ]
    }
   ],
   "source": [
    "questions"
   ]
  }
 ],
 "metadata": {
  "kernelspec": {
   "display_name": ".venv",
   "language": "python",
   "name": "python3"
  },
  "language_info": {
   "codemirror_mode": {
    "name": "ipython",
    "version": 3
   },
   "file_extension": ".py",
   "mimetype": "text/x-python",
   "name": "python",
   "nbconvert_exporter": "python",
   "pygments_lexer": "ipython3",
   "version": "3.9.9"
  }
 },
 "nbformat": 4,
 "nbformat_minor": 2
}
