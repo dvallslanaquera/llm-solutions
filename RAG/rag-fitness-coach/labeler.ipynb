{
 "cells": [
  {
   "cell_type": "code",
   "execution_count": 5,
   "metadata": {},
   "outputs": [],
   "source": [
    "# Load data for training \n",
    "folder_path = \"./data/\"\n",
    "train_str = ''\n",
    "\n",
    "# Loop through each file in the folder\n",
    "for filename in os.listdir(folder_path):\n",
    "    # Construct the full file path\n",
    "    file_path = os.path.join(folder_path, filename)\n",
    "    \n",
    "    # Check if the current file is a text file\n",
    "    if filename.endswith('.txt'):\n",
    "        # Open the text file in read mode\n",
    "        with open(file_path, 'r', encoding='utf-8') as file:\n",
    "            # Read the contents of the file and append to the all_text string\n",
    "            train_str += file.read() + \"\\n\"  # Adding a newline for separation between files\n",
    "\n",
    "# Save train_str to a text file\n",
    "output_file_path = \"train_data.txt\"\n",
    "with open(output_file_path, 'w', encoding='utf-8') as output_file:\n",
    "    output_file.write(train_str)\n"
   ]
  },
  {
   "cell_type": "code",
   "execution_count": 9,
   "metadata": {},
   "outputs": [
    {
     "name": "stderr",
     "output_type": "stream",
     "text": [
      "Special tokens have been added in the vocabulary, make sure the associated word embeddings are fine-tuned or trained.\n"
     ]
    }
   ],
   "source": [
    "import os \n",
    "from transformers import T5Tokenizer, T5ForConditionalGeneration, TextDataset \n",
    "\n",
    "# Specify the custom cache directory\n",
    "cache_dir = \"./cache\"\n",
    "\n",
    "# Load the pre-trained T5 model and tokenizer\n",
    "model = T5ForConditionalGeneration.from_pretrained('google-t5/t5-base', cache_dir=cache_dir)\n",
    "tokenizer = T5Tokenizer.from_pretrained('google-t5/t5-base', cache_dir=cache_dir)\n",
    "\n",
    "# Load data for training \n",
    "folder_path = \"./data/\"\n",
    "train_str = ''\n",
    "\n",
    "# Loop through each file in the folder\n",
    "for filename in os.listdir(folder_path):\n",
    "    # Construct the full file path\n",
    "    file_path = os.path.join(folder_path, filename)\n",
    "    \n",
    "    # Check if the current file is a text file\n",
    "    if filename.endswith('.txt'):\n",
    "        # Open the text file in read mode\n",
    "        with open(file_path, 'r', encoding='utf-8') as file:\n",
    "            # Read the contents of the file and append to the all_text string\n",
    "            train_str += file.read() + \"\\n\"  # Adding a newline for separation between files\n",
    "\n",
    "# dataset = TextDataset( \n",
    "#         tokenizer=tokenizer, \n",
    "#         file_path=train_file, \n",
    "#         block_size=512\n",
    "# )\n",
    "\n",
    "# Prepare the input for T5\n",
    "input_text = f\"generate questions: {train_str}\"\n",
    "input_ids = tokenizer.encode(input_text, return_tensors='pt')\n",
    "\n",
    "# Generate questions\n",
    "outputs = model.generate(input_ids)\n",
    "questions = tokenizer.decode(outputs[0], skip_special_tokens=True)\n",
    "\n",
    "print(questions)"
   ]
  },
  {
   "cell_type": "code",
   "execution_count": 1,
   "metadata": {},
   "outputs": [],
   "source": [
    "questions"
   ]
  }
 ],
 "metadata": {
  "kernelspec": {
   "display_name": ".venv",
   "language": "python",
   "name": "python3"
  },
  "language_info": {
   "codemirror_mode": {
    "name": "ipython",
    "version": 3
   },
   "file_extension": ".py",
   "mimetype": "text/x-python",
   "name": "python",
   "nbconvert_exporter": "python",
   "pygments_lexer": "ipython3",
   "version": "3.9.9"
  }
 },
 "nbformat": 4,
 "nbformat_minor": 2
}
